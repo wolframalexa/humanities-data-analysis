{
  "nbformat": 4,
  "nbformat_minor": 0,
  "metadata": {
    "colab": {
      "name": "chap4.ipynb",
      "provenance": [],
      "authorship_tag": "ABX9TyPsfQEHo7REgN3BoYBr7m/d",
      "include_colab_link": true
    },
    "kernelspec": {
      "name": "python3",
      "display_name": "Python 3"
    },
    "language_info": {
      "name": "python"
    }
  },
  "cells": [
    {
      "cell_type": "markdown",
      "metadata": {
        "id": "view-in-github",
        "colab_type": "text"
      },
      "source": [
        "<a href=\"https://colab.research.google.com/github/wolframalexa/humanities-data-analysis/blob/main/chap4.ipynb\" target=\"_parent\"><img src=\"https://colab.research.google.com/assets/colab-badge.svg\" alt=\"Open In Colab\"/></a>"
      ]
    },
    {
      "cell_type": "code",
      "execution_count": 1,
      "metadata": {
        "id": "7KAnS_LAmLDH",
        "colab": {
          "base_uri": "https://localhost:8080/"
        },
        "outputId": "fbae7f34-1fae-43d9-e386-8275678cb341"
      },
      "outputs": [
        {
          "output_type": "stream",
          "name": "stdout",
          "text": [
            "OrderedDict([('year', '1880'), ('name', 'Mary'), ('sex', 'F'), ('frequency', '7065')])\n"
          ]
        }
      ],
      "source": [
        "# code from book\n",
        "\n",
        "import csv\n",
        "import urllib.request\n",
        "\n",
        "url = 'http://raw.githubusercontent.com/wolframalexa/humanities-data-analysis/main/4-tables/names.csv'\n",
        "data = urllib.request.urlopen(url);\n",
        "lines = [l.decode('utf-8') for l in data.readlines()]\n",
        "data = list(csv.DictReader(lines))\n",
        "\n",
        "print(data[0])"
      ]
    },
    {
      "cell_type": "code",
      "source": [
        "# turn frequencies from strings into ints\n",
        "cleaned_data = []\n",
        "\n",
        "for row in data:\n",
        "  row['frequency'] = int(row['frequency'])\n",
        "  row['year'] = int(row['year'])\n",
        "  cleaned_data.append(row)"
      ],
      "metadata": {
        "id": "k8ZC-2fwondq"
      },
      "execution_count": 2,
      "outputs": []
    },
    {
      "cell_type": "code",
      "source": [
        "starting_year = min(row['year'] for row in data)\n",
        "print(starting_year)\n",
        "\n",
        "ending_year = max(row['year'] for row in data)\n",
        "print(ending_year)\n",
        "print(\"Years covered:\", ending_year - starting_year + 1)"
      ],
      "metadata": {
        "colab": {
          "base_uri": "https://localhost:8080/"
        },
        "id": "g10ne04zpt5q",
        "outputId": "cabbe85d-cde9-44c8-f7bb-e30787f575ee"
      },
      "execution_count": 3,
      "outputs": [
        {
          "output_type": "stream",
          "name": "stdout",
          "text": [
            "1880\n",
            "2015\n",
            "Years covered: 136\n"
          ]
        }
      ]
    },
    {
      "cell_type": "code",
      "source": [
        "import collections\n",
        "\n",
        "# Step 1: create counter objects to store counts of girl and boy names\n",
        "# See Chapter 2 for an introduction of Counter objects\n",
        "name_counts_girls = collections.Counter()\n",
        "name_counts_boys = collections.Counter()\n",
        "\n",
        "# Step 2: iterate over the data and increment the counters\n",
        "for row in data:\n",
        "    if row['sex'] == 'F':\n",
        "        name_counts_girls[row['year']] += 1\n",
        "    else:\n",
        "        name_counts_boys[row['year']] += 1\n",
        "\n",
        "# Step 3: Loop over all years and assert the presence of at least\n",
        "# 10 girl and boy names\n",
        "for year in range(starting_year, ending_year + 1):\n",
        "    assert name_counts_girls[year] >= 10\n",
        "    assert name_counts_boys[year] >= 10"
      ],
      "metadata": {
        "id": "mUe1lMCJqN4E"
      },
      "execution_count": 4,
      "outputs": []
    },
    {
      "cell_type": "code",
      "source": [
        "# Using Pandas\n",
        "\n",
        "import pandas as pd\n",
        "\n",
        "df = pd.read_csv('http://raw.githubusercontent.com/wolframalexa/humanities-data-analysis/main/4-tables/names.csv')\n",
        "df.head(n=5)"
      ],
      "metadata": {
        "colab": {
          "base_uri": "https://localhost:8080/",
          "height": 206
        },
        "id": "fO3xDdjNqVsL",
        "outputId": "69a3ad0e-51d9-4944-9df6-e541e260a159"
      },
      "execution_count": 5,
      "outputs": [
        {
          "output_type": "execute_result",
          "data": {
            "text/html": [
              "\n",
              "  <div id=\"df-ef79bf9d-bb9e-46ec-ab9d-2d0e17f1b841\">\n",
              "    <div class=\"colab-df-container\">\n",
              "      <div>\n",
              "<style scoped>\n",
              "    .dataframe tbody tr th:only-of-type {\n",
              "        vertical-align: middle;\n",
              "    }\n",
              "\n",
              "    .dataframe tbody tr th {\n",
              "        vertical-align: top;\n",
              "    }\n",
              "\n",
              "    .dataframe thead th {\n",
              "        text-align: right;\n",
              "    }\n",
              "</style>\n",
              "<table border=\"1\" class=\"dataframe\">\n",
              "  <thead>\n",
              "    <tr style=\"text-align: right;\">\n",
              "      <th></th>\n",
              "      <th>year</th>\n",
              "      <th>name</th>\n",
              "      <th>sex</th>\n",
              "      <th>frequency</th>\n",
              "    </tr>\n",
              "  </thead>\n",
              "  <tbody>\n",
              "    <tr>\n",
              "      <th>0</th>\n",
              "      <td>1880</td>\n",
              "      <td>Mary</td>\n",
              "      <td>F</td>\n",
              "      <td>7065</td>\n",
              "    </tr>\n",
              "    <tr>\n",
              "      <th>1</th>\n",
              "      <td>1880</td>\n",
              "      <td>Anna</td>\n",
              "      <td>F</td>\n",
              "      <td>2604</td>\n",
              "    </tr>\n",
              "    <tr>\n",
              "      <th>2</th>\n",
              "      <td>1880</td>\n",
              "      <td>Emma</td>\n",
              "      <td>F</td>\n",
              "      <td>2003</td>\n",
              "    </tr>\n",
              "    <tr>\n",
              "      <th>3</th>\n",
              "      <td>1880</td>\n",
              "      <td>Elizabeth</td>\n",
              "      <td>F</td>\n",
              "      <td>1939</td>\n",
              "    </tr>\n",
              "    <tr>\n",
              "      <th>4</th>\n",
              "      <td>1880</td>\n",
              "      <td>Minnie</td>\n",
              "      <td>F</td>\n",
              "      <td>1746</td>\n",
              "    </tr>\n",
              "  </tbody>\n",
              "</table>\n",
              "</div>\n",
              "      <button class=\"colab-df-convert\" onclick=\"convertToInteractive('df-ef79bf9d-bb9e-46ec-ab9d-2d0e17f1b841')\"\n",
              "              title=\"Convert this dataframe to an interactive table.\"\n",
              "              style=\"display:none;\">\n",
              "        \n",
              "  <svg xmlns=\"http://www.w3.org/2000/svg\" height=\"24px\"viewBox=\"0 0 24 24\"\n",
              "       width=\"24px\">\n",
              "    <path d=\"M0 0h24v24H0V0z\" fill=\"none\"/>\n",
              "    <path d=\"M18.56 5.44l.94 2.06.94-2.06 2.06-.94-2.06-.94-.94-2.06-.94 2.06-2.06.94zm-11 1L8.5 8.5l.94-2.06 2.06-.94-2.06-.94L8.5 2.5l-.94 2.06-2.06.94zm10 10l.94 2.06.94-2.06 2.06-.94-2.06-.94-.94-2.06-.94 2.06-2.06.94z\"/><path d=\"M17.41 7.96l-1.37-1.37c-.4-.4-.92-.59-1.43-.59-.52 0-1.04.2-1.43.59L10.3 9.45l-7.72 7.72c-.78.78-.78 2.05 0 2.83L4 21.41c.39.39.9.59 1.41.59.51 0 1.02-.2 1.41-.59l7.78-7.78 2.81-2.81c.8-.78.8-2.07 0-2.86zM5.41 20L4 18.59l7.72-7.72 1.47 1.35L5.41 20z\"/>\n",
              "  </svg>\n",
              "      </button>\n",
              "      \n",
              "  <style>\n",
              "    .colab-df-container {\n",
              "      display:flex;\n",
              "      flex-wrap:wrap;\n",
              "      gap: 12px;\n",
              "    }\n",
              "\n",
              "    .colab-df-convert {\n",
              "      background-color: #E8F0FE;\n",
              "      border: none;\n",
              "      border-radius: 50%;\n",
              "      cursor: pointer;\n",
              "      display: none;\n",
              "      fill: #1967D2;\n",
              "      height: 32px;\n",
              "      padding: 0 0 0 0;\n",
              "      width: 32px;\n",
              "    }\n",
              "\n",
              "    .colab-df-convert:hover {\n",
              "      background-color: #E2EBFA;\n",
              "      box-shadow: 0px 1px 2px rgba(60, 64, 67, 0.3), 0px 1px 3px 1px rgba(60, 64, 67, 0.15);\n",
              "      fill: #174EA6;\n",
              "    }\n",
              "\n",
              "    [theme=dark] .colab-df-convert {\n",
              "      background-color: #3B4455;\n",
              "      fill: #D2E3FC;\n",
              "    }\n",
              "\n",
              "    [theme=dark] .colab-df-convert:hover {\n",
              "      background-color: #434B5C;\n",
              "      box-shadow: 0px 1px 3px 1px rgba(0, 0, 0, 0.15);\n",
              "      filter: drop-shadow(0px 1px 2px rgba(0, 0, 0, 0.3));\n",
              "      fill: #FFFFFF;\n",
              "    }\n",
              "  </style>\n",
              "\n",
              "      <script>\n",
              "        const buttonEl =\n",
              "          document.querySelector('#df-ef79bf9d-bb9e-46ec-ab9d-2d0e17f1b841 button.colab-df-convert');\n",
              "        buttonEl.style.display =\n",
              "          google.colab.kernel.accessAllowed ? 'block' : 'none';\n",
              "\n",
              "        async function convertToInteractive(key) {\n",
              "          const element = document.querySelector('#df-ef79bf9d-bb9e-46ec-ab9d-2d0e17f1b841');\n",
              "          const dataTable =\n",
              "            await google.colab.kernel.invokeFunction('convertToInteractive',\n",
              "                                                     [key], {});\n",
              "          if (!dataTable) return;\n",
              "\n",
              "          const docLinkHtml = 'Like what you see? Visit the ' +\n",
              "            '<a target=\"_blank\" href=https://colab.research.google.com/notebooks/data_table.ipynb>data table notebook</a>'\n",
              "            + ' to learn more about interactive tables.';\n",
              "          element.innerHTML = '';\n",
              "          dataTable['output_type'] = 'display_data';\n",
              "          await google.colab.output.renderOutput(dataTable, element);\n",
              "          const docLink = document.createElement('div');\n",
              "          docLink.innerHTML = docLinkHtml;\n",
              "          element.appendChild(docLink);\n",
              "        }\n",
              "      </script>\n",
              "    </div>\n",
              "  </div>\n",
              "  "
            ],
            "text/plain": [
              "   year       name sex  frequency\n",
              "0  1880       Mary   F       7065\n",
              "1  1880       Anna   F       2604\n",
              "2  1880       Emma   F       2003\n",
              "3  1880  Elizabeth   F       1939\n",
              "4  1880     Minnie   F       1746"
            ]
          },
          "metadata": {},
          "execution_count": 5
        }
      ]
    },
    {
      "cell_type": "code",
      "source": [
        "print(df.dtypes)"
      ],
      "metadata": {
        "colab": {
          "base_uri": "https://localhost:8080/"
        },
        "id": "ZdmflD3wqgti",
        "outputId": "46f1d370-d0cf-4745-dabd-288c63efaaff"
      },
      "execution_count": 6,
      "outputs": [
        {
          "output_type": "stream",
          "name": "stdout",
          "text": [
            "year          int64\n",
            "name         object\n",
            "sex          object\n",
            "frequency     int64\n",
            "dtype: object\n"
          ]
        }
      ]
    },
    {
      "cell_type": "code",
      "source": [
        "df['name'].head()"
      ],
      "metadata": {
        "colab": {
          "base_uri": "https://localhost:8080/"
        },
        "id": "r7SYdYxMqlLT",
        "outputId": "b7013e48-2d38-4995-e682-2127f5799fdc"
      },
      "execution_count": 7,
      "outputs": [
        {
          "output_type": "execute_result",
          "data": {
            "text/plain": [
              "0         Mary\n",
              "1         Anna\n",
              "2         Emma\n",
              "3    Elizabeth\n",
              "4       Minnie\n",
              "Name: name, dtype: object"
            ]
          },
          "metadata": {},
          "execution_count": 7
        }
      ]
    },
    {
      "cell_type": "code",
      "source": [
        "def df2ranking(df, rank_col='frequency', cutoff=20):\n",
        "    \"\"\"Transform a data frame into a popularity index.\"\"\"\n",
        "    df = df.sort_values(by=rank_col, ascending=False)\n",
        "    df = df.reset_index()\n",
        "    return df['name'][:cutoff]"
      ],
      "metadata": {
        "id": "fb_v-ahfqoHX"
      },
      "execution_count": 8,
      "outputs": []
    },
    {
      "cell_type": "code",
      "source": [
        "df = pd.read_csv('http://raw.githubusercontent.com/wolframalexa/humanities-data-analysis/main/4-tables/names.csv')\n",
        "df = df.set_index('year')\n",
        "\n",
        "girl_ranks, boy_ranks = [], []\n",
        "for year in df.index.unique():\n",
        "    for sex in ('F', 'M'):\n",
        "        if sex == 'F':\n",
        "            year_df = df.loc[year]\n",
        "            year_df.head()\n",
        "            ranking = df2ranking(year_df.loc[year_df['sex'] == sex])\n",
        "            ranking.name = year\n",
        "            girl_ranks.append(ranking)\n",
        "        else:\n",
        "            year_df = df.loc[year]\n",
        "            ranking = df2ranking(year_df.loc[year_df['sex'] == sex])\n",
        "            ranking.name = year\n",
        "            boy_ranks.append(ranking)\n",
        "\n",
        "girl_ranks = pd.DataFrame(girl_ranks)\n",
        "boy_ranks = pd.DataFrame(boy_ranks)"
      ],
      "metadata": {
        "id": "V5HYGZEwtBiw"
      },
      "execution_count": 9,
      "outputs": []
    },
    {
      "cell_type": "code",
      "source": [
        "df.reset_index().groupby('name')['year'].median().sort_values(ascending=False).head()"
      ],
      "metadata": {
        "colab": {
          "base_uri": "https://localhost:8080/"
        },
        "id": "BKt7K5gRs1GI",
        "outputId": "694054ff-7374-46db-a775-a0beca3a8b31"
      },
      "execution_count": 10,
      "outputs": [
        {
          "output_type": "execute_result",
          "data": {
            "text/plain": [
              "name\n",
              "Emere      2015.0\n",
              "Breayla    2015.0\n",
              "Milyana    2015.0\n",
              "Ronza      2015.0\n",
              "Gennady    2015.0\n",
              "Name: year, dtype: float64"
            ]
          },
          "metadata": {},
          "execution_count": 10
        }
      ]
    },
    {
      "cell_type": "code",
      "source": [
        "# old names\n",
        "df.reset_index().groupby('name')['year'].median().sort_values().head()"
      ],
      "metadata": {
        "colab": {
          "base_uri": "https://localhost:8080/"
        },
        "id": "SMt3OYmYu-XK",
        "outputId": "42b794ea-971b-4b99-b342-48fd3ed831cf"
      },
      "execution_count": 11,
      "outputs": [
        {
          "output_type": "execute_result",
          "data": {
            "text/plain": [
              "name\n",
              "Roll      1881.0\n",
              "Zilpah    1881.0\n",
              "Crete     1881.5\n",
              "Sip       1885.0\n",
              "Ng        1885.0\n",
              "Name: year, dtype: float64"
            ]
          },
          "metadata": {},
          "execution_count": 11
        }
      ]
    },
    {
      "cell_type": "code",
      "source": [
        "boy_ranks = df.loc[df.sex == 'M'].groupby(level=0).apply(df2ranking)\n",
        "girl_ranks = df.loc[df.sex == 'F'].groupby(level=0).apply(df2ranking)"
      ],
      "metadata": {
        "id": "lqEhTlBavBHz"
      },
      "execution_count": 12,
      "outputs": []
    },
    {
      "cell_type": "code",
      "source": [
        "def turnover(df):\n",
        "    \"\"\"Compute the 'turnover' for popularity rankings.\"\"\"\n",
        "    df = df.apply(set, axis=1)\n",
        "    turnovers = {}\n",
        "    for year in range(df.index.min() + 1, df.index.max() + 1):\n",
        "        name_set, prior_name_set = df.loc[year], df.loc[year - 1]\n",
        "        turnovers[year] = len(name_set.difference(prior_name_set))\n",
        "    return pd.Series(turnovers)"
      ],
      "metadata": {
        "id": "vd4VNSlhvZig"
      },
      "execution_count": 13,
      "outputs": []
    },
    {
      "cell_type": "code",
      "source": [
        "boy_turnover = turnover(boy_ranks)\n",
        "boy_turnover.head()"
      ],
      "metadata": {
        "colab": {
          "base_uri": "https://localhost:8080/"
        },
        "id": "tQhS3tXpv5qN",
        "outputId": "f20682b0-dd8d-481e-cdec-9f2bf21e9440"
      },
      "execution_count": 14,
      "outputs": [
        {
          "output_type": "execute_result",
          "data": {
            "text/plain": [
              "1881    1\n",
              "1882    1\n",
              "1883    0\n",
              "1884    1\n",
              "1885    0\n",
              "dtype: int64"
            ]
          },
          "metadata": {},
          "execution_count": 14
        }
      ]
    },
    {
      "cell_type": "code",
      "source": [
        "def turnover(df):\n",
        "    \"\"\"Compute the 'turnover' for popularity rankings.\"\"\"\n",
        "    df = df.apply(set, axis=1)\n",
        "    return (df.iloc[1:] - df.shift(1).iloc[1:]).apply(len)"
      ],
      "metadata": {
        "id": "Rtc5Px2JwG_b"
      },
      "execution_count": 15,
      "outputs": []
    },
    {
      "cell_type": "code",
      "source": [
        "boy_turnover = turnover(boy_ranks)\n",
        "girl_turnover = turnover(girl_ranks)\n",
        "girl_turnover.head()"
      ],
      "metadata": {
        "colab": {
          "base_uri": "https://localhost:8080/"
        },
        "id": "5AhUuJnPxSTA",
        "outputId": "156a13f2-dc22-4496-a0c2-caad551e2eff"
      },
      "execution_count": 16,
      "outputs": [
        {
          "output_type": "execute_result",
          "data": {
            "text/plain": [
              "year\n",
              "1881    0\n",
              "1882    2\n",
              "1883    1\n",
              "1884    1\n",
              "1885    0\n",
              "dtype: int64"
            ]
          },
          "metadata": {},
          "execution_count": 16
        }
      ]
    },
    {
      "cell_type": "code",
      "source": [
        "ax = girl_turnover.plot(\n",
        "    style='o', ylim=(-0.1, 3.1), alpha=0.7,\n",
        "    title='Annual absolute turnover (girls)'\n",
        ")\n",
        "ax.set_ylabel(\"Absolute turnover\");"
      ],
      "metadata": {
        "colab": {
          "base_uri": "https://localhost:8080/",
          "height": 295
        },
        "id": "9FsVgo--xVI-",
        "outputId": "6df04dde-d1a8-468e-8671-b5451fa54d86"
      },
      "execution_count": 17,
      "outputs": [
        {
          "output_type": "display_data",
          "data": {
            "image/png": "[encoded data removed]",
            "text/plain": [
              "<Figure size 432x288 with 1 Axes>"
            ]
          },
          "metadata": {
            "needs_background": "light"
          }
        }
      ]
    },
    {
      "cell_type": "code",
      "source": [
        "girl_turnover.plot(kind='hist');"
      ],
      "metadata": {
        "colab": {
          "base_uri": "https://localhost:8080/",
          "height": 265
        },
        "id": "16dtoWBzxk8T",
        "outputId": "e4b4f696-f4e9-4de3-f515-e5f6a74bf1a3"
      },
      "execution_count": 18,
      "outputs": [
        {
          "output_type": "display_data",
          "data": {
            "image/png": "[encoded data removed]",
            "text/plain": [
              "<Figure size 432x288 with 1 Axes>"
            ]
          },
          "metadata": {
            "needs_background": "light"
          }
        }
      ]
    },
    {
      "cell_type": "code",
      "source": [
        "girl_rm = girl_turnover.rolling(25).mean()\n",
        "ax = girl_rm.plot(title=\"Moving average turnover (girls; window = 25)\")\n",
        "ax.set_ylabel(\"Absolute turnover\");"
      ],
      "metadata": {
        "colab": {
          "base_uri": "https://localhost:8080/",
          "height": 295
        },
        "id": "YSEeGY20xrPa",
        "outputId": "2ae0ad6a-70f4-42f5-a406-91e982b5f7ba"
      },
      "execution_count": 19,
      "outputs": [
        {
          "output_type": "display_data",
          "data": {
            "image/png": "[encoded data removed]",
            "text/plain": [
              "<Figure size 432x288 with 1 Axes>"
            ]
          },
          "metadata": {
            "needs_background": "light"
          }
        }
      ]
    },
    {
      "cell_type": "code",
      "source": [
        "boy_rm = boy_turnover.rolling(25).mean()\n",
        "ax = boy_rm.plot(title=\"Moving average turnover (boys; window = 25)\")\n",
        "ax.set_ylabel(\"Absolute turnover\");"
      ],
      "metadata": {
        "colab": {
          "base_uri": "https://localhost:8080/",
          "height": 295
        },
        "id": "q7JBVr2JxtZ0",
        "outputId": "c4e846e8-832d-44dd-f0ad-abe389c6aa66"
      },
      "execution_count": 20,
      "outputs": [
        {
          "output_type": "display_data",
          "data": {
            "image/png": "[encoded data removed]",
            "text/plain": [
              "<Figure size 432x288 with 1 Axes>"
            ]
          },
          "metadata": {
            "needs_background": "light"
          }
        }
      ]
    },
    {
      "cell_type": "code",
      "source": [
        "def type_token_ratio(frequencies):\n",
        "    \"\"\"Compute the type-token ratio of the frequencies.\"\"\"\n",
        "    return len(frequencies) / frequencies.sum()\n",
        "\n",
        "\n",
        "ax = df.loc[df['sex'] == 'F'].groupby(level=0)['frequency'].apply(type_token_ratio).plot();\n",
        "ax.set_ylabel(\"type-token ratio\");"
      ],
      "metadata": {
        "colab": {
          "base_uri": "https://localhost:8080/",
          "height": 279
        },
        "id": "ZM_46Nwaxuue",
        "outputId": "fc115b50-52b3-4316-a2ca-ecd218e87e66"
      },
      "execution_count": 21,
      "outputs": [
        {
          "output_type": "display_data",
          "data": {
            "image/png": "[encoded data removed]",
            "text/plain": [
              "<Figure size 432x288 with 1 Axes>"
            ]
          },
          "metadata": {
            "needs_background": "light"
          }
        }
      ]
    },
    {
      "cell_type": "code",
      "source": [
        "import matplotlib.pyplot as plt\n",
        "\n",
        "# create an empty plot\n",
        "fig, ax = plt.subplots()\n",
        "\n",
        "for sex in ['F', 'M']:\n",
        "    counts = df.loc[df['sex'] == sex, 'frequency']\n",
        "    tt_ratios = counts.groupby(level=0).apply(type_token_ratio)\n",
        "    # Use the same axis to plot both sexes (i.e. ax=ax)\n",
        "    tt_ratios.plot(label=sex, legend=True, ax=ax)\n",
        "ax.set_ylabel(\"type-token ratio\");"
      ],
      "metadata": {
        "colab": {
          "base_uri": "https://localhost:8080/",
          "height": 279
        },
        "id": "idm1olaJyTDG",
        "outputId": "a9232f51-ef54-4715-81fa-7f0969707a6a"
      },
      "execution_count": 22,
      "outputs": [
        {
          "output_type": "display_data",
          "data": {
            "image/png": "[encoded data removed]",
            "text/plain": [
              "<Figure size 432x288 with 1 Axes>"
            ]
          },
          "metadata": {
            "needs_background": "light"
          }
        }
      ]
    },
    {
      "cell_type": "code",
      "source": [
        "def max_relative_frequency(frequencies):\n",
        "    return (frequencies / frequencies.sum()).max()\n",
        "\n",
        "# create an empty plot\n",
        "fig, ax = plt.subplots()\n",
        "\n",
        "for sex in ['F', 'M']:\n",
        "    counts = df.loc[df['sex'] == sex, 'frequency']\n",
        "    div = counts.groupby(level=0).apply(max_relative_frequency)\n",
        "    div.plot(label=sex, legend=True, ax=ax)\n",
        "ax.set_ylabel(\"Relative frequency\");"
      ],
      "metadata": {
        "colab": {
          "base_uri": "https://localhost:8080/",
          "height": 280
        },
        "id": "e9KDI-cKyWMH",
        "outputId": "daf2255a-0ffb-494b-b041-e38fdca5909a"
      },
      "execution_count": 23,
      "outputs": [
        {
          "output_type": "display_data",
          "data": {
            "image/png": "[encoded data removed]",
            "text/plain": [
              "<Figure size 432x288 with 1 Axes>"
            ]
          },
          "metadata": {
            "needs_background": "light"
          }
        }
      ]
    },
    {
      "cell_type": "code",
      "source": [
        "# boys names ending in n\n",
        "boys_names = df.loc[df['sex'] == 'M', 'name']\n",
        "boys_names.str.lower()\n",
        "boys_coda = boys_names.str.get(-1)\n",
        "boys_fd = boys_coda.groupby('year').value_counts(normalize=True)\n",
        "boys_fd.head()"
      ],
      "metadata": {
        "colab": {
          "base_uri": "https://localhost:8080/"
        },
        "id": "pFh-s78VyY2C",
        "outputId": "db66f436-4ddb-4b1f-a718-43cbad49266b"
      },
      "execution_count": 24,
      "outputs": [
        {
          "output_type": "execute_result",
          "data": {
            "text/plain": [
              "year  name\n",
              "1880  n       0.181646\n",
              "      e       0.156102\n",
              "      s       0.098392\n",
              "      y       0.095553\n",
              "      d       0.080416\n",
              "Name: name, dtype: float64"
            ]
          },
          "metadata": {},
          "execution_count": 24
        }
      ]
    },
    {
      "cell_type": "code",
      "source": [
        "boys_fd = boys_fd.unstack()\n",
        "boys_fd.head()\n"
      ],
      "metadata": {
        "colab": {
          "base_uri": "https://localhost:8080/",
          "height": 302
        },
        "id": "rVX7FyLmy8-p",
        "outputId": "6768ecc9-0c2b-491e-ac82-4eee7f4b1fe0"
      },
      "execution_count": 25,
      "outputs": [
        {
          "output_type": "execute_result",
          "data": {
            "text/html": [
              "\n",
              "  <div id=\"df-e8aaaf2c-bb12-4938-b318-d746ac9cf09a\">\n",
              "    <div class=\"colab-df-container\">\n",
              "      <div>\n",
              "<style scoped>\n",
              "    .dataframe tbody tr th:only-of-type {\n",
              "        vertical-align: middle;\n",
              "    }\n",
              "\n",
              "    .dataframe tbody tr th {\n",
              "        vertical-align: top;\n",
              "    }\n",
              "\n",
              "    .dataframe thead th {\n",
              "        text-align: right;\n",
              "    }\n",
              "</style>\n",
              "<table border=\"1\" class=\"dataframe\">\n",
              "  <thead>\n",
              "    <tr style=\"text-align: right;\">\n",
              "      <th>name</th>\n",
              "      <th>a</th>\n",
              "      <th>b</th>\n",
              "      <th>c</th>\n",
              "      <th>d</th>\n",
              "      <th>e</th>\n",
              "      <th>f</th>\n",
              "      <th>g</th>\n",
              "      <th>h</th>\n",
              "      <th>i</th>\n",
              "      <th>j</th>\n",
              "      <th>k</th>\n",
              "      <th>l</th>\n",
              "      <th>m</th>\n",
              "      <th>n</th>\n",
              "      <th>o</th>\n",
              "      <th>p</th>\n",
              "      <th>q</th>\n",
              "      <th>r</th>\n",
              "      <th>s</th>\n",
              "      <th>t</th>\n",
              "      <th>u</th>\n",
              "      <th>v</th>\n",
              "      <th>w</th>\n",
              "      <th>x</th>\n",
              "      <th>y</th>\n",
              "      <th>z</th>\n",
              "    </tr>\n",
              "    <tr>\n",
              "      <th>year</th>\n",
              "      <th></th>\n",
              "      <th></th>\n",
              "      <th></th>\n",
              "      <th></th>\n",
              "      <th></th>\n",
              "      <th></th>\n",
              "      <th></th>\n",
              "      <th></th>\n",
              "      <th></th>\n",
              "      <th></th>\n",
              "      <th></th>\n",
              "      <th></th>\n",
              "      <th></th>\n",
              "      <th></th>\n",
              "      <th></th>\n",
              "      <th></th>\n",
              "      <th></th>\n",
              "      <th></th>\n",
              "      <th></th>\n",
              "      <th></th>\n",
              "      <th></th>\n",
              "      <th></th>\n",
              "      <th></th>\n",
              "      <th></th>\n",
              "      <th></th>\n",
              "      <th></th>\n",
              "    </tr>\n",
              "  </thead>\n",
              "  <tbody>\n",
              "    <tr>\n",
              "      <th>1880</th>\n",
              "      <td>0.029328</td>\n",
              "      <td>0.006623</td>\n",
              "      <td>0.006623</td>\n",
              "      <td>0.080416</td>\n",
              "      <td>0.156102</td>\n",
              "      <td>0.006623</td>\n",
              "      <td>0.007569</td>\n",
              "      <td>0.032167</td>\n",
              "      <td>0.003784</td>\n",
              "      <td>NaN</td>\n",
              "      <td>0.018921</td>\n",
              "      <td>0.070009</td>\n",
              "      <td>0.026490</td>\n",
              "      <td>0.181646</td>\n",
              "      <td>0.030274</td>\n",
              "      <td>0.003784</td>\n",
              "      <td>NaN</td>\n",
              "      <td>0.068117</td>\n",
              "      <td>0.098392</td>\n",
              "      <td>0.060549</td>\n",
              "      <td>0.002838</td>\n",
              "      <td>0.000946</td>\n",
              "      <td>0.006623</td>\n",
              "      <td>0.003784</td>\n",
              "      <td>0.095553</td>\n",
              "      <td>0.002838</td>\n",
              "    </tr>\n",
              "    <tr>\n",
              "      <th>1881</th>\n",
              "      <td>0.027108</td>\n",
              "      <td>0.006024</td>\n",
              "      <td>0.008032</td>\n",
              "      <td>0.076305</td>\n",
              "      <td>0.148594</td>\n",
              "      <td>0.005020</td>\n",
              "      <td>0.012048</td>\n",
              "      <td>0.033133</td>\n",
              "      <td>0.003012</td>\n",
              "      <td>NaN</td>\n",
              "      <td>0.017068</td>\n",
              "      <td>0.068273</td>\n",
              "      <td>0.026104</td>\n",
              "      <td>0.184739</td>\n",
              "      <td>0.029116</td>\n",
              "      <td>0.006024</td>\n",
              "      <td>NaN</td>\n",
              "      <td>0.072289</td>\n",
              "      <td>0.098394</td>\n",
              "      <td>0.068273</td>\n",
              "      <td>0.002008</td>\n",
              "      <td>0.001004</td>\n",
              "      <td>0.006024</td>\n",
              "      <td>0.005020</td>\n",
              "      <td>0.095382</td>\n",
              "      <td>0.001004</td>\n",
              "    </tr>\n",
              "    <tr>\n",
              "      <th>1882</th>\n",
              "      <td>0.025501</td>\n",
              "      <td>0.006375</td>\n",
              "      <td>0.006375</td>\n",
              "      <td>0.080146</td>\n",
              "      <td>0.166667</td>\n",
              "      <td>0.007286</td>\n",
              "      <td>0.008197</td>\n",
              "      <td>0.033698</td>\n",
              "      <td>0.002732</td>\n",
              "      <td>NaN</td>\n",
              "      <td>0.016393</td>\n",
              "      <td>0.070128</td>\n",
              "      <td>0.025501</td>\n",
              "      <td>0.175774</td>\n",
              "      <td>0.030965</td>\n",
              "      <td>0.003643</td>\n",
              "      <td>NaN</td>\n",
              "      <td>0.067395</td>\n",
              "      <td>0.093807</td>\n",
              "      <td>0.062842</td>\n",
              "      <td>0.000911</td>\n",
              "      <td>0.000911</td>\n",
              "      <td>0.007286</td>\n",
              "      <td>0.004554</td>\n",
              "      <td>0.100182</td>\n",
              "      <td>0.002732</td>\n",
              "    </tr>\n",
              "    <tr>\n",
              "      <th>1883</th>\n",
              "      <td>0.028183</td>\n",
              "      <td>0.004859</td>\n",
              "      <td>0.006803</td>\n",
              "      <td>0.082604</td>\n",
              "      <td>0.158406</td>\n",
              "      <td>0.006803</td>\n",
              "      <td>0.008746</td>\n",
              "      <td>0.030126</td>\n",
              "      <td>0.001944</td>\n",
              "      <td>NaN</td>\n",
              "      <td>0.016521</td>\n",
              "      <td>0.076774</td>\n",
              "      <td>0.028183</td>\n",
              "      <td>0.176871</td>\n",
              "      <td>0.028183</td>\n",
              "      <td>0.005831</td>\n",
              "      <td>NaN</td>\n",
              "      <td>0.066084</td>\n",
              "      <td>0.099125</td>\n",
              "      <td>0.062196</td>\n",
              "      <td>0.001944</td>\n",
              "      <td>0.000972</td>\n",
              "      <td>0.008746</td>\n",
              "      <td>0.004859</td>\n",
              "      <td>0.094266</td>\n",
              "      <td>0.000972</td>\n",
              "    </tr>\n",
              "    <tr>\n",
              "      <th>1884</th>\n",
              "      <td>0.028444</td>\n",
              "      <td>0.008889</td>\n",
              "      <td>0.006222</td>\n",
              "      <td>0.080000</td>\n",
              "      <td>0.155556</td>\n",
              "      <td>0.005333</td>\n",
              "      <td>0.007111</td>\n",
              "      <td>0.031111</td>\n",
              "      <td>0.001778</td>\n",
              "      <td>NaN</td>\n",
              "      <td>0.017778</td>\n",
              "      <td>0.065778</td>\n",
              "      <td>0.024889</td>\n",
              "      <td>0.186667</td>\n",
              "      <td>0.027556</td>\n",
              "      <td>0.004444</td>\n",
              "      <td>NaN</td>\n",
              "      <td>0.073778</td>\n",
              "      <td>0.097778</td>\n",
              "      <td>0.061333</td>\n",
              "      <td>0.001778</td>\n",
              "      <td>0.000889</td>\n",
              "      <td>0.006222</td>\n",
              "      <td>0.003556</td>\n",
              "      <td>0.100444</td>\n",
              "      <td>0.002667</td>\n",
              "    </tr>\n",
              "  </tbody>\n",
              "</table>\n",
              "</div>\n",
              "      <button class=\"colab-df-convert\" onclick=\"convertToInteractive('df-e8aaaf2c-bb12-4938-b318-d746ac9cf09a')\"\n",
              "              title=\"Convert this dataframe to an interactive table.\"\n",
              "              style=\"display:none;\">\n",
              "        \n",
              "  <svg xmlns=\"http://www.w3.org/2000/svg\" height=\"24px\"viewBox=\"0 0 24 24\"\n",
              "       width=\"24px\">\n",
              "    <path d=\"M0 0h24v24H0V0z\" fill=\"none\"/>\n",
              "    <path d=\"M18.56 5.44l.94 2.06.94-2.06 2.06-.94-2.06-.94-.94-2.06-.94 2.06-2.06.94zm-11 1L8.5 8.5l.94-2.06 2.06-.94-2.06-.94L8.5 2.5l-.94 2.06-2.06.94zm10 10l.94 2.06.94-2.06 2.06-.94-2.06-.94-.94-2.06-.94 2.06-2.06.94z\"/><path d=\"M17.41 7.96l-1.37-1.37c-.4-.4-.92-.59-1.43-.59-.52 0-1.04.2-1.43.59L10.3 9.45l-7.72 7.72c-.78.78-.78 2.05 0 2.83L4 21.41c.39.39.9.59 1.41.59.51 0 1.02-.2 1.41-.59l7.78-7.78 2.81-2.81c.8-.78.8-2.07 0-2.86zM5.41 20L4 18.59l7.72-7.72 1.47 1.35L5.41 20z\"/>\n",
              "  </svg>\n",
              "      </button>\n",
              "      \n",
              "  <style>\n",
              "    .colab-df-container {\n",
              "      display:flex;\n",
              "      flex-wrap:wrap;\n",
              "      gap: 12px;\n",
              "    }\n",
              "\n",
              "    .colab-df-convert {\n",
              "      background-color: #E8F0FE;\n",
              "      border: none;\n",
              "      border-radius: 50%;\n",
              "      cursor: pointer;\n",
              "      display: none;\n",
              "      fill: #1967D2;\n",
              "      height: 32px;\n",
              "      padding: 0 0 0 0;\n",
              "      width: 32px;\n",
              "    }\n",
              "\n",
              "    .colab-df-convert:hover {\n",
              "      background-color: #E2EBFA;\n",
              "      box-shadow: 0px 1px 2px rgba(60, 64, 67, 0.3), 0px 1px 3px 1px rgba(60, 64, 67, 0.15);\n",
              "      fill: #174EA6;\n",
              "    }\n",
              "\n",
              "    [theme=dark] .colab-df-convert {\n",
              "      background-color: #3B4455;\n",
              "      fill: #D2E3FC;\n",
              "    }\n",
              "\n",
              "    [theme=dark] .colab-df-convert:hover {\n",
              "      background-color: #434B5C;\n",
              "      box-shadow: 0px 1px 3px 1px rgba(0, 0, 0, 0.15);\n",
              "      filter: drop-shadow(0px 1px 2px rgba(0, 0, 0, 0.3));\n",
              "      fill: #FFFFFF;\n",
              "    }\n",
              "  </style>\n",
              "\n",
              "      <script>\n",
              "        const buttonEl =\n",
              "          document.querySelector('#df-e8aaaf2c-bb12-4938-b318-d746ac9cf09a button.colab-df-convert');\n",
              "        buttonEl.style.display =\n",
              "          google.colab.kernel.accessAllowed ? 'block' : 'none';\n",
              "\n",
              "        async function convertToInteractive(key) {\n",
              "          const element = document.querySelector('#df-e8aaaf2c-bb12-4938-b318-d746ac9cf09a');\n",
              "          const dataTable =\n",
              "            await google.colab.kernel.invokeFunction('convertToInteractive',\n",
              "                                                     [key], {});\n",
              "          if (!dataTable) return;\n",
              "\n",
              "          const docLinkHtml = 'Like what you see? Visit the ' +\n",
              "            '<a target=\"_blank\" href=https://colab.research.google.com/notebooks/data_table.ipynb>data table notebook</a>'\n",
              "            + ' to learn more about interactive tables.';\n",
              "          element.innerHTML = '';\n",
              "          dataTable['output_type'] = 'display_data';\n",
              "          await google.colab.output.renderOutput(dataTable, element);\n",
              "          const docLink = document.createElement('div');\n",
              "          docLink.innerHTML = docLinkHtml;\n",
              "          element.appendChild(docLink);\n",
              "        }\n",
              "      </script>\n",
              "    </div>\n",
              "  </div>\n",
              "  "
            ],
            "text/plain": [
              "name         a         b         c  ...         x         y         z\n",
              "year                                ...                              \n",
              "1880  0.029328  0.006623  0.006623  ...  0.003784  0.095553  0.002838\n",
              "1881  0.027108  0.006024  0.008032  ...  0.005020  0.095382  0.001004\n",
              "1882  0.025501  0.006375  0.006375  ...  0.004554  0.100182  0.002732\n",
              "1883  0.028183  0.004859  0.006803  ...  0.004859  0.094266  0.000972\n",
              "1884  0.028444  0.008889  0.006222  ...  0.003556  0.100444  0.002667\n",
              "\n",
              "[5 rows x 26 columns]"
            ]
          },
          "metadata": {},
          "execution_count": 25
        }
      ]
    },
    {
      "cell_type": "code",
      "source": [
        "fig, axes = plt.subplots(\n",
        "    nrows=2, ncols=4, sharey=True, figsize=(12, 6))\n",
        "\n",
        "letters = [\"a\", \"d\", \"e\", \"i\", \"n\", \"o\", \"s\", \"t\"]\n",
        "axes = boys_fd[letters].plot(\n",
        "    subplots=True, ax=axes, title=letters, color='C0', grid=True, legend=False)\n",
        "\n",
        "# The x-axis of each subplots is labeled with 'year'.\n",
        "# We remove those and add one main x-axis label\n",
        "for ax in axes.flatten():\n",
        "    ax.xaxis.label.set_visible(False)\n",
        "fig.text(0.5, 0.04, \"year\", ha=\"center\", va=\"center\", fontsize=\"x-large\")\n",
        "# Reserve some additional height for space between subplots\n",
        "fig.subplots_adjust(hspace=0.5);"
      ],
      "metadata": {
        "colab": {
          "base_uri": "https://localhost:8080/",
          "height": 472
        },
        "id": "SON9CFgqzKAo",
        "outputId": "f32a096f-16a7-4d40-973b-89a8904c5da8"
      },
      "execution_count": 26,
      "outputs": [
        {
          "output_type": "stream",
          "name": "stderr",
          "text": [
            "/usr/local/lib/python3.7/dist-packages/pandas/plotting/_matplotlib/style.py:64: MatplotlibDeprecationWarning: Support for uppercase single-letter colors is deprecated since Matplotlib 3.1 and will be removed in 3.3; please use lowercase instead.\n",
            "  [conv.to_rgba(c) for c in colors]\n"
          ]
        },
        {
          "output_type": "display_data",
          "data": {
            "image/png": "[encoded data removed]",
            "text/plain": [
              "<Figure size 864x432 with 8 Axes>"
            ]
          },
          "metadata": {
            "needs_background": "light"
          }
        }
      ]
    },
    {
      "cell_type": "code",
      "source": [
        "# Unisex names in the US\n",
        "\n",
        "def usage_ratio(df):\n",
        "    \"\"\"Compute the usage ratio for unixes names.\"\"\"\n",
        "    df = df.loc[df.duplicated(subset='name', keep=False)]\n",
        "    df = df.pivot_table(values='frequency', index='name', columns='sex')\n",
        "    return df['F'] / (df['F'] + df['M'])\n",
        "\n",
        "d = df.groupby(level=0).apply(usage_ratio)\n",
        "d.head()"
      ],
      "metadata": {
        "colab": {
          "base_uri": "https://localhost:8080/"
        },
        "id": "-ogAOqE6zUsI",
        "outputId": "cae37249-a1f0-441b-ce63-e53f0d42f43c"
      },
      "execution_count": 27,
      "outputs": [
        {
          "output_type": "execute_result",
          "data": {
            "text/plain": [
              "year  name \n",
              "1880  Addie    0.971631\n",
              "      Allie    0.772059\n",
              "      Alma     0.951890\n",
              "      Alpha    0.812500\n",
              "      Alva     0.195402\n",
              "dtype: float64"
            ]
          },
          "metadata": {},
          "execution_count": 27
        }
      ]
    },
    {
      "cell_type": "code",
      "source": [
        "d = d.unstack(level='name')\n",
        "d.tail()"
      ],
      "metadata": {
        "colab": {
          "base_uri": "https://localhost:8080/",
          "height": 331
        },
        "id": "Mq4RvZJ-z3Zu",
        "outputId": "95b36f02-3a42-4ed8-b6b0-253ea6383585"
      },
      "execution_count": 28,
      "outputs": [
        {
          "output_type": "execute_result",
          "data": {
            "text/html": [
              "\n",
              "  <div id=\"df-291b3fa9-aee5-4369-b471-da6f95fd65f4\">\n",
              "    <div class=\"colab-df-container\">\n",
              "      <div>\n",
              "<style scoped>\n",
              "    .dataframe tbody tr th:only-of-type {\n",
              "        vertical-align: middle;\n",
              "    }\n",
              "\n",
              "    .dataframe tbody tr th {\n",
              "        vertical-align: top;\n",
              "    }\n",
              "\n",
              "    .dataframe thead th {\n",
              "        text-align: right;\n",
              "    }\n",
              "</style>\n",
              "<table border=\"1\" class=\"dataframe\">\n",
              "  <thead>\n",
              "    <tr style=\"text-align: right;\">\n",
              "      <th>name</th>\n",
              "      <th>Aaden</th>\n",
              "      <th>Aadi</th>\n",
              "      <th>Aadyn</th>\n",
              "      <th>Aalijah</th>\n",
              "      <th>Aaliyah</th>\n",
              "      <th>Aamari</th>\n",
              "      <th>Aamir</th>\n",
              "      <th>Aaren</th>\n",
              "      <th>Aarian</th>\n",
              "      <th>Aarin</th>\n",
              "      <th>Aarion</th>\n",
              "      <th>Aaris</th>\n",
              "      <th>Aaron</th>\n",
              "      <th>Aarya</th>\n",
              "      <th>Aaryan</th>\n",
              "      <th>Aaryn</th>\n",
              "      <th>Aayden</th>\n",
              "      <th>Abbey</th>\n",
              "      <th>Abbie</th>\n",
              "      <th>Abbigail</th>\n",
              "      <th>Abbott</th>\n",
              "      <th>Abby</th>\n",
              "      <th>Abdi</th>\n",
              "      <th>Abeer</th>\n",
              "      <th>Abel</th>\n",
              "      <th>Abey</th>\n",
              "      <th>Abi</th>\n",
              "      <th>Abie</th>\n",
              "      <th>Abiel</th>\n",
              "      <th>Abigael</th>\n",
              "      <th>Abigail</th>\n",
              "      <th>Abigayle</th>\n",
              "      <th>Abijah</th>\n",
              "      <th>Abiola</th>\n",
              "      <th>Abir</th>\n",
              "      <th>Abisai</th>\n",
              "      <th>Abishai</th>\n",
              "      <th>Abraham</th>\n",
              "      <th>Abrar</th>\n",
              "      <th>Abriel</th>\n",
              "      <th>...</th>\n",
              "      <th>Zi</th>\n",
              "      <th>Zia</th>\n",
              "      <th>Ziah</th>\n",
              "      <th>Ziaire</th>\n",
              "      <th>Zian</th>\n",
              "      <th>Ziare</th>\n",
              "      <th>Ziel</th>\n",
              "      <th>Ziggy</th>\n",
              "      <th>Zihan</th>\n",
              "      <th>Zikora</th>\n",
              "      <th>Zimri</th>\n",
              "      <th>Zina</th>\n",
              "      <th>Zion</th>\n",
              "      <th>Zixuan</th>\n",
              "      <th>Ziya</th>\n",
              "      <th>Ziyah</th>\n",
              "      <th>Ziyan</th>\n",
              "      <th>Ziyi</th>\n",
              "      <th>Ziyon</th>\n",
              "      <th>Zo</th>\n",
              "      <th>Zoe</th>\n",
              "      <th>Zoel</th>\n",
              "      <th>Zoey</th>\n",
              "      <th>Zohar</th>\n",
              "      <th>Zola</th>\n",
              "      <th>Zollie</th>\n",
              "      <th>Zong</th>\n",
              "      <th>Zora</th>\n",
              "      <th>Zuri</th>\n",
              "      <th>Zuriah</th>\n",
              "      <th>Zuriel</th>\n",
              "      <th>Zyah</th>\n",
              "      <th>Zyair</th>\n",
              "      <th>Zyaire</th>\n",
              "      <th>Zyan</th>\n",
              "      <th>Zyian</th>\n",
              "      <th>Zyien</th>\n",
              "      <th>Zyion</th>\n",
              "      <th>Zyon</th>\n",
              "      <th>Zyree</th>\n",
              "    </tr>\n",
              "    <tr>\n",
              "      <th>year</th>\n",
              "      <th></th>\n",
              "      <th></th>\n",
              "      <th></th>\n",
              "      <th></th>\n",
              "      <th></th>\n",
              "      <th></th>\n",
              "      <th></th>\n",
              "      <th></th>\n",
              "      <th></th>\n",
              "      <th></th>\n",
              "      <th></th>\n",
              "      <th></th>\n",
              "      <th></th>\n",
              "      <th></th>\n",
              "      <th></th>\n",
              "      <th></th>\n",
              "      <th></th>\n",
              "      <th></th>\n",
              "      <th></th>\n",
              "      <th></th>\n",
              "      <th></th>\n",
              "      <th></th>\n",
              "      <th></th>\n",
              "      <th></th>\n",
              "      <th></th>\n",
              "      <th></th>\n",
              "      <th></th>\n",
              "      <th></th>\n",
              "      <th></th>\n",
              "      <th></th>\n",
              "      <th></th>\n",
              "      <th></th>\n",
              "      <th></th>\n",
              "      <th></th>\n",
              "      <th></th>\n",
              "      <th></th>\n",
              "      <th></th>\n",
              "      <th></th>\n",
              "      <th></th>\n",
              "      <th></th>\n",
              "      <th></th>\n",
              "      <th></th>\n",
              "      <th></th>\n",
              "      <th></th>\n",
              "      <th></th>\n",
              "      <th></th>\n",
              "      <th></th>\n",
              "      <th></th>\n",
              "      <th></th>\n",
              "      <th></th>\n",
              "      <th></th>\n",
              "      <th></th>\n",
              "      <th></th>\n",
              "      <th></th>\n",
              "      <th></th>\n",
              "      <th></th>\n",
              "      <th></th>\n",
              "      <th></th>\n",
              "      <th></th>\n",
              "      <th></th>\n",
              "      <th></th>\n",
              "      <th></th>\n",
              "      <th></th>\n",
              "      <th></th>\n",
              "      <th></th>\n",
              "      <th></th>\n",
              "      <th></th>\n",
              "      <th></th>\n",
              "      <th></th>\n",
              "      <th></th>\n",
              "      <th></th>\n",
              "      <th></th>\n",
              "      <th></th>\n",
              "      <th></th>\n",
              "      <th></th>\n",
              "      <th></th>\n",
              "      <th></th>\n",
              "      <th></th>\n",
              "      <th></th>\n",
              "      <th></th>\n",
              "      <th></th>\n",
              "    </tr>\n",
              "  </thead>\n",
              "  <tbody>\n",
              "    <tr>\n",
              "      <th>2011</th>\n",
              "      <td>NaN</td>\n",
              "      <td>NaN</td>\n",
              "      <td>NaN</td>\n",
              "      <td>0.318182</td>\n",
              "      <td>NaN</td>\n",
              "      <td>0.428571</td>\n",
              "      <td>NaN</td>\n",
              "      <td>NaN</td>\n",
              "      <td>NaN</td>\n",
              "      <td>NaN</td>\n",
              "      <td>NaN</td>\n",
              "      <td>NaN</td>\n",
              "      <td>0.002752</td>\n",
              "      <td>0.878049</td>\n",
              "      <td>NaN</td>\n",
              "      <td>0.583333</td>\n",
              "      <td>0.032895</td>\n",
              "      <td>NaN</td>\n",
              "      <td>NaN</td>\n",
              "      <td>NaN</td>\n",
              "      <td>NaN</td>\n",
              "      <td>NaN</td>\n",
              "      <td>NaN</td>\n",
              "      <td>NaN</td>\n",
              "      <td>0.005291</td>\n",
              "      <td>NaN</td>\n",
              "      <td>NaN</td>\n",
              "      <td>NaN</td>\n",
              "      <td>NaN</td>\n",
              "      <td>NaN</td>\n",
              "      <td>0.998416</td>\n",
              "      <td>NaN</td>\n",
              "      <td>0.384615</td>\n",
              "      <td>NaN</td>\n",
              "      <td>0.26087</td>\n",
              "      <td>NaN</td>\n",
              "      <td>NaN</td>\n",
              "      <td>NaN</td>\n",
              "      <td>0.581395</td>\n",
              "      <td>0.477273</td>\n",
              "      <td>...</td>\n",
              "      <td>NaN</td>\n",
              "      <td>0.872000</td>\n",
              "      <td>0.681818</td>\n",
              "      <td>0.161290</td>\n",
              "      <td>0.282051</td>\n",
              "      <td>NaN</td>\n",
              "      <td>NaN</td>\n",
              "      <td>NaN</td>\n",
              "      <td>NaN</td>\n",
              "      <td>NaN</td>\n",
              "      <td>NaN</td>\n",
              "      <td>NaN</td>\n",
              "      <td>0.245195</td>\n",
              "      <td>NaN</td>\n",
              "      <td>NaN</td>\n",
              "      <td>NaN</td>\n",
              "      <td>0.695652</td>\n",
              "      <td>NaN</td>\n",
              "      <td>0.194030</td>\n",
              "      <td>NaN</td>\n",
              "      <td>0.997781</td>\n",
              "      <td>NaN</td>\n",
              "      <td>0.998127</td>\n",
              "      <td>NaN</td>\n",
              "      <td>NaN</td>\n",
              "      <td>NaN</td>\n",
              "      <td>NaN</td>\n",
              "      <td>NaN</td>\n",
              "      <td>0.939940</td>\n",
              "      <td>NaN</td>\n",
              "      <td>0.131579</td>\n",
              "      <td>NaN</td>\n",
              "      <td>0.187500</td>\n",
              "      <td>0.154206</td>\n",
              "      <td>0.220779</td>\n",
              "      <td>0.571429</td>\n",
              "      <td>NaN</td>\n",
              "      <td>0.153153</td>\n",
              "      <td>0.155080</td>\n",
              "      <td>NaN</td>\n",
              "    </tr>\n",
              "    <tr>\n",
              "      <th>2012</th>\n",
              "      <td>NaN</td>\n",
              "      <td>0.081967</td>\n",
              "      <td>NaN</td>\n",
              "      <td>0.333333</td>\n",
              "      <td>0.998729</td>\n",
              "      <td>NaN</td>\n",
              "      <td>NaN</td>\n",
              "      <td>NaN</td>\n",
              "      <td>0.333333</td>\n",
              "      <td>0.187500</td>\n",
              "      <td>NaN</td>\n",
              "      <td>NaN</td>\n",
              "      <td>0.002785</td>\n",
              "      <td>0.891304</td>\n",
              "      <td>NaN</td>\n",
              "      <td>0.581818</td>\n",
              "      <td>NaN</td>\n",
              "      <td>NaN</td>\n",
              "      <td>NaN</td>\n",
              "      <td>NaN</td>\n",
              "      <td>0.113636</td>\n",
              "      <td>NaN</td>\n",
              "      <td>NaN</td>\n",
              "      <td>0.533333</td>\n",
              "      <td>NaN</td>\n",
              "      <td>NaN</td>\n",
              "      <td>0.782609</td>\n",
              "      <td>NaN</td>\n",
              "      <td>0.101695</td>\n",
              "      <td>NaN</td>\n",
              "      <td>0.998976</td>\n",
              "      <td>NaN</td>\n",
              "      <td>0.538462</td>\n",
              "      <td>NaN</td>\n",
              "      <td>NaN</td>\n",
              "      <td>NaN</td>\n",
              "      <td>0.545455</td>\n",
              "      <td>0.002558</td>\n",
              "      <td>0.645161</td>\n",
              "      <td>0.531250</td>\n",
              "      <td>...</td>\n",
              "      <td>NaN</td>\n",
              "      <td>0.889655</td>\n",
              "      <td>0.829268</td>\n",
              "      <td>NaN</td>\n",
              "      <td>0.162162</td>\n",
              "      <td>NaN</td>\n",
              "      <td>0.454545</td>\n",
              "      <td>NaN</td>\n",
              "      <td>NaN</td>\n",
              "      <td>0.375</td>\n",
              "      <td>NaN</td>\n",
              "      <td>NaN</td>\n",
              "      <td>0.188098</td>\n",
              "      <td>NaN</td>\n",
              "      <td>NaN</td>\n",
              "      <td>NaN</td>\n",
              "      <td>0.529412</td>\n",
              "      <td>NaN</td>\n",
              "      <td>0.120000</td>\n",
              "      <td>NaN</td>\n",
              "      <td>0.997369</td>\n",
              "      <td>NaN</td>\n",
              "      <td>0.998795</td>\n",
              "      <td>0.437500</td>\n",
              "      <td>NaN</td>\n",
              "      <td>NaN</td>\n",
              "      <td>NaN</td>\n",
              "      <td>NaN</td>\n",
              "      <td>0.960177</td>\n",
              "      <td>NaN</td>\n",
              "      <td>0.244186</td>\n",
              "      <td>NaN</td>\n",
              "      <td>0.131148</td>\n",
              "      <td>0.177083</td>\n",
              "      <td>0.161290</td>\n",
              "      <td>0.470588</td>\n",
              "      <td>NaN</td>\n",
              "      <td>0.144737</td>\n",
              "      <td>0.257426</td>\n",
              "      <td>NaN</td>\n",
              "    </tr>\n",
              "    <tr>\n",
              "      <th>2013</th>\n",
              "      <td>NaN</td>\n",
              "      <td>0.078947</td>\n",
              "      <td>NaN</td>\n",
              "      <td>0.500000</td>\n",
              "      <td>0.997705</td>\n",
              "      <td>0.333333</td>\n",
              "      <td>0.042553</td>\n",
              "      <td>NaN</td>\n",
              "      <td>0.208333</td>\n",
              "      <td>NaN</td>\n",
              "      <td>NaN</td>\n",
              "      <td>NaN</td>\n",
              "      <td>0.001507</td>\n",
              "      <td>0.882979</td>\n",
              "      <td>0.053571</td>\n",
              "      <td>0.775000</td>\n",
              "      <td>NaN</td>\n",
              "      <td>NaN</td>\n",
              "      <td>NaN</td>\n",
              "      <td>NaN</td>\n",
              "      <td>NaN</td>\n",
              "      <td>NaN</td>\n",
              "      <td>NaN</td>\n",
              "      <td>0.545455</td>\n",
              "      <td>0.003125</td>\n",
              "      <td>NaN</td>\n",
              "      <td>NaN</td>\n",
              "      <td>NaN</td>\n",
              "      <td>0.071429</td>\n",
              "      <td>NaN</td>\n",
              "      <td>0.998710</td>\n",
              "      <td>NaN</td>\n",
              "      <td>0.307692</td>\n",
              "      <td>0.5</td>\n",
              "      <td>NaN</td>\n",
              "      <td>NaN</td>\n",
              "      <td>NaN</td>\n",
              "      <td>0.002706</td>\n",
              "      <td>0.631579</td>\n",
              "      <td>0.212766</td>\n",
              "      <td>...</td>\n",
              "      <td>NaN</td>\n",
              "      <td>0.894040</td>\n",
              "      <td>0.647059</td>\n",
              "      <td>NaN</td>\n",
              "      <td>0.166667</td>\n",
              "      <td>NaN</td>\n",
              "      <td>NaN</td>\n",
              "      <td>NaN</td>\n",
              "      <td>NaN</td>\n",
              "      <td>NaN</td>\n",
              "      <td>NaN</td>\n",
              "      <td>NaN</td>\n",
              "      <td>0.177044</td>\n",
              "      <td>NaN</td>\n",
              "      <td>NaN</td>\n",
              "      <td>0.884615</td>\n",
              "      <td>0.500000</td>\n",
              "      <td>NaN</td>\n",
              "      <td>0.222222</td>\n",
              "      <td>NaN</td>\n",
              "      <td>0.997492</td>\n",
              "      <td>0.357143</td>\n",
              "      <td>0.998756</td>\n",
              "      <td>0.538462</td>\n",
              "      <td>NaN</td>\n",
              "      <td>NaN</td>\n",
              "      <td>NaN</td>\n",
              "      <td>NaN</td>\n",
              "      <td>0.975862</td>\n",
              "      <td>NaN</td>\n",
              "      <td>0.220930</td>\n",
              "      <td>NaN</td>\n",
              "      <td>0.138889</td>\n",
              "      <td>0.168269</td>\n",
              "      <td>0.260274</td>\n",
              "      <td>NaN</td>\n",
              "      <td>NaN</td>\n",
              "      <td>0.225352</td>\n",
              "      <td>0.147239</td>\n",
              "      <td>0.5</td>\n",
              "    </tr>\n",
              "    <tr>\n",
              "      <th>2014</th>\n",
              "      <td>NaN</td>\n",
              "      <td>NaN</td>\n",
              "      <td>NaN</td>\n",
              "      <td>0.363636</td>\n",
              "      <td>0.998975</td>\n",
              "      <td>0.400000</td>\n",
              "      <td>NaN</td>\n",
              "      <td>NaN</td>\n",
              "      <td>0.350000</td>\n",
              "      <td>0.166667</td>\n",
              "      <td>0.227273</td>\n",
              "      <td>0.5</td>\n",
              "      <td>0.003112</td>\n",
              "      <td>0.894472</td>\n",
              "      <td>NaN</td>\n",
              "      <td>0.642202</td>\n",
              "      <td>NaN</td>\n",
              "      <td>NaN</td>\n",
              "      <td>NaN</td>\n",
              "      <td>NaN</td>\n",
              "      <td>0.145455</td>\n",
              "      <td>NaN</td>\n",
              "      <td>NaN</td>\n",
              "      <td>NaN</td>\n",
              "      <td>NaN</td>\n",
              "      <td>NaN</td>\n",
              "      <td>NaN</td>\n",
              "      <td>NaN</td>\n",
              "      <td>NaN</td>\n",
              "      <td>NaN</td>\n",
              "      <td>0.998922</td>\n",
              "      <td>NaN</td>\n",
              "      <td>NaN</td>\n",
              "      <td>NaN</td>\n",
              "      <td>NaN</td>\n",
              "      <td>0.288889</td>\n",
              "      <td>0.380952</td>\n",
              "      <td>0.004205</td>\n",
              "      <td>0.659091</td>\n",
              "      <td>0.311475</td>\n",
              "      <td>...</td>\n",
              "      <td>NaN</td>\n",
              "      <td>0.903704</td>\n",
              "      <td>0.837209</td>\n",
              "      <td>NaN</td>\n",
              "      <td>NaN</td>\n",
              "      <td>NaN</td>\n",
              "      <td>NaN</td>\n",
              "      <td>0.12</td>\n",
              "      <td>NaN</td>\n",
              "      <td>NaN</td>\n",
              "      <td>NaN</td>\n",
              "      <td>NaN</td>\n",
              "      <td>0.166949</td>\n",
              "      <td>0.444444</td>\n",
              "      <td>NaN</td>\n",
              "      <td>0.888889</td>\n",
              "      <td>0.400000</td>\n",
              "      <td>NaN</td>\n",
              "      <td>0.145833</td>\n",
              "      <td>0.6875</td>\n",
              "      <td>0.996427</td>\n",
              "      <td>NaN</td>\n",
              "      <td>0.998513</td>\n",
              "      <td>0.428571</td>\n",
              "      <td>NaN</td>\n",
              "      <td>NaN</td>\n",
              "      <td>NaN</td>\n",
              "      <td>NaN</td>\n",
              "      <td>0.982249</td>\n",
              "      <td>NaN</td>\n",
              "      <td>0.313869</td>\n",
              "      <td>NaN</td>\n",
              "      <td>0.108108</td>\n",
              "      <td>0.123711</td>\n",
              "      <td>0.268657</td>\n",
              "      <td>NaN</td>\n",
              "      <td>NaN</td>\n",
              "      <td>0.197802</td>\n",
              "      <td>0.209790</td>\n",
              "      <td>NaN</td>\n",
              "    </tr>\n",
              "    <tr>\n",
              "      <th>2015</th>\n",
              "      <td>NaN</td>\n",
              "      <td>NaN</td>\n",
              "      <td>NaN</td>\n",
              "      <td>0.413793</td>\n",
              "      <td>0.998967</td>\n",
              "      <td>0.562500</td>\n",
              "      <td>NaN</td>\n",
              "      <td>NaN</td>\n",
              "      <td>0.380952</td>\n",
              "      <td>NaN</td>\n",
              "      <td>0.318182</td>\n",
              "      <td>NaN</td>\n",
              "      <td>0.002524</td>\n",
              "      <td>0.900000</td>\n",
              "      <td>NaN</td>\n",
              "      <td>0.613333</td>\n",
              "      <td>NaN</td>\n",
              "      <td>NaN</td>\n",
              "      <td>NaN</td>\n",
              "      <td>NaN</td>\n",
              "      <td>0.117647</td>\n",
              "      <td>NaN</td>\n",
              "      <td>NaN</td>\n",
              "      <td>0.526316</td>\n",
              "      <td>0.003100</td>\n",
              "      <td>NaN</td>\n",
              "      <td>NaN</td>\n",
              "      <td>NaN</td>\n",
              "      <td>NaN</td>\n",
              "      <td>NaN</td>\n",
              "      <td>0.999351</td>\n",
              "      <td>NaN</td>\n",
              "      <td>0.473684</td>\n",
              "      <td>NaN</td>\n",
              "      <td>NaN</td>\n",
              "      <td>0.302326</td>\n",
              "      <td>0.375000</td>\n",
              "      <td>0.002470</td>\n",
              "      <td>0.484848</td>\n",
              "      <td>0.290909</td>\n",
              "      <td>...</td>\n",
              "      <td>NaN</td>\n",
              "      <td>0.901408</td>\n",
              "      <td>0.775862</td>\n",
              "      <td>0.192308</td>\n",
              "      <td>0.170732</td>\n",
              "      <td>NaN</td>\n",
              "      <td>NaN</td>\n",
              "      <td>NaN</td>\n",
              "      <td>0.615385</td>\n",
              "      <td>NaN</td>\n",
              "      <td>NaN</td>\n",
              "      <td>NaN</td>\n",
              "      <td>0.153691</td>\n",
              "      <td>0.461538</td>\n",
              "      <td>0.885246</td>\n",
              "      <td>NaN</td>\n",
              "      <td>0.541667</td>\n",
              "      <td>0.5</td>\n",
              "      <td>0.151515</td>\n",
              "      <td>NaN</td>\n",
              "      <td>0.997504</td>\n",
              "      <td>0.545455</td>\n",
              "      <td>0.997975</td>\n",
              "      <td>0.736842</td>\n",
              "      <td>NaN</td>\n",
              "      <td>NaN</td>\n",
              "      <td>NaN</td>\n",
              "      <td>NaN</td>\n",
              "      <td>0.979282</td>\n",
              "      <td>NaN</td>\n",
              "      <td>0.246575</td>\n",
              "      <td>0.75</td>\n",
              "      <td>0.098592</td>\n",
              "      <td>0.107981</td>\n",
              "      <td>0.156250</td>\n",
              "      <td>NaN</td>\n",
              "      <td>NaN</td>\n",
              "      <td>0.094595</td>\n",
              "      <td>0.164773</td>\n",
              "      <td>NaN</td>\n",
              "    </tr>\n",
              "  </tbody>\n",
              "</table>\n",
              "<p>5 rows × 9025 columns</p>\n",
              "</div>\n",
              "      <button class=\"colab-df-convert\" onclick=\"convertToInteractive('df-291b3fa9-aee5-4369-b471-da6f95fd65f4')\"\n",
              "              title=\"Convert this dataframe to an interactive table.\"\n",
              "              style=\"display:none;\">\n",
              "        \n",
              "  <svg xmlns=\"http://www.w3.org/2000/svg\" height=\"24px\"viewBox=\"0 0 24 24\"\n",
              "       width=\"24px\">\n",
              "    <path d=\"M0 0h24v24H0V0z\" fill=\"none\"/>\n",
              "    <path d=\"M18.56 5.44l.94 2.06.94-2.06 2.06-.94-2.06-.94-.94-2.06-.94 2.06-2.06.94zm-11 1L8.5 8.5l.94-2.06 2.06-.94-2.06-.94L8.5 2.5l-.94 2.06-2.06.94zm10 10l.94 2.06.94-2.06 2.06-.94-2.06-.94-.94-2.06-.94 2.06-2.06.94z\"/><path d=\"M17.41 7.96l-1.37-1.37c-.4-.4-.92-.59-1.43-.59-.52 0-1.04.2-1.43.59L10.3 9.45l-7.72 7.72c-.78.78-.78 2.05 0 2.83L4 21.41c.39.39.9.59 1.41.59.51 0 1.02-.2 1.41-.59l7.78-7.78 2.81-2.81c.8-.78.8-2.07 0-2.86zM5.41 20L4 18.59l7.72-7.72 1.47 1.35L5.41 20z\"/>\n",
              "  </svg>\n",
              "      </button>\n",
              "      \n",
              "  <style>\n",
              "    .colab-df-container {\n",
              "      display:flex;\n",
              "      flex-wrap:wrap;\n",
              "      gap: 12px;\n",
              "    }\n",
              "\n",
              "    .colab-df-convert {\n",
              "      background-color: #E8F0FE;\n",
              "      border: none;\n",
              "      border-radius: 50%;\n",
              "      cursor: pointer;\n",
              "      display: none;\n",
              "      fill: #1967D2;\n",
              "      height: 32px;\n",
              "      padding: 0 0 0 0;\n",
              "      width: 32px;\n",
              "    }\n",
              "\n",
              "    .colab-df-convert:hover {\n",
              "      background-color: #E2EBFA;\n",
              "      box-shadow: 0px 1px 2px rgba(60, 64, 67, 0.3), 0px 1px 3px 1px rgba(60, 64, 67, 0.15);\n",
              "      fill: #174EA6;\n",
              "    }\n",
              "\n",
              "    [theme=dark] .colab-df-convert {\n",
              "      background-color: #3B4455;\n",
              "      fill: #D2E3FC;\n",
              "    }\n",
              "\n",
              "    [theme=dark] .colab-df-convert:hover {\n",
              "      background-color: #434B5C;\n",
              "      box-shadow: 0px 1px 3px 1px rgba(0, 0, 0, 0.15);\n",
              "      filter: drop-shadow(0px 1px 2px rgba(0, 0, 0, 0.3));\n",
              "      fill: #FFFFFF;\n",
              "    }\n",
              "  </style>\n",
              "\n",
              "      <script>\n",
              "        const buttonEl =\n",
              "          document.querySelector('#df-291b3fa9-aee5-4369-b471-da6f95fd65f4 button.colab-df-convert');\n",
              "        buttonEl.style.display =\n",
              "          google.colab.kernel.accessAllowed ? 'block' : 'none';\n",
              "\n",
              "        async function convertToInteractive(key) {\n",
              "          const element = document.querySelector('#df-291b3fa9-aee5-4369-b471-da6f95fd65f4');\n",
              "          const dataTable =\n",
              "            await google.colab.kernel.invokeFunction('convertToInteractive',\n",
              "                                                     [key], {});\n",
              "          if (!dataTable) return;\n",
              "\n",
              "          const docLinkHtml = 'Like what you see? Visit the ' +\n",
              "            '<a target=\"_blank\" href=https://colab.research.google.com/notebooks/data_table.ipynb>data table notebook</a>'\n",
              "            + ' to learn more about interactive tables.';\n",
              "          element.innerHTML = '';\n",
              "          dataTable['output_type'] = 'display_data';\n",
              "          await google.colab.output.renderOutput(dataTable, element);\n",
              "          const docLink = document.createElement('div');\n",
              "          docLink.innerHTML = docLinkHtml;\n",
              "          element.appendChild(docLink);\n",
              "        }\n",
              "      </script>\n",
              "    </div>\n",
              "  </div>\n",
              "  "
            ],
            "text/plain": [
              "name  Aaden      Aadi  Aadyn   Aalijah  ...  Zyien     Zyion      Zyon  Zyree\n",
              "year                                    ...                                  \n",
              "2011    NaN       NaN    NaN  0.318182  ...    NaN  0.153153  0.155080    NaN\n",
              "2012    NaN  0.081967    NaN  0.333333  ...    NaN  0.144737  0.257426    NaN\n",
              "2013    NaN  0.078947    NaN  0.500000  ...    NaN  0.225352  0.147239    0.5\n",
              "2014    NaN       NaN    NaN  0.363636  ...    NaN  0.197802  0.209790    NaN\n",
              "2015    NaN       NaN    NaN  0.413793  ...    NaN  0.094595  0.164773    NaN\n",
              "\n",
              "[5 rows x 9025 columns]"
            ]
          },
          "metadata": {},
          "execution_count": 28
        }
      ]
    },
    {
      "cell_type": "code",
      "source": [
        "unisex_ranking = abs(d - 0.5).fillna(0.5).mean().sort_values().index\n",
        "\n",
        "# Create a figure and subplots\n",
        "fig, axes = plt.subplots(\n",
        "    nrows=2, ncols=4, sharey=True, sharex=True, figsize=(12, 6))\n",
        "\n",
        "# Plot the time series into the subplots\n",
        "names = unisex_ranking[:8].tolist()\n",
        "d[names].plot(\n",
        "    subplots=True, color=\"C0\", ax=axes, legend=False, title=names)\n",
        "\n",
        "# Clean up some redudant labels and adjust spacing\n",
        "for ax in axes.flatten():\n",
        "    ax.xaxis.label.set_visible(False)\n",
        "    ax.axhline(0.5, ls='--', color=\"grey\", lw=1)\n",
        "fig.text(0.5, 0.04, \"year\", ha=\"center\", va=\"center\", fontsize=\"x-large\");\n",
        "fig.subplots_adjust(hspace=0.5);"
      ],
      "metadata": {
        "colab": {
          "base_uri": "https://localhost:8080/",
          "height": 417
        },
        "id": "0eNqF-6az_rt",
        "outputId": "09c4c777-f616-46a4-8712-954b18fc6d92"
      },
      "execution_count": 29,
      "outputs": [
        {
          "output_type": "display_data",
          "data": {
            "image/png": "[encoded data removed]",
            "text/plain": [
              "<Figure size 864x432 with 8 Axes>"
            ]
          },
          "metadata": {
            "needs_background": "light"
          }
        }
      ]
    },
    {
      "cell_type": "code",
      "source": [
        "# Create a figure and subplots\n",
        "fig, axes = plt.subplots(\n",
        "    nrows=2, ncols=4, sharey=True, sharex=True, figsize=(12, 6))\n",
        "\n",
        "# Plot the time series into the subplots\n",
        "d[names].rolling(window=10).mean().plot(\n",
        "    color='C0', subplots=True, ax=axes, legend=False, title=names);\n",
        "\n",
        "# Clean up some redundant labels and adjust spacing\n",
        "for ax in axes.flatten():\n",
        "    ax.xaxis.label.set_visible(False)\n",
        "    ax.axhline(0.5, ls='--', color=\"grey\", lw=1)\n",
        "fig.text(0.5, 0.04, \"year\", ha=\"center\", va=\"center\", fontsize=\"x-large\");\n",
        "fig.subplots_adjust(hspace=0.5);\n",
        "\n",
        "# closer to 1 = more girls, closer to 0 = more boys"
      ],
      "metadata": {
        "colab": {
          "base_uri": "https://localhost:8080/",
          "height": 417
        },
        "id": "vco42dZZ0NZ4",
        "outputId": "3482133a-668e-4258-f4aa-2c2489d185c3"
      },
      "execution_count": 30,
      "outputs": [
        {
          "output_type": "display_data",
          "data": {
            "image/png": "[encoded data removed]",
            "text/plain": [
              "<Figure size 864x432 with 8 Axes>"
            ]
          },
          "metadata": {
            "needs_background": "light"
          }
        }
      ]
    },
    {
      "cell_type": "code",
      "source": [
        "# my code\n",
        "# Easy\n",
        "df = pd.read_csv('http://raw.githubusercontent.com/wolframalexa/humanities-data-analysis/main/4-tables/names.csv')\n",
        "df = df.set_index('year')\n",
        "df.shape # 1858436 rows\n"
      ],
      "metadata": {
        "colab": {
          "base_uri": "https://localhost:8080/"
        },
        "id": "HPaFZLeq0V26",
        "outputId": "a2df39d4-1c44-4de2-e8d5-8bfc4a4b7bf5"
      },
      "execution_count": 31,
      "outputs": [
        {
          "output_type": "execute_result",
          "data": {
            "text/plain": [
              "(1858436, 3)"
            ]
          },
          "metadata": {},
          "execution_count": 31
        }
      ]
    },
    {
      "cell_type": "code",
      "source": [
        "girl_rows = df[(df['sex'] == 'F')]\n",
        "print(len(girl_rows))\n",
        "boy_rows = df[(df['sex'] == 'M')]\n",
        "print(len(boy_rows))"
      ],
      "metadata": {
        "colab": {
          "base_uri": "https://localhost:8080/"
        },
        "id": "DJ5L0QbP2sYf",
        "outputId": "5429c5a1-05b7-4880-aa46-65c3fabb70ef"
      },
      "execution_count": 111,
      "outputs": [
        {
          "output_type": "stream",
          "name": "stdout",
          "text": [
            "1100738\n",
            "757698\n"
          ]
        }
      ]
    },
    {
      "cell_type": "code",
      "source": [
        "girl_rows.value_counts().shape\n",
        "# there are more unique girl names than unique boy names"
      ],
      "metadata": {
        "colab": {
          "base_uri": "https://localhost:8080/"
        },
        "id": "DwAud1MK3KmI",
        "outputId": "42a4b6f3-a616-423e-be89-c8857ea24006"
      },
      "execution_count": 33,
      "outputs": [
        {
          "output_type": "execute_result",
          "data": {
            "text/plain": [
              "(613857,)"
            ]
          },
          "metadata": {},
          "execution_count": 33
        }
      ]
    },
    {
      "cell_type": "code",
      "source": [
        "boy_rows.value_counts().shape"
      ],
      "metadata": {
        "colab": {
          "base_uri": "https://localhost:8080/"
        },
        "id": "S3jkRnqK3orf",
        "outputId": "093f71b2-16b4-4e06-97b5-6d5b9fa49b88"
      },
      "execution_count": 34,
      "outputs": [
        {
          "output_type": "execute_result",
          "data": {
            "text/plain": [
              "(400189,)"
            ]
          },
          "metadata": {},
          "execution_count": 34
        }
      ]
    },
    {
      "cell_type": "code",
      "source": [
        "grouped_girls = girl_rows.groupby('name')\n",
        "top_girl_names = 0\n",
        "\n",
        "for grouper, group in grouped_girls:\n",
        "    freq = group.sum()['frequency']\n",
        "    if freq > 100:\n",
        "      top_girl_names += 1\n",
        "print(top_girl_names)"
      ],
      "metadata": {
        "colab": {
          "base_uri": "https://localhost:8080/"
        },
        "id": "Xtg1TFr33tQk",
        "outputId": "cbca168f-7fa1-452d-e852-324003681a8c"
      },
      "execution_count": 35,
      "outputs": [
        {
          "output_type": "stream",
          "name": "stdout",
          "text": [
            "23903\n"
          ]
        }
      ]
    },
    {
      "cell_type": "code",
      "source": [
        "grouped_boys = boy_rows.groupby('name')\n",
        "top_boy_names = 0\n",
        "\n",
        "for grouper, group in grouped_boys:\n",
        "    freq = group.sum()['frequency']\n",
        "    if freq > 100:\n",
        "      top_boy_names += 1"
      ],
      "metadata": {
        "id": "PyLMXvKS48LA"
      },
      "execution_count": 36,
      "outputs": []
    },
    {
      "cell_type": "code",
      "source": [
        "print(top_boy_names)\n",
        "# more frequent girl than boy names - probably the distribution of girl names is\n",
        "# far more skewed than boy names, since girls have both more unique names and \n",
        "# more common names."
      ],
      "metadata": {
        "colab": {
          "base_uri": "https://localhost:8080/"
        },
        "id": "aKOtt6xp5wm1",
        "outputId": "07296f35-f11f-43d6-cc4f-a567b2686d10"
      },
      "execution_count": 37,
      "outputs": [
        {
          "output_type": "stream",
          "name": "stdout",
          "text": [
            "14943\n"
          ]
        }
      ]
    },
    {
      "cell_type": "code",
      "source": [
        "# Moderate\n",
        "\n",
        "#  names ending in n\n",
        "girl_names = df.loc[df['sex'] == 'F', 'name']\n",
        "girl_names.str.lower()\n",
        "girl_coda = girl_names.str.get(-1)\n",
        "girl_fd = girl_coda.groupby('year').value_counts(normalize=True)\n",
        "girl_fd.head()\n",
        "\n",
        "girl_fd = girl_fd.unstack()\n",
        "girl_fd.head()\n"
      ],
      "metadata": {
        "colab": {
          "base_uri": "https://localhost:8080/",
          "height": 250
        },
        "id": "XGAm8vKA5Z0o",
        "outputId": "62a6f7a6-065f-4bb4-b1a0-35f7e570eba7"
      },
      "execution_count": 38,
      "outputs": [
        {
          "output_type": "execute_result",
          "data": {
            "text/html": [
              "\n",
              "  <div id=\"df-cfae1ae3-42fd-49cd-9604-b0ae82fdaffc\">\n",
              "    <div class=\"colab-df-container\">\n",
              "      <div>\n",
              "<style scoped>\n",
              "    .dataframe tbody tr th:only-of-type {\n",
              "        vertical-align: middle;\n",
              "    }\n",
              "\n",
              "    .dataframe tbody tr th {\n",
              "        vertical-align: top;\n",
              "    }\n",
              "\n",
              "    .dataframe thead th {\n",
              "        text-align: right;\n",
              "    }\n",
              "</style>\n",
              "<table border=\"1\" class=\"dataframe\">\n",
              "  <thead>\n",
              "    <tr style=\"text-align: right;\">\n",
              "      <th>name</th>\n",
              "      <th>a</th>\n",
              "      <th>b</th>\n",
              "      <th>c</th>\n",
              "      <th>d</th>\n",
              "      <th>e</th>\n",
              "      <th>f</th>\n",
              "      <th>g</th>\n",
              "      <th>h</th>\n",
              "      <th>i</th>\n",
              "      <th>j</th>\n",
              "      <th>k</th>\n",
              "      <th>l</th>\n",
              "      <th>m</th>\n",
              "      <th>n</th>\n",
              "      <th>o</th>\n",
              "      <th>p</th>\n",
              "      <th>q</th>\n",
              "      <th>r</th>\n",
              "      <th>s</th>\n",
              "      <th>t</th>\n",
              "      <th>u</th>\n",
              "      <th>v</th>\n",
              "      <th>w</th>\n",
              "      <th>x</th>\n",
              "      <th>y</th>\n",
              "      <th>z</th>\n",
              "    </tr>\n",
              "    <tr>\n",
              "      <th>year</th>\n",
              "      <th></th>\n",
              "      <th></th>\n",
              "      <th></th>\n",
              "      <th></th>\n",
              "      <th></th>\n",
              "      <th></th>\n",
              "      <th></th>\n",
              "      <th></th>\n",
              "      <th></th>\n",
              "      <th></th>\n",
              "      <th></th>\n",
              "      <th></th>\n",
              "      <th></th>\n",
              "      <th></th>\n",
              "      <th></th>\n",
              "      <th></th>\n",
              "      <th></th>\n",
              "      <th></th>\n",
              "      <th></th>\n",
              "      <th></th>\n",
              "      <th></th>\n",
              "      <th></th>\n",
              "      <th></th>\n",
              "      <th></th>\n",
              "      <th></th>\n",
              "      <th></th>\n",
              "    </tr>\n",
              "  </thead>\n",
              "  <tbody>\n",
              "    <tr>\n",
              "      <th>1880</th>\n",
              "      <td>0.444798</td>\n",
              "      <td>NaN</td>\n",
              "      <td>NaN</td>\n",
              "      <td>0.008493</td>\n",
              "      <td>0.345011</td>\n",
              "      <td>NaN</td>\n",
              "      <td>0.001062</td>\n",
              "      <td>0.027601</td>\n",
              "      <td>0.003185</td>\n",
              "      <td>NaN</td>\n",
              "      <td>0.001062</td>\n",
              "      <td>0.025478</td>\n",
              "      <td>0.002123</td>\n",
              "      <td>0.031847</td>\n",
              "      <td>0.003185</td>\n",
              "      <td>NaN</td>\n",
              "      <td>NaN</td>\n",
              "      <td>0.018047</td>\n",
              "      <td>0.022293</td>\n",
              "      <td>0.012739</td>\n",
              "      <td>0.002123</td>\n",
              "      <td>NaN</td>\n",
              "      <td>NaN</td>\n",
              "      <td>NaN</td>\n",
              "      <td>0.049894</td>\n",
              "      <td>0.001062</td>\n",
              "    </tr>\n",
              "    <tr>\n",
              "      <th>1881</th>\n",
              "      <td>0.431770</td>\n",
              "      <td>NaN</td>\n",
              "      <td>NaN</td>\n",
              "      <td>0.009595</td>\n",
              "      <td>0.358209</td>\n",
              "      <td>NaN</td>\n",
              "      <td>0.001066</td>\n",
              "      <td>0.027719</td>\n",
              "      <td>0.003198</td>\n",
              "      <td>NaN</td>\n",
              "      <td>0.002132</td>\n",
              "      <td>0.031983</td>\n",
              "      <td>0.002132</td>\n",
              "      <td>0.030917</td>\n",
              "      <td>0.005330</td>\n",
              "      <td>NaN</td>\n",
              "      <td>NaN</td>\n",
              "      <td>0.011727</td>\n",
              "      <td>0.019190</td>\n",
              "      <td>0.010661</td>\n",
              "      <td>0.002132</td>\n",
              "      <td>NaN</td>\n",
              "      <td>0.001066</td>\n",
              "      <td>NaN</td>\n",
              "      <td>0.050107</td>\n",
              "      <td>0.001066</td>\n",
              "    </tr>\n",
              "    <tr>\n",
              "      <th>1882</th>\n",
              "      <td>0.437743</td>\n",
              "      <td>NaN</td>\n",
              "      <td>0.000973</td>\n",
              "      <td>0.007782</td>\n",
              "      <td>0.345331</td>\n",
              "      <td>NaN</td>\n",
              "      <td>0.000973</td>\n",
              "      <td>0.032101</td>\n",
              "      <td>0.002918</td>\n",
              "      <td>NaN</td>\n",
              "      <td>0.000973</td>\n",
              "      <td>0.030156</td>\n",
              "      <td>0.003891</td>\n",
              "      <td>0.029183</td>\n",
              "      <td>0.002918</td>\n",
              "      <td>NaN</td>\n",
              "      <td>NaN</td>\n",
              "      <td>0.012646</td>\n",
              "      <td>0.020428</td>\n",
              "      <td>0.013619</td>\n",
              "      <td>0.001946</td>\n",
              "      <td>NaN</td>\n",
              "      <td>NaN</td>\n",
              "      <td>NaN</td>\n",
              "      <td>0.055447</td>\n",
              "      <td>0.000973</td>\n",
              "    </tr>\n",
              "    <tr>\n",
              "      <th>1883</th>\n",
              "      <td>0.427894</td>\n",
              "      <td>NaN</td>\n",
              "      <td>0.000949</td>\n",
              "      <td>0.010436</td>\n",
              "      <td>0.359583</td>\n",
              "      <td>NaN</td>\n",
              "      <td>0.000949</td>\n",
              "      <td>0.028463</td>\n",
              "      <td>0.001898</td>\n",
              "      <td>NaN</td>\n",
              "      <td>0.000949</td>\n",
              "      <td>0.026565</td>\n",
              "      <td>0.003795</td>\n",
              "      <td>0.029412</td>\n",
              "      <td>0.003795</td>\n",
              "      <td>NaN</td>\n",
              "      <td>NaN</td>\n",
              "      <td>0.017078</td>\n",
              "      <td>0.018975</td>\n",
              "      <td>0.014231</td>\n",
              "      <td>0.001898</td>\n",
              "      <td>NaN</td>\n",
              "      <td>NaN</td>\n",
              "      <td>0.000949</td>\n",
              "      <td>0.051233</td>\n",
              "      <td>0.000949</td>\n",
              "    </tr>\n",
              "    <tr>\n",
              "      <th>1884</th>\n",
              "      <td>0.436007</td>\n",
              "      <td>NaN</td>\n",
              "      <td>NaN</td>\n",
              "      <td>0.009386</td>\n",
              "      <td>0.348976</td>\n",
              "      <td>NaN</td>\n",
              "      <td>0.001706</td>\n",
              "      <td>0.031570</td>\n",
              "      <td>0.001706</td>\n",
              "      <td>NaN</td>\n",
              "      <td>0.000853</td>\n",
              "      <td>0.029010</td>\n",
              "      <td>0.001706</td>\n",
              "      <td>0.029010</td>\n",
              "      <td>0.005119</td>\n",
              "      <td>NaN</td>\n",
              "      <td>NaN</td>\n",
              "      <td>0.014505</td>\n",
              "      <td>0.019625</td>\n",
              "      <td>0.011945</td>\n",
              "      <td>0.001706</td>\n",
              "      <td>NaN</td>\n",
              "      <td>NaN</td>\n",
              "      <td>NaN</td>\n",
              "      <td>0.056314</td>\n",
              "      <td>0.000853</td>\n",
              "    </tr>\n",
              "  </tbody>\n",
              "</table>\n",
              "</div>\n",
              "      <button class=\"colab-df-convert\" onclick=\"convertToInteractive('df-cfae1ae3-42fd-49cd-9604-b0ae82fdaffc')\"\n",
              "              title=\"Convert this dataframe to an interactive table.\"\n",
              "              style=\"display:none;\">\n",
              "        \n",
              "  <svg xmlns=\"http://www.w3.org/2000/svg\" height=\"24px\"viewBox=\"0 0 24 24\"\n",
              "       width=\"24px\">\n",
              "    <path d=\"M0 0h24v24H0V0z\" fill=\"none\"/>\n",
              "    <path d=\"M18.56 5.44l.94 2.06.94-2.06 2.06-.94-2.06-.94-.94-2.06-.94 2.06-2.06.94zm-11 1L8.5 8.5l.94-2.06 2.06-.94-2.06-.94L8.5 2.5l-.94 2.06-2.06.94zm10 10l.94 2.06.94-2.06 2.06-.94-2.06-.94-.94-2.06-.94 2.06-2.06.94z\"/><path d=\"M17.41 7.96l-1.37-1.37c-.4-.4-.92-.59-1.43-.59-.52 0-1.04.2-1.43.59L10.3 9.45l-7.72 7.72c-.78.78-.78 2.05 0 2.83L4 21.41c.39.39.9.59 1.41.59.51 0 1.02-.2 1.41-.59l7.78-7.78 2.81-2.81c.8-.78.8-2.07 0-2.86zM5.41 20L4 18.59l7.72-7.72 1.47 1.35L5.41 20z\"/>\n",
              "  </svg>\n",
              "      </button>\n",
              "      \n",
              "  <style>\n",
              "    .colab-df-container {\n",
              "      display:flex;\n",
              "      flex-wrap:wrap;\n",
              "      gap: 12px;\n",
              "    }\n",
              "\n",
              "    .colab-df-convert {\n",
              "      background-color: #E8F0FE;\n",
              "      border: none;\n",
              "      border-radius: 50%;\n",
              "      cursor: pointer;\n",
              "      display: none;\n",
              "      fill: #1967D2;\n",
              "      height: 32px;\n",
              "      padding: 0 0 0 0;\n",
              "      width: 32px;\n",
              "    }\n",
              "\n",
              "    .colab-df-convert:hover {\n",
              "      background-color: #E2EBFA;\n",
              "      box-shadow: 0px 1px 2px rgba(60, 64, 67, 0.3), 0px 1px 3px 1px rgba(60, 64, 67, 0.15);\n",
              "      fill: #174EA6;\n",
              "    }\n",
              "\n",
              "    [theme=dark] .colab-df-convert {\n",
              "      background-color: #3B4455;\n",
              "      fill: #D2E3FC;\n",
              "    }\n",
              "\n",
              "    [theme=dark] .colab-df-convert:hover {\n",
              "      background-color: #434B5C;\n",
              "      box-shadow: 0px 1px 3px 1px rgba(0, 0, 0, 0.15);\n",
              "      filter: drop-shadow(0px 1px 2px rgba(0, 0, 0, 0.3));\n",
              "      fill: #FFFFFF;\n",
              "    }\n",
              "  </style>\n",
              "\n",
              "      <script>\n",
              "        const buttonEl =\n",
              "          document.querySelector('#df-cfae1ae3-42fd-49cd-9604-b0ae82fdaffc button.colab-df-convert');\n",
              "        buttonEl.style.display =\n",
              "          google.colab.kernel.accessAllowed ? 'block' : 'none';\n",
              "\n",
              "        async function convertToInteractive(key) {\n",
              "          const element = document.querySelector('#df-cfae1ae3-42fd-49cd-9604-b0ae82fdaffc');\n",
              "          const dataTable =\n",
              "            await google.colab.kernel.invokeFunction('convertToInteractive',\n",
              "                                                     [key], {});\n",
              "          if (!dataTable) return;\n",
              "\n",
              "          const docLinkHtml = 'Like what you see? Visit the ' +\n",
              "            '<a target=\"_blank\" href=https://colab.research.google.com/notebooks/data_table.ipynb>data table notebook</a>'\n",
              "            + ' to learn more about interactive tables.';\n",
              "          element.innerHTML = '';\n",
              "          dataTable['output_type'] = 'display_data';\n",
              "          await google.colab.output.renderOutput(dataTable, element);\n",
              "          const docLink = document.createElement('div');\n",
              "          docLink.innerHTML = docLinkHtml;\n",
              "          element.appendChild(docLink);\n",
              "        }\n",
              "      </script>\n",
              "    </div>\n",
              "  </div>\n",
              "  "
            ],
            "text/plain": [
              "name         a   b         c         d  ...         w         x         y         z\n",
              "year                                    ...                                        \n",
              "1880  0.444798 NaN       NaN  0.008493  ...       NaN       NaN  0.049894  0.001062\n",
              "1881  0.431770 NaN       NaN  0.009595  ...  0.001066       NaN  0.050107  0.001066\n",
              "1882  0.437743 NaN  0.000973  0.007782  ...       NaN       NaN  0.055447  0.000973\n",
              "1883  0.427894 NaN  0.000949  0.010436  ...       NaN  0.000949  0.051233  0.000949\n",
              "1884  0.436007 NaN       NaN  0.009386  ...       NaN       NaN  0.056314  0.000853\n",
              "\n",
              "[5 rows x 26 columns]"
            ]
          },
          "metadata": {},
          "execution_count": 38
        },
        {
          "output_type": "stream",
          "name": "stdout",
          "text": [
            "Warning: Total number of columns (26) exceeds max_columns (20) limiting to first (20) columns.\n"
          ]
        }
      ]
    },
    {
      "cell_type": "code",
      "source": [
        "fig, axes = plt.subplots(\n",
        "    nrows=2, ncols=4, sharey=True, figsize=(12, 6))\n",
        "\n",
        "letters = [\"a\", \"d\", \"e\", \"i\", \"n\", \"o\", \"s\", \"t\"]\n",
        "axes = girl_fd[letters].plot(\n",
        "    subplots=True, ax=axes, title=letters, color='C0', grid=True, legend=False)\n",
        "\n",
        "# The x-axis of each subplots is labeled with 'year'.\n",
        "# We remove those and add one main x-axis label\n",
        "for ax in axes.flatten():\n",
        "    ax.xaxis.label.set_visible(False)\n",
        "fig.text(0.5, 0.04, \"year\", ha=\"center\", va=\"center\", fontsize=\"x-large\")\n",
        "# Reserve some additional height for space between subplots\n",
        "fig.subplots_adjust(hspace=0.5);"
      ],
      "metadata": {
        "colab": {
          "base_uri": "https://localhost:8080/",
          "height": 417
        },
        "id": "THKazEcA5ruq",
        "outputId": "5900d631-2bef-48a6-8bc9-7b02034b6430"
      },
      "execution_count": 39,
      "outputs": [
        {
          "output_type": "display_data",
          "data": {
            "image/png": "[encoded data removed]",
            "text/plain": [
              "<Figure size 864x432 with 8 Axes>"
            ]
          },
          "metadata": {
            "needs_background": "light"
          }
        }
      ]
    },
    {
      "cell_type": "markdown",
      "source": [
        "The ending \"a\" for young girls has historically been very popular, but has dipped slightly in recent years, with \"n\" and \"i\" picking up a little of the decrease. The ending \"e\" is also in decline and has been since the start of the dataset. "
      ],
      "metadata": {
        "id": "jFN9clWC6LIH"
      }
    },
    {
      "cell_type": "code",
      "source": [
        "# Which names used now and in the past\n",
        "\n",
        "def timespan(x):\n",
        "  # takes series object and returns difference between max & min\n",
        "  # confusion: how is this related to the \"timespan\" - seems to only have to do \n",
        "  # with name popularity rather than time?\n",
        "\n",
        "  return(max(x['frequency']) - min(x['frequency']))\n",
        "\n",
        "# five names with \"longest timespan\"\n",
        "df.groupby('name').apply(timespan).sort_values(ascending=False).head()"
      ],
      "metadata": {
        "colab": {
          "base_uri": "https://localhost:8080/"
        },
        "id": "ObDUgg6N6XvE",
        "outputId": "60b13e2d-aca6-4696-cfe2-026275ac022b"
      },
      "execution_count": 40,
      "outputs": [
        {
          "output_type": "execute_result",
          "data": {
            "text/plain": [
              "name\n",
              "Linda      99675\n",
              "James      94745\n",
              "Michael    92721\n",
              "Robert     91639\n",
              "John       88315\n",
              "dtype: int64"
            ]
          },
          "metadata": {},
          "execution_count": 40
        }
      ]
    },
    {
      "cell_type": "code",
      "source": [
        "def longest_name(x):\n",
        "  length = x.str.len()\n",
        "  return(max(length))\n",
        "\n",
        "def mean_name(x):\n",
        "  length = x.str.len()\n",
        "  return(sum(length)/len(length))\n",
        "\n",
        "# df.groupby('year').apply(longest_name).sort_values(ascending=False).head()\n",
        "\n",
        "f_max = girl_rows.groupby('year').name.apply(longest_name)\n",
        "f_mean = girl_rows.groupby('year').name.apply(mean_name)\n",
        "\n",
        "m_max = boy_rows.groupby('year').name.apply(longest_name)\n",
        "m_mean = boy_rows.groupby('year').name.apply(mean_name)"
      ],
      "metadata": {
        "id": "Q2IfKbsg-hP0"
      },
      "execution_count": 41,
      "outputs": []
    },
    {
      "cell_type": "code",
      "source": [
        "fig, ax = plt.subplots()\n",
        "\n",
        "ax.plot(m_max)\n",
        "ax.plot(f_max)\n",
        "plt.title(\"Maximum Name Length by Sex\")\n",
        "ax.legend([\"M\", \"F\"])"
      ],
      "metadata": {
        "colab": {
          "base_uri": "https://localhost:8080/",
          "height": 298
        },
        "id": "8xRudE0SCB8_",
        "outputId": "164dd599-9fcf-4c0f-83a6-92f896a7cf7e"
      },
      "execution_count": 42,
      "outputs": [
        {
          "output_type": "execute_result",
          "data": {
            "text/plain": [
              "<matplotlib.legend.Legend at 0x7f737a0cbed0>"
            ]
          },
          "metadata": {},
          "execution_count": 42
        },
        {
          "output_type": "display_data",
          "data": {
            "image/png": "[encoded data removed]",
            "text/plain": [
              "<Figure size 432x288 with 1 Axes>"
            ]
          },
          "metadata": {
            "needs_background": "light"
          }
        }
      ]
    },
    {
      "cell_type": "markdown",
      "source": [
        "Names for girls were longer than names for boys in the mid 19th century, but long names for boys are now more common. This might owe to patterns of immigration from cultures where boys are given longer names."
      ],
      "metadata": {
        "id": "DB9JhTXJCh6M"
      }
    },
    {
      "cell_type": "code",
      "source": [
        "fig, ax = plt.subplots()\n",
        "\n",
        "ax.plot(m_mean)\n",
        "ax.plot(f_mean)\n",
        "plt.title(\"Mean Name Length by Sex\")\n",
        "ax.legend([\"M\", \"F\"])"
      ],
      "metadata": {
        "colab": {
          "base_uri": "https://localhost:8080/",
          "height": 298
        },
        "id": "QP8qNks2CwE9",
        "outputId": "77d10ad6-d693-4791-fd1d-de0173533ddd"
      },
      "execution_count": 43,
      "outputs": [
        {
          "output_type": "execute_result",
          "data": {
            "text/plain": [
              "<matplotlib.legend.Legend at 0x7f737a040810>"
            ]
          },
          "metadata": {},
          "execution_count": 43
        },
        {
          "output_type": "display_data",
          "data": {
            "image/png": "[encoded data removed]",
            "text/plain": [
              "<Figure size 432x288 with 1 Axes>"
            ]
          },
          "metadata": {
            "needs_background": "light"
          }
        }
      ]
    },
    {
      "cell_type": "markdown",
      "source": [
        "On average, though, female names have remained longer than male names, but the overall trends mirror each other in terms of name length, both increasing sharply around 1910 and declining since 2000."
      ],
      "metadata": {
        "id": "UwjC-YhuCiE8"
      }
    },
    {
      "cell_type": "code",
      "source": [
        "# Challenging\n",
        "\n",
        "def num_vowels(string):\n",
        "  # returns the number of vowels in a string\n",
        "  vowels = \"aeiouyAEIOUY\"\n",
        "  count = 0\n",
        "\n",
        "  for char in string:\n",
        "    if char in vowels:\n",
        "      count += 1\n",
        "  return(count)\n",
        "\n"
      ],
      "metadata": {
        "id": "5hJTNKesC_Ql"
      },
      "execution_count": 44,
      "outputs": []
    },
    {
      "cell_type": "code",
      "source": [
        "girls8 = girl_names[girl_names.apply(num_vowels) == 8].unique()\n",
        "print(\"Girls with 8 vowels in their name:\", girls8)"
      ],
      "metadata": {
        "colab": {
          "base_uri": "https://localhost:8080/"
        },
        "id": "f4ls9EPuwHmP",
        "outputId": "fb18231c-8e20-4e9a-e933-a02601b3b2d8"
      },
      "execution_count": 46,
      "outputs": [
        {
          "output_type": "stream",
          "name": "stdout",
          "text": [
            "Girls with 8 vowels in their name: ['Mariaguadalupe' 'Mariadelrosario' 'Oluwafunmilayo' 'Aaliyahmarie'\n",
            " 'Moyosoreoluwa' 'Oluwaseyifunmi' 'Oluwafikayomi']\n"
          ]
        }
      ]
    },
    {
      "cell_type": "code",
      "source": [
        "avg_vowels_girls = sum(girl_names.apply(num_vowels))/len(girl_names)\n",
        "print(\"On average, girls' names have\", avg_vowels_girls, \"vowels.\")\n",
        "\n",
        "avg_vowels_boys = sum(boys_names.apply(num_vowels))/len(boys_names)\n",
        "print(\"On average, boys' names have\", avg_vowels_boys, \"vowels.\")"
      ],
      "metadata": {
        "colab": {
          "base_uri": "https://localhost:8080/"
        },
        "id": "tPw8FN0EwbKW",
        "outputId": "4cce7c67-5184-4bdc-b599-ac5f241112dc"
      },
      "execution_count": 59,
      "outputs": [
        {
          "output_type": "stream",
          "name": "stdout",
          "text": [
            "On average, girls' names have 2.9955884143183935 vowels.\n",
            "On average, boys' names have 2.5312512373003493 vowels.\n"
          ]
        }
      ]
    },
    {
      "cell_type": "markdown",
      "source": [
        "Girls have more vowels than boys - this difference seems significant to me, since names filled with vowels may be more associated with femininity vs masculinity."
      ],
      "metadata": {
        "id": "HA9_POdOxUn_"
      }
    },
    {
      "cell_type": "code",
      "source": [
        "def average(x):\n",
        "  return(sum(x)/len(x))\n",
        "\n",
        "girl_vowels = girl_names.apply(num_vowels).groupby('year').apply(average)\n",
        "boy_vowels = boys_names.apply(num_vowels).groupby('year').apply(average)\n",
        "\n",
        "fig, ax = plt.subplots()\n",
        "\n",
        "ax.plot(boy_vowels)\n",
        "ax.plot(girl_vowels)\n",
        "plt.title(\"Vowel Usage by Sex\")\n",
        "ax.legend([\"M\", \"F\"])"
      ],
      "metadata": {
        "colab": {
          "base_uri": "https://localhost:8080/",
          "height": 298
        },
        "id": "gVVsfD5JxfcZ",
        "outputId": "c6a38601-e0d4-4391-d2ea-d9bf50a6357d"
      },
      "execution_count": 69,
      "outputs": [
        {
          "output_type": "execute_result",
          "data": {
            "text/plain": [
              "<matplotlib.legend.Legend at 0x7f7379e92bd0>"
            ]
          },
          "metadata": {},
          "execution_count": 69
        },
        {
          "output_type": "display_data",
          "data": {
            "image/png": "[encoded data removed]",
            "text/plain": [
              "<Figure size 432x288 with 1 Axes>"
            ]
          },
          "metadata": {
            "needs_background": "light"
          }
        }
      ]
    },
    {
      "cell_type": "markdown",
      "source": [
        "The trends of vowel usage for girls and boys are similar, but girls' are always approximately .5 larger than boys'."
      ],
      "metadata": {
        "id": "o0HHPDAqy0rZ"
      }
    },
    {
      "cell_type": "code",
      "source": [
        "# split people by first initial\n",
        "from collections import Counter    \n",
        "\n",
        "# get distinct names\n",
        "girl_names_unique = girl_rows.name.unique()\n",
        "initials = [item[0] for item in girl_names_unique]\n",
        "\n",
        "sorted_dict = dict(sorted(dict(Counter(initials)).items()))\n",
        "girl_initials = list(sorted_dict.values()) # messy typecasting\n",
        "print(girl_initials) # number of distinct names with a certain initial"
      ],
      "metadata": {
        "colab": {
          "base_uri": "https://localhost:8080/"
        },
        "id": "w8fc-y0Sy9D7",
        "outputId": "4018b7ad-ba1f-4fe6-ed83-39e36db299a1"
      },
      "execution_count": 122,
      "outputs": [
        {
          "output_type": "stream",
          "name": "stdout",
          "text": [
            "[7381, 2234, 4137, 3899, 2436, 832, 1390, 1127, 1050, 4596, 4905, 4440, 5507, 2476, 708, 1079, 274, 2784, 6022, 4264, 165, 1078, 561, 145, 1054, 1113]\n"
          ]
        }
      ]
    },
    {
      "cell_type": "code",
      "source": [
        "# get number of people with each initial\n",
        "# girl_start = girl_rows\n",
        "girl_start['name'] = girl_rows['name'].str.get(0)\n",
        "all_girls = girl_start.groupby('name').frequency.apply(sum)"
      ],
      "metadata": {
        "colab": {
          "base_uri": "https://localhost:8080/"
        },
        "id": "q8ipoGYI3O9Y",
        "outputId": "9a39b4f9-08b2-4c11-e338-4a3a74ccd2f7"
      },
      "execution_count": 121,
      "outputs": [
        {
          "output_type": "stream",
          "name": "stderr",
          "text": [
            "/usr/local/lib/python3.7/dist-packages/ipykernel_launcher.py:3: SettingWithCopyWarning: \n",
            "A value is trying to be set on a copy of a slice from a DataFrame.\n",
            "Try using .loc[row_indexer,col_indexer] = value instead\n",
            "\n",
            "See the caveats in the documentation: https://pandas.pydata.org/pandas-docs/stable/user_guide/indexing.html#returning-a-view-versus-a-copy\n",
            "  This is separate from the ipykernel package so we can avoid doing imports until\n"
          ]
        }
      ]
    },
    {
      "cell_type": "code",
      "source": [
        "# get distinct names\n",
        "boys_names_unique = boy_rows.name.unique()\n",
        "boys_initials = [item[0] for item in boys_names_unique]\n",
        "\n",
        "sorted_dict = dict(sorted(dict(Counter(boys_initials)).items()))\n",
        "boys_initials = list(sorted_dict.values()) # messy typecasting\n",
        "print(boys_initials) # number of distinct names with a certain initial"
      ],
      "metadata": {
        "colab": {
          "base_uri": "https://localhost:8080/"
        },
        "id": "lX7JVDGW6uSn",
        "outputId": "7c9a5bc7-3091-4743-9449-f716d3322535"
      },
      "execution_count": 129,
      "outputs": [
        {
          "output_type": "stream",
          "name": "stdout",
          "text": [
            "[3512, 1670, 2244, 3357, 1517, 584, 1083, 1107, 561, 3952, 3029, 1782, 2608, 1161, 714, 657, 295, 2085, 2493, 2567, 148, 550, 568, 124, 555, 804]\n"
          ]
        }
      ]
    },
    {
      "cell_type": "code",
      "source": [
        "boy_start = boy_rows.copy(deep=True)\n",
        "boy_start['name'] = boy_rows['name'].str.get(0)\n",
        "all_boys = boy_start.groupby('name').frequency.apply(sum)"
      ],
      "metadata": {
        "id": "V3hYz4QU68Qz"
      },
      "execution_count": 135,
      "outputs": []
    },
    {
      "cell_type": "code",
      "source": [
        "import string\n",
        "\n",
        "letters = list(string.ascii_uppercase)\n",
        "fig, ax = plt.subplots()\n",
        "\n",
        "ax.scatter(all_girls, girl_initials)\n",
        "ax.scatter(all_boys, boys_initials)\n",
        "i = 0 \n",
        "\n",
        "for letter in letters:\n",
        "  plt.annotate(letter, xy=(all_girls[i], girl_initials[i]))\n",
        "  plt.annotate(letter, xy=(all_boys[i], boys_initials[i]))\n",
        "  i += 1\n",
        "\n",
        "plt.xlabel(\"Number of People With Initial\")\n",
        "plt.ylabel(\"Distinct Names with Initial\")\n",
        "plt.title(\"Initials Popularity by Sex\")\n",
        "ax.legend([\"F\", \"M\"])"
      ],
      "metadata": {
        "colab": {
          "base_uri": "https://localhost:8080/",
          "height": 312
        },
        "id": "y3IMqIlS0ER3",
        "outputId": "12704c6e-f166-40d7-bceb-8aeacdccf0d5"
      },
      "execution_count": 138,
      "outputs": [
        {
          "output_type": "execute_result",
          "data": {
            "text/plain": [
              "<matplotlib.legend.Legend at 0x7f735983f950>"
            ]
          },
          "metadata": {},
          "execution_count": 138
        },
        {
          "output_type": "display_data",
          "data": {
            "image/png": "[encoded data removed]",
            "text/plain": [
              "<Figure size 432x288 with 1 Axes>"
            ]
          },
          "metadata": {
            "needs_background": "light"
          }
        }
      ]
    },
    {
      "cell_type": "code",
      "source": [
        "def return_data(rows):\n",
        "  # performs the above, in a function\n",
        "\n",
        "  # get distinct names\n",
        "  names_unique = rows.name.unique()\n",
        "  initials = [item[0] for item in names_unique]\n",
        "\n",
        "  sorted_dict = dict(sorted(dict(Counter(initials)).items()))\n",
        "  initials = list(sorted_dict.values()) # messy typecasting\n",
        "\n",
        "  # get number of people with each initial\n",
        "  start = rows.copy()\n",
        "  start['name'] = rows['name'].str.get(0)\n",
        "  all = start.groupby('name').frequency.apply(sum)\n",
        "\n",
        "  return(all, initials)"
      ],
      "metadata": {
        "id": "Id_-fmVD4tpB"
      },
      "execution_count": 167,
      "outputs": []
    },
    {
      "cell_type": "code",
      "source": [
        "# Girls 1900-1920\n",
        "girls0020 = girl_rows[(girl_rows['year'] >= 1900) & (girl_rows['year'] <= 1920)]\n",
        "allgirls0020, initials_f0020 = return_data(girls0020)\n",
        "\n",
        "# Boys 1900-1920\n",
        "boys0020 = boy_rows[(boy_rows['year'] >= 1900) & (boy_rows['year'] <= 1920)]\n",
        "allboys0020, initials_m0020 = return_data(boys0020)\n",
        "\n",
        "# Girls 1980-2000\n",
        "girls8000 = girl_rows[(girl_rows['year'] >= 1980) & (girl_rows['year'] <= 2000)]\n",
        "allgirls8000, initials_f8000 = return_data(girls8000)\n",
        "\n",
        "# Boys 1980-2000\n",
        "boys8000 = boy_rows[(boy_rows['year'] >= 1900) & (boy_rows['year'] <= 1920)]\n",
        "allboys8000, initials_m8000 = return_data(boys8000)"
      ],
      "metadata": {
        "id": "3NOGRfhl9aM0"
      },
      "execution_count": 168,
      "outputs": []
    },
    {
      "cell_type": "code",
      "source": [
        "fig, (ax1, ax2) = plt.subplots(1, 2)\n",
        "ax1.scatter(allgirls0020, initials_f0020)\n",
        "ax1.scatter(allboys0020, initials_m0020)\n",
        "  \n",
        "ax2.scatter(allgirls8000, initials_f8000)\n",
        "ax2.scatter(allboys8000, initials_m8000)\n",
        "\n",
        "letters = list(string.ascii_uppercase)\n",
        "i = 0 \n",
        "\n",
        "for letter in letters:\n",
        "  ax1.annotate(letter, xy=(allgirls0020[i], initials_f0020[i]))\n",
        "  ax1.annotate(letter, xy=(allboys0020[i], initials_m0020[i]))\n",
        "\n",
        "  ax2.annotate(letter, xy=(allgirls8000[i], initials_f8000[i]))\n",
        "  ax2.annotate(letter, xy=(allboys8000[i], initials_m8000[i]))\n",
        "  i += 1\n",
        "\n",
        "\n",
        "ax1.title.set_text(\"1900-1920\")\n",
        "ax2.title.set_text(\"1980-2000\")\n",
        "ax1.legend([\"F\", \"M\"])\n",
        "ax2.legend([\"F\", \"M\"])"
      ],
      "metadata": {
        "colab": {
          "base_uri": "https://localhost:8080/",
          "height": 311
        },
        "id": "U7-NcwgNAk3t",
        "outputId": "9a66eacb-8d5d-4f9d-8016-6639a8c4bb60"
      },
      "execution_count": 183,
      "outputs": [
        {
          "output_type": "execute_result",
          "data": {
            "text/plain": [
              "<matplotlib.legend.Legend at 0x7f7358fa5dd0>"
            ]
          },
          "metadata": {},
          "execution_count": 183
        },
        {
          "output_type": "display_data",
          "data": {
            "image/png": "[encoded data removed]",
            "text/plain": [
              "<Figure size 432x288 with 2 Axes>"
            ]
          },
          "metadata": {
            "needs_background": "light"
          }
        }
      ]
    },
    {
      "cell_type": "markdown",
      "source": [
        "Both the letters themselves and the patters changed between the turn of the century and the end. Towards the end of the century, there were more people (because of population growth - we did not normalize this plot), so there are more names and more people with each initial. Towards the end of the century, though, there are comparatively fewer distinct names for unpopular initials (see the cluster in the lower left)."
      ],
      "metadata": {
        "id": "XJ5vc5CzCqg4"
      }
    }
  ]
}