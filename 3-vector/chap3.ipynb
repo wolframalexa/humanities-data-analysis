{
  "nbformat": 4,
  "nbformat_minor": 0,
  "metadata": {
    "colab": {
      "name": "chap3.ipynb",
      "provenance": [],
      "collapsed_sections": [],
      "authorship_tag": "ABX9TyNTBZOOEJBOjcVS6iIF3R5a",
      "include_colab_link": true
    },
    "kernelspec": {
      "name": "python3",
      "display_name": "Python 3"
    },
    "language_info": {
      "name": "python"
    }
  },
  "cells": [
    {
      "cell_type": "markdown",
      "metadata": {
        "id": "view-in-github",
        "colab_type": "text"
      },
      "source": [
        "<a href=\"https://colab.research.google.com/github/wolframalexa/humanities-data-analysis/blob/main/chap3.ipynb\" target=\"_parent\"><img src=\"https://colab.research.google.com/assets/colab-badge.svg\" alt=\"Open In Colab\"/></a>"
      ]
    },
    {
      "cell_type": "code",
      "execution_count": 1,
      "metadata": {
        "id": "pQ70edml77XR"
      },
      "outputs": [],
      "source": [
        "# Code from book\n",
        "\n",
        "import re\n",
        "\n",
        "\n",
        "PUNCT_RE = re.compile(r'[^\\w\\s]+$')\n",
        "\n",
        "\n",
        "def is_punct(string):\n",
        "    \"\"\"Check if STRING is a punctuation marker or a sequence of\n",
        "       punctuation markers.\n",
        "    Arguments:\n",
        "        string (str): a string to check for punctuation markers.\n",
        "    Returns:\n",
        "        bool: True is string is a (sequence of) punctuation marker(s),\n",
        "            False otherwise.\n",
        "    Examples:\n",
        "        >>> is_punct(\"!\")\n",
        "        True\n",
        "        >>> is_punct(\"Bonjour!\")\n",
        "        False\n",
        "        >>> is_punct(\"¿Te gusta el verano?\")\n",
        "        False\n",
        "        >>> is_punct(\"...\")\n",
        "        True\n",
        "        >>> is_punct(\"«»...\")\n",
        "        True\n",
        "    \"\"\"\n",
        "    return PUNCT_RE.match(string) is not None"
      ]
    },
    {
      "cell_type": "code",
      "source": [
        "corpus = [\"D'où me vient ce désordre, Aufide, et que veut dire\",\n",
        "          \"Madame, il était temps qu'il vous vînt du secours:\",\n",
        "          \"Ah! Monsieur, c'est donc vous?\",\n",
        "          \"Ami, j'ai beau rêver, toute ma rêverie\",\n",
        "          \"Ne me parle plus tant de joie et d'hyménée;\",\n",
        "          \"Il est vrai, Cléobule, et je veux l'avouer,\",\n",
        "          \"Laisse-moi mon chagrin, tout injuste qu'il est;\",\n",
        "          \"Ton frère, je l'avoue, a beaucoup de mérite;\",\n",
        "          \"J'en demeure d'accord, chacun a sa méthode;\",\n",
        "          'Pour prix de votre amour que vous peignez extrême,']\n",
        "\n",
        "\n",
        "# %%\n",
        "document = corpus[2]\n",
        "print(document.split())\n",
        "\n",
        "\n",
        "# %%\n",
        "import nltk\n",
        "import nltk.tokenize\n",
        "\n",
        "# download the most recent punkt package\n",
        "nltk.download('punkt', quiet=True)\n",
        "\n",
        "document = corpus[3]\n",
        "print(nltk.tokenize.word_tokenize(document, language='french'))"
      ],
      "metadata": {
        "colab": {
          "base_uri": "https://localhost:8080/"
        },
        "id": "ibhceojh7lG3",
        "outputId": "35547968-04e2-4e89-aa94-8844d0ec1ed0"
      },
      "execution_count": 5,
      "outputs": [
        {
          "output_type": "stream",
          "name": "stdout",
          "text": [
            "['Ah!', 'Monsieur,', \"c'est\", 'donc', 'vous?']\n",
            "['Ami', ',', \"j'ai\", 'beau', 'rêver', ',', 'toute', 'ma', 'rêverie']\n"
          ]
        }
      ]
    },
    {
      "cell_type": "code",
      "source": [
        "tokens = nltk.tokenize.word_tokenize(corpus[2], language='french')\n",
        "\n",
        "# Loop with a standard for-loop\n",
        "tokenized = []\n",
        "for token in tokens:\n",
        "    if not is_punct(token):\n",
        "        tokenized.append(token)\n",
        "print(tokenized)\n",
        "\n",
        "# Loop with a list comprehension\n",
        "tokenized = [token for token in tokens if not is_punct(token)]\n",
        "print(tokenized)"
      ],
      "metadata": {
        "colab": {
          "base_uri": "https://localhost:8080/"
        },
        "id": "q3wpV1AY7pRY",
        "outputId": "b72cfe91-b06e-4e47-86dc-b096b56f88bd"
      },
      "execution_count": 6,
      "outputs": [
        {
          "output_type": "stream",
          "name": "stdout",
          "text": [
            "['Ah', 'Monsieur', \"c'est\", 'donc', 'vous']\n",
            "['Ah', 'Monsieur', \"c'est\", 'donc', 'vous']\n"
          ]
        }
      ]
    },
    {
      "cell_type": "code",
      "source": [
        "def preprocess_text(text, language, lowercase=True):\n",
        "    \"\"\"Preprocess a text.\n",
        "    Perform a text preprocessing procedure, which transforms a string\n",
        "    object into a list of word tokens without punctuation markers.\n",
        "    Arguments:\n",
        "        text (str): a string representing a text.\n",
        "        language (str): a string specifying the language of text.\n",
        "        lowercase (bool, optional): Set to True to lowercase all\n",
        "            word tokens. Defaults to True.\n",
        "    Returns:\n",
        "        list: a list of word tokens extracted from text, excluding\n",
        "            punctuation.\n",
        "    Examples:\n",
        "        >>> preprocess_text(\"Ah! Monsieur, c'est donc vous?\", 'french')\n",
        "        [\"ah\", \"monsieur\", \"c'est\", \"donc\", \"vous\"]\n",
        "    \"\"\"\n",
        "    if lowercase:\n",
        "        text = text.lower()\n",
        "    tokens = nltk.tokenize.word_tokenize(text, language=language)\n",
        "    tokens = [token for token in tokens if not is_punct(token)]\n",
        "    return tokens"
      ],
      "metadata": {
        "id": "s1EsHFyD69P6"
      },
      "execution_count": 2,
      "outputs": []
    },
    {
      "cell_type": "code",
      "source": [
        "for document in corpus[2:4]:\n",
        "    print('Original:', document)\n",
        "    print('Tokenized:', preprocess_text(document, 'french'))\n",
        "\n",
        "\n",
        "# %%\n",
        "import collections\n",
        "\n",
        "vocabulary = collections.Counter()\n",
        "for document in corpus:\n",
        "    vocabulary.update(preprocess_text(document, 'french'))\n",
        "\n",
        "\n",
        "# %%\n",
        "print(vocabulary.most_common(n=5))\n",
        "\n",
        "\n",
        "# %%\n",
        "print('Original vocabulary size:', len(vocabulary))\n",
        "pruned_vocabulary = {token for token, count in vocabulary.items() if count > 1}\n",
        "print(pruned_vocabulary)\n",
        "print('Pruned vocabulary size:', len(pruned_vocabulary))\n",
        "\n",
        "\n",
        "# %%\n",
        "n = 5\n",
        "print('Original vocabulary size:', len(vocabulary))\n",
        "pruned_vocabulary = {token for token, _ in vocabulary.most_common()[n:]}\n",
        "print('Pruned vocabulary size:', len(pruned_vocabulary))"
      ],
      "metadata": {
        "colab": {
          "base_uri": "https://localhost:8080/"
        },
        "id": "gr93qi-E7uMK",
        "outputId": "3c015c02-1336-4c6d-b9f2-458928cb88c5"
      },
      "execution_count": 7,
      "outputs": [
        {
          "output_type": "stream",
          "name": "stdout",
          "text": [
            "Original: Ah! Monsieur, c'est donc vous?\n",
            "Tokenized: ['ah', 'monsieur', \"c'est\", 'donc', 'vous']\n",
            "Original: Ami, j'ai beau rêver, toute ma rêverie\n",
            "Tokenized: ['ami', \"j'ai\", 'beau', 'rêver', 'toute', 'ma', 'rêverie']\n",
            "[('et', 3), ('vous', 3), ('de', 3), ('me', 2), ('que', 2)]\n",
            "Original vocabulary size: 66\n",
            "{'a', 'je', 'que', 'et', 'vous', 'me', 'de', 'est', \"qu'il\", 'il'}\n",
            "Pruned vocabulary size: 10\n",
            "Original vocabulary size: 66\n",
            "Pruned vocabulary size: 61\n"
          ]
        }
      ]
    },
    {
      "cell_type": "code",
      "source": [
        "def extract_vocabulary(tokenized_corpus, min_count=1, max_count=float('inf')):\n",
        "    \"\"\"Extract a vocabulary from a tokenized corpus.\n",
        "    Arguments:\n",
        "        tokenized_corpus (list): a tokenized corpus represented, list\n",
        "            of lists of strings.\n",
        "        min_count (int, optional): the minimum occurrence count of a\n",
        "            vocabulary item in the corpus.\n",
        "        max_count (int, optional): the maximum occurrence count of a\n",
        "            vocabulary item in the corpus. Defaults to inf.\n",
        "    Returns:\n",
        "        list: An alphabetically ordered list of unique words in the\n",
        "            corpus, of which the frequencies adhere to the specified\n",
        "            minimum and maximum count.\n",
        "    Examples:\n",
        "        >>> corpus = [['the', 'man', 'love', 'man', 'the'],\n",
        "                      ['the', 'love', 'book', 'wise', 'drama'],\n",
        "                      ['a', 'story', 'book', 'drama']]\n",
        "        >>> extract_vocabulary(corpus, min_count=2)\n",
        "        ['book', 'drama', 'love', 'man', 'the']\n",
        "    \"\"\"\n",
        "    vocabulary = collections.Counter()\n",
        "    for document in tokenized_corpus:\n",
        "        vocabulary.update(document)\n",
        "    vocabulary = {word for word, count in vocabulary.items()\n",
        "                  if count >= min_count and count <= max_count}\n",
        "    return sorted(vocabulary)\n"
      ],
      "metadata": {
        "id": "DJRWe3JU7A-Q"
      },
      "execution_count": 3,
      "outputs": []
    },
    {
      "cell_type": "code",
      "source": [
        "tokenized_corpus = [preprocess_text(document, 'french') for document in corpus]\n",
        "vocabulary = extract_vocabulary(tokenized_corpus)\n",
        "\n",
        "\n",
        "# %%\n",
        "bags_of_words = []\n",
        "for document in tokenized_corpus:\n",
        "    tokens = [word for word in document if word in vocabulary]\n",
        "    bags_of_words.append(collections.Counter(tokens))\n",
        "\n",
        "print(bags_of_words[2])\n"
      ],
      "metadata": {
        "colab": {
          "base_uri": "https://localhost:8080/"
        },
        "id": "aIyExb2B7y37",
        "outputId": "fb2f825c-705e-4b72-8853-6f7e2be8b4b3"
      },
      "execution_count": 8,
      "outputs": [
        {
          "output_type": "stream",
          "name": "stdout",
          "text": [
            "Counter({'ah': 1, 'monsieur': 1, \"c'est\": 1, 'donc': 1, 'vous': 1})\n"
          ]
        }
      ]
    },
    {
      "cell_type": "code",
      "source": [
        "def corpus2dtm(tokenized_corpus, vocabulary):\n",
        "    \"\"\"Transform a tokenized corpus into a document-term matrix.\n",
        "    Arguments:\n",
        "        tokenized_corpus (list): a tokenized corpus as a list of\n",
        "        lists of strings. vocabulary (list): An list of unique words.\n",
        "    Returns:\n",
        "        list: A list of lists representing the frequency of each term\n",
        "              in `vocabulary` for each document in the corpus.\n",
        "    Examples:\n",
        "        >>> tokenized_corpus = [['the', 'man', 'man', 'smart'],\n",
        "                                ['a', 'the', 'man' 'love'],\n",
        "                                ['love', 'book', 'journey']]\n",
        "        >>> vocab = ['book', 'journey', 'man', 'love']\n",
        "        >>> corpus2dtm(tokenized_corpus, vocabulary)\n",
        "        [[0, 0, 2, 0], [0, 0, 1, 1], [1, 1, 0, 1]]\n",
        "    \"\"\"\n",
        "    document_term_matrix = []\n",
        "    for document in tokenized_corpus:\n",
        "        document_counts = collections.Counter(document)\n",
        "        row = [document_counts[word] for word in vocabulary]\n",
        "        document_term_matrix.append(row)\n",
        "    return document_term_matrix"
      ],
      "metadata": {
        "id": "M-5wb0-v7FVC"
      },
      "execution_count": 4,
      "outputs": []
    },
    {
      "cell_type": "code",
      "source": [
        "import numpy as np\n",
        "\n",
        "document_term_matrix = corpus2dtm(tokenized_corpus, vocabulary)\n",
        "\n",
        "document_term_matrix = np.array(document_term_matrix)\n",
        "print(document_term_matrix.shape)"
      ],
      "metadata": {
        "colab": {
          "base_uri": "https://localhost:8080/"
        },
        "id": "Prw34O347ZND",
        "outputId": "3a76f79f-e1da-4c65-bd7a-f93bafc1544d"
      },
      "execution_count": 9,
      "outputs": [
        {
          "output_type": "stream",
          "name": "stdout",
          "text": [
            "(10, 66)\n"
          ]
        }
      ]
    },
    {
      "cell_type": "code",
      "source": [
        "import tarfile\n",
        "import urllib.request\n",
        "import os\n",
        "import lxml.etree\n",
        "\n",
        "url = 'http://raw.githubusercontent.com/wolframalexa/humanities-data-analysis/main/3-vector/theatre-classique.tar.gz'\n",
        "path = urllib.request.urlopen(url)\n",
        "tf = tarfile.open(fileobj=path, mode='r|gz')\n",
        "tf.extractall('data')\n",
        "\n",
        "subgenres = ('Comédie', 'Tragédie', 'Tragi-comédie')\n",
        "\n",
        "plays, titles, genres = [], [], []\n",
        "for fn in os.scandir('data/theatre-classique'):\n",
        "    # Only include XML files\n",
        "    if not fn.name.endswith('.xml'):\n",
        "        continue\n",
        "    tree = lxml.etree.parse(fn.path)\n",
        "    genre = tree.find('//genre')\n",
        "    title = tree.find('//title')\n",
        "    if genre is not None and genre.text in subgenres:\n",
        "        lines = []\n",
        "        for line in tree.xpath('//l|//p'):\n",
        "            lines.append(' '.join(line.itertext()))\n",
        "        text = '\\n'.join(lines)\n",
        "        plays.append(text)\n",
        "        genres.append(genre.text)\n",
        "        titles.append(title.text)"
      ],
      "metadata": {
        "id": "qa1PRdbh_er2"
      },
      "execution_count": 20,
      "outputs": []
    },
    {
      "cell_type": "code",
      "source": [
        "import matplotlib.pyplot as plt\n",
        "\n",
        "counts = collections.Counter(genres)\n",
        "\n",
        "fig, ax = plt.subplots()\n",
        "ax.bar(counts.keys(), counts.values(), width=0.3)\n",
        "ax.set(xlabel=\"genre\", ylabel=\"count\");"
      ],
      "metadata": {
        "colab": {
          "base_uri": "https://localhost:8080/",
          "height": 280
        },
        "id": "ZS7-vEh-Bw7W",
        "outputId": "031bb1bb-f91c-4947-f010-d854f1b25713"
      },
      "execution_count": 21,
      "outputs": [
        {
          "output_type": "display_data",
          "data": {
            "image/png": "[encoded data removed]",
            "text/plain": [
              "<Figure size 432x288 with 1 Axes>"
            ]
          },
          "metadata": {
            "needs_background": "light"
          }
        }
      ]
    },
    {
      "cell_type": "code",
      "source": [
        "plays_tok = [preprocess_text(play, 'french') for play in plays]\n",
        "vocabulary = extract_vocabulary(plays_tok, min_count=2)\n",
        "document_term_matrix = np.array(corpus2dtm(plays_tok, vocabulary))\n",
        "\n",
        "print(f\"document-term matrix with \"\n",
        "      f\"|D| = {document_term_matrix.shape[0]} documents and \"\n",
        "      f\"|V| = {document_term_matrix.shape[1]} words.\")"
      ],
      "metadata": {
        "colab": {
          "base_uri": "https://localhost:8080/"
        },
        "id": "dNEu5QZAB0j5",
        "outputId": "94ad88fc-d383-47d0-fd35-3ef076fc72c2"
      },
      "execution_count": 22,
      "outputs": [
        {
          "output_type": "stream",
          "name": "stdout",
          "text": [
            "document-term matrix with |D| = 498 documents and |V| = 48097 words.\n"
          ]
        }
      ]
    },
    {
      "cell_type": "code",
      "source": [
        "monsieur_idx = vocabulary.index('monsieur')\n",
        "sang_idx = vocabulary.index('sang')\n",
        "\n",
        "monsieur_counts = document_term_matrix[:, monsieur_idx]\n",
        "sang_counts = document_term_matrix[:, sang_idx]\n",
        "\n",
        "genres = np.array(genres)\n",
        "\n",
        "fig, ax = plt.subplots()\n",
        "\n",
        "for genre in ('Comédie', 'Tragédie', 'Tragi-comédie'):\n",
        "    ax.scatter(monsieur_counts[genres == genre],\n",
        "               sang_counts[genres == genre],\n",
        "               label=genre, alpha=0.7)\n",
        "\n",
        "ax.set(xlabel='monsieur', ylabel='sang')\n",
        "plt.legend();"
      ],
      "metadata": {
        "colab": {
          "base_uri": "https://localhost:8080/",
          "height": 279
        },
        "id": "x1lHKluUCKGw",
        "outputId": "3ea593ad-f2b5-4188-b1cf-aab24c8740c4"
      },
      "execution_count": 24,
      "outputs": [
        {
          "output_type": "display_data",
          "data": {
            "image/png": "[encoded data removed]",
            "text/plain": [
              "<Figure size 432x288 with 1 Axes>"
            ]
          },
          "metadata": {
            "needs_background": "light"
          }
        }
      ]
    },
    {
      "cell_type": "code",
      "source": [
        "tr_means = document_term_matrix[genres == 'Tragédie'].mean(axis=0)\n",
        "co_means = document_term_matrix[genres == 'Comédie'].mean(axis=0)\n",
        "tc_means = document_term_matrix[genres == 'Tragi-comédie'].mean(axis=0)\n",
        "\n",
        "\n",
        "print(tr_means.shape)"
      ],
      "metadata": {
        "colab": {
          "base_uri": "https://localhost:8080/"
        },
        "id": "XI1HfVGoCgzA",
        "outputId": "12007fa5-def9-45c1-ba3f-2495a51e7797"
      },
      "execution_count": 25,
      "outputs": [
        {
          "output_type": "stream",
          "name": "stdout",
          "text": [
            "(48097,)\n"
          ]
        }
      ]
    },
    {
      "cell_type": "code",
      "source": [
        "print('Mean absolute frequency of \"monsieur\"')\n",
        "print(f'   in comédies: {co_means[monsieur_idx]:.2f}')\n",
        "print(f'   in tragédies: {tr_means[monsieur_idx]:.2f}')\n",
        "print(f'   in tragi-comédies: {tc_means[monsieur_idx]:.2f}')\n",
        "\n",
        "\n",
        "fig, ax = plt.subplots()\n",
        "\n",
        "ax.scatter(\n",
        "    co_means[monsieur_idx], co_means[sang_idx], label='Comédies')\n",
        "ax.scatter(\n",
        "    tr_means[monsieur_idx], tr_means[sang_idx], label='Tragédie')\n",
        "ax.scatter(\n",
        "    tc_means[monsieur_idx], tc_means[sang_idx], label='Tragi-comédies')\n",
        "\n",
        "ax.set(xlabel='monsieur', ylabel='sang')\n",
        "plt.legend();"
      ],
      "metadata": {
        "colab": {
          "base_uri": "https://localhost:8080/",
          "height": 349
        },
        "id": "3IDE12OHC2kE",
        "outputId": "14e7fd0c-b470-4a07-e2f0-39a9753b1134"
      },
      "execution_count": 26,
      "outputs": [
        {
          "output_type": "stream",
          "name": "stdout",
          "text": [
            "Mean absolute frequency of \"monsieur\"\n",
            "   in comédies: 45.46\n",
            "   in tragédies: 1.20\n",
            "   in tragi-comédies: 8.13\n"
          ]
        },
        {
          "output_type": "display_data",
          "data": {
            "image/png": "[encoded data removed]",
            "text/plain": [
              "<Figure size 432x288 with 1 Axes>"
            ]
          },
          "metadata": {
            "needs_background": "light"
          }
        }
      ]
    },
    {
      "cell_type": "markdown",
      "source": [
        "The word \"sang\" (*blood*) occurs far more often in tragedies than in comedies, with \"monsieur\" (*sir* or *Mr*) occuring far more often in comedies than tragedies."
      ],
      "metadata": {
        "id": "lNzuaFDCC7kR"
      }
    },
    {
      "cell_type": "code",
      "source": [
        "tragedy = np.array([tr_means[monsieur_idx], tr_means[sang_idx]])\n",
        "comedy = np.array([co_means[monsieur_idx], co_means[sang_idx]])\n",
        "tragedy_comedy = np.array([tc_means[monsieur_idx], tc_means[sang_idx]])\n",
        "\n",
        "def euclidean_distance(a, b):\n",
        "    \"\"\"Compute the Euclidean distance between two vectors.\n",
        "    Note: ``numpy.linalg.norm(a - b)`` performs the\n",
        "    same calculation using a slightly faster method.\n",
        "    Arguments:\n",
        "        a (numpy.ndarray): a vector of floats or ints.\n",
        "        b (numpy.ndarray): a vector of floats or ints.\n",
        "    Returns:\n",
        "        float: The euclidean distance between vector a and b.\n",
        "    Examples:\n",
        "        >>> import numpy as np\n",
        "        >>> a = np.array([1, 4, 2, 8])\n",
        "        >>> b = np.array([2, 1, 4, 7])\n",
        "        >>> round(euclidean_distance(a, b), 2)\n",
        "        3.87\n",
        "    \"\"\"\n",
        "    return np.sqrt(np.sum((a - b) ** 2))"
      ],
      "metadata": {
        "id": "f0WJnsM1DIi-"
      },
      "execution_count": 27,
      "outputs": []
    },
    {
      "cell_type": "code",
      "source": [
        "tc = euclidean_distance(tragedy, comedy)\n",
        "print(f'tragédies - comédies:       {tc:.2f}')\n",
        "\n",
        "ttc = euclidean_distance(tragedy, tragedy_comedy)\n",
        "print(f'tragédies - tragi-comédies: {ttc:.2f}')\n",
        "\n",
        "ctc = euclidean_distance(comedy, tragedy_comedy)\n",
        "print(f' comédies - tragi-comédies: {ctc:.2f}')"
      ],
      "metadata": {
        "colab": {
          "base_uri": "https://localhost:8080/"
        },
        "id": "bnGRxmuSDWSW",
        "outputId": "d08aa5bd-b910-4347-98bd-1fbae7a01f63"
      },
      "execution_count": 28,
      "outputs": [
        {
          "output_type": "stream",
          "name": "stdout",
          "text": [
            "tragédies - comédies:       50.84\n",
            "tragédies - tragi-comédies: 12.98\n",
            " comédies - tragi-comédies: 39.88\n"
          ]
        }
      ]
    },
    {
      "cell_type": "markdown",
      "source": [
        "Tragedies are more similar to tragicomedies than they are to comedies, and tragicomedies seem to veer more towards the \"tragedy\" than the \"comedy\"."
      ],
      "metadata": {
        "id": "b2LenP19DdR6"
      }
    },
    {
      "cell_type": "code",
      "source": [
        "def vector_len(v):\n",
        "    \"\"\"Compute the length (or norm) of a vector.\"\"\"\n",
        "    return np.sqrt(np.sum(v ** 2))\n",
        "\n",
        "\n",
        "# %%\n",
        "def cosine_distance(a, b):\n",
        "    \"\"\"Compute the cosine distance between two vectors.\n",
        "    Arguments:\n",
        "        a (numpy.ndarray): a vector of floats or ints.\n",
        "        b (numpy.ndarray): a vector of floats or ints.\n",
        "    Returns:\n",
        "        float: cosine distance between vector a and b.\n",
        "    Note:\n",
        "        See also scipy.spatial.distance.cdist\n",
        "    Examples:\n",
        "        >>> import numpy as np\n",
        "        >>> a = np.array([1, 4, 2, 8])\n",
        "        >>> b = np.array([2, 1, 4, 7])\n",
        "        >>> round(cosine_distance(a, b), 2)\n",
        "        0.09\n",
        "    \"\"\"\n",
        "    return 1 - np.dot(a, b) / (vector_len(a) * vector_len(b))"
      ],
      "metadata": {
        "id": "DdaElg7bDpW3"
      },
      "execution_count": 29,
      "outputs": []
    },
    {
      "cell_type": "code",
      "source": [
        "tc = cosine_distance(tragedy, comedy)\n",
        "print(f'tragédies - comédies:       {tc:.2f}')\n",
        "\n",
        "ttc = cosine_distance(tragedy, tragedy_comedy)\n",
        "print(f'tragédies - tragi-comédies: {ttc:.2f}')\n",
        "\n",
        "ctc = cosine_distance(comedy, tragedy_comedy)\n",
        "print(f' comédies - tragi-comédies: {ctc:.2f}')"
      ],
      "metadata": {
        "colab": {
          "base_uri": "https://localhost:8080/"
        },
        "id": "MPfZ7DBxD3Rq",
        "outputId": "2e69ebed-22c6-43c5-d486-80d9e1428bd4"
      },
      "execution_count": 30,
      "outputs": [
        {
          "output_type": "stream",
          "name": "stdout",
          "text": [
            "tragédies - comédies:       0.93\n",
            "tragédies - tragi-comédies: 0.10\n",
            " comédies - tragi-comédies: 0.51\n"
          ]
        }
      ]
    },
    {
      "cell_type": "markdown",
      "source": [
        "Using the cosine distance, we find a similar pattern of relationships."
      ],
      "metadata": {
        "id": "BmSfDcRiEE9Q"
      }
    },
    {
      "cell_type": "code",
      "source": [
        "def city_block_distance(a, b):\n",
        "    \"\"\"Compute the city block distance between two vectors.\n",
        "    Arguments:\n",
        "        a (numpy.ndarray): a vector of floats or ints.\n",
        "        b (numpy.ndarray): a vector of floats or ints.\n",
        "    Returns:\n",
        "        {int, float}: The city block distance between vector a and b.\n",
        "    Examples:\n",
        "        >>> import numpy as np\n",
        "        >>> a = np.array([1, 4, 2, 8])\n",
        "        >>> b = np.array([2, 1, 4, 7])\n",
        "        >>> city_block_distance(a, b)\n",
        "        7\n",
        "    \"\"\"\n",
        "    return np.abs(a - b).sum()"
      ],
      "metadata": {
        "id": "omZ7h8_UD9Z8"
      },
      "execution_count": 31,
      "outputs": []
    },
    {
      "cell_type": "code",
      "source": [
        "tc = city_block_distance(tragedy, comedy)\n",
        "print(f'tragédies - comédies:       {tc:.2f}')\n",
        "\n",
        "ttc = city_block_distance(tragedy, tragedy_comedy)\n",
        "print(f'tragédies - tragi-comédies: {ttc:.2f}')\n",
        "\n",
        "ctc = city_block_distance(comedy, tragedy_comedy)\n",
        "print(f' comédies - tragi-comédies: {ctc:.2f}')"
      ],
      "metadata": {
        "colab": {
          "base_uri": "https://localhost:8080/"
        },
        "id": "sw_l2aomECPL",
        "outputId": "c803dfff-a98f-42b7-bf20-6830ba2051e8"
      },
      "execution_count": 32,
      "outputs": [
        {
          "output_type": "stream",
          "name": "stdout",
          "text": [
            "tragédies - comédies:       69.27\n",
            "tragédies - tragi-comédies: 17.90\n",
            " comédies - tragi-comédies: 51.37\n"
          ]
        }
      ]
    },
    {
      "cell_type": "markdown",
      "source": [
        "This pattern of relationships persists with the Manhattan distance."
      ],
      "metadata": {
        "id": "un9ZL-qKENP9"
      }
    },
    {
      "cell_type": "code",
      "source": [
        "import scipy.spatial.distance as dist\n",
        "\n",
        "genre_vectors = {'tragédie': tr_means, 'comédie': co_means, 'tragi-comédie': tc_means}\n",
        "metrics = {'cosine': dist.cosine, 'manhattan': dist.cityblock, 'euclidean': dist.euclidean}\n",
        "\n",
        "import itertools\n",
        "\n",
        "for metric_name, metric_fn in metrics.items():\n",
        "    print(metric_name)\n",
        "    for v1, v2 in itertools.combinations(genre_vectors, 2):\n",
        "        distance = metric_fn(genre_vectors[v1], genre_vectors[v2])\n",
        "        print(f'   {v1} - {v2}: {distance:.2f}')"
      ],
      "metadata": {
        "colab": {
          "base_uri": "https://localhost:8080/"
        },
        "id": "XpGvWfXZEREx",
        "outputId": "1d367894-4863-4e19-d058-1d237bc0c417"
      },
      "execution_count": 33,
      "outputs": [
        {
          "output_type": "stream",
          "name": "stdout",
          "text": [
            "cosine\n",
            "   tragédie - comédie: 0.04\n",
            "   tragédie - tragi-comédie: 0.01\n",
            "   comédie - tragi-comédie: 0.03\n",
            "manhattan\n",
            "   tragédie - comédie: 7134.45\n",
            "   tragédie - tragi-comédie: 5162.44\n",
            "   comédie - tragi-comédie: 8139.96\n",
            "euclidean\n",
            "   tragédie - comédie: 355.13\n",
            "   tragédie - tragi-comédie: 250.37\n",
            "   comédie - tragi-comédie: 503.64\n"
          ]
        }
      ]
    },
    {
      "cell_type": "markdown",
      "source": [
        "Cosine length automatically normalizes by text length but Manhattan and Euclidean do not, which is why cosine is generally preferred for text analysis."
      ],
      "metadata": {
        "id": "rfpTvRP9Eltx"
      }
    },
    {
      "cell_type": "code",
      "source": [
        "def nearest_neighbors(X, metric='cosine'):\n",
        "    \"\"\"Retrieve the nearest neighbor for each row in a 2D array.\n",
        "    Arguments:\n",
        "        X (numpy.ndarray): a 2D array.\n",
        "        metric (str): the distance metric to be used,\n",
        "            one of: 'cosine', 'manhattan', 'euclidean'\n",
        "    Returns:\n",
        "        neighbors (list): A list of integers, corresponding to\n",
        "            the index of each row's nearest neighbor.\n",
        "    Examples:\n",
        "        >>> X = np.array([[1, 4, 2], [5, 5, 1], [1, 2, 1]])\n",
        "        >>> nearest_neighbors(X, metric='manhattan')\n",
        "        [1, 0, 0]\n",
        "    \"\"\"\n",
        "    distances = dist.pdist(X, metric=metric)\n",
        "    distances = dist.squareform(distances)\n",
        "    np.fill_diagonal(distances, np.inf)\n",
        "    return distances.argmin(1)"
      ],
      "metadata": {
        "id": "MKpj3biGElXN"
      },
      "execution_count": 34,
      "outputs": []
    },
    {
      "cell_type": "code",
      "source": [
        "neighbor_indices = nearest_neighbors(document_term_matrix)\n",
        "\n",
        "nn_genres = genres[neighbor_indices]\n",
        "print(nn_genres[:5])"
      ],
      "metadata": {
        "colab": {
          "base_uri": "https://localhost:8080/"
        },
        "id": "boi-wl_FE1kk",
        "outputId": "1aa4b271-83d2-4443-e190-32ebe81d9015"
      },
      "execution_count": 35,
      "outputs": [
        {
          "output_type": "stream",
          "name": "stdout",
          "text": [
            "['Comédie' 'Tragédie' 'Comédie' 'Tragi-comédie' 'Tragi-comédie']\n"
          ]
        }
      ]
    },
    {
      "cell_type": "code",
      "source": [
        "overlap = np.sum(genres == nn_genres)\n",
        "print(f'Matching pairs (normalized): {overlap / len(genres):.2f}')"
      ],
      "metadata": {
        "colab": {
          "base_uri": "https://localhost:8080/"
        },
        "id": "ie-8xGXvE-5k",
        "outputId": "fa9564a6-9222-4003-d7cf-39af4f279794"
      },
      "execution_count": 36,
      "outputs": [
        {
          "output_type": "stream",
          "name": "stdout",
          "text": [
            "Maching pairs (normalized): 0.90\n"
          ]
        }
      ]
    },
    {
      "cell_type": "code",
      "source": [
        "print(collections.Counter(nn_genres[genres == 'Tragédie']).most_common())\n",
        "print(collections.Counter(nn_genres[genres == 'Comédie']).most_common())\n",
        "print(collections.Counter(nn_genres[genres == 'Tragi-comédie']).most_common())\n"
      ],
      "metadata": {
        "colab": {
          "base_uri": "https://localhost:8080/"
        },
        "id": "umOHCi76FJIW",
        "outputId": "f829b73d-2b53-4e0c-e005-45f61d8811b8"
      },
      "execution_count": 37,
      "outputs": [
        {
          "output_type": "stream",
          "name": "stdout",
          "text": [
            "[('Tragédie', 130), ('Tragi-comédie', 16), ('Comédie', 4)]\n",
            "[('Comédie', 299), ('Tragédie', 6), ('Tragi-comédie', 5)]\n",
            "[('Tragi-comédie', 20), ('Comédie', 9), ('Tragédie', 9)]\n"
          ]
        }
      ]
    },
    {
      "cell_type": "code",
      "source": [
        "# tc distance to t and c vectors\n",
        "\n",
        "t_dists, c_dists = [], []\n",
        "for tc in document_term_matrix[genres == 'Tragi-comédie']:\n",
        "    t_dists.append(cosine_distance(tc, tr_means))\n",
        "    c_dists.append(cosine_distance(tc, co_means))\n",
        "\n",
        "print(f'Mean distance to comédie vector: {np.mean(c_dists):.3f}')\n",
        "print(f'Mean distance to tragédie vector: {np.mean(t_dists):.3f}')\n",
        "\n",
        "fig, ax = plt.subplots()\n",
        "ax.boxplot([t_dists, c_dists])\n",
        "ax.set(xticklabels=('Tragédie', 'Comédie'), ylabel='Distances to genre means');\n"
      ],
      "metadata": {
        "colab": {
          "base_uri": "https://localhost:8080/",
          "height": 301
        },
        "id": "rOTSp_S7FM3u",
        "outputId": "2c12a5e7-3ba9-4df8-ca07-5477d1dc0377"
      },
      "execution_count": 39,
      "outputs": [
        {
          "output_type": "stream",
          "name": "stdout",
          "text": [
            "Mean distance to comédie vector: 0.060\n",
            "Mean distance to tragédie vector: 0.042\n"
          ]
        },
        {
          "output_type": "display_data",
          "data": {
            "image/png": "[encoded data removed]",
            "text/plain": [
              "<Figure size 432x288 with 1 Axes>"
            ]
          },
          "metadata": {
            "needs_background": "light"
          }
        }
      ]
    },
    {
      "cell_type": "markdown",
      "source": [
        "Two outliers - have a far greater difference from tragedy mean - worth further investigation."
      ],
      "metadata": {
        "id": "ML0tbpvEFmVm"
      }
    },
    {
      "cell_type": "code",
      "source": [
        "t_dists = np.array(t_dists)\n",
        "outliers = t_dists.argsort()[::-1][:2]\n",
        "tc_titles = np.array(titles)[genres == 'Tragi-comédie']\n",
        "print('\\n'.join(tc_titles[outliers]))"
      ],
      "metadata": {
        "colab": {
          "base_uri": "https://localhost:8080/"
        },
        "id": "adp7oeRzFxot",
        "outputId": "d1e18a84-0bb1-474c-8250-f880099a7a0a"
      },
      "execution_count": 40,
      "outputs": [
        {
          "output_type": "stream",
          "name": "stdout",
          "text": [
            "STRATONICE, TRAGI-COMÉDIE\n",
            "BÉRÉNICE, TRAGI-COMÉDIE EN PROSE.\n"
          ]
        }
      ]
    },
    {
      "cell_type": "code",
      "source": [
        "# My code from here\n",
        "\n",
        "import csv\n",
        "import urllib.request\n",
        "\n",
        "letters, years = [], []\n",
        "url = 'http://raw.githubusercontent.com/wolframalexa/humanities-data-analysis/main/3-vector/chain-letters.csv'\n",
        "data = urllib.request.urlopen(url);\n",
        "lines = [l.decode('utf-8') for l in data.readlines()]\n",
        "reader = csv.DictReader(lines)\n",
        "\n",
        "for row in reader:\n",
        "    letters.append(row[\"letter\"])\n",
        "    years.append(int(row[\"year\"]))"
      ],
      "metadata": {
        "id": "hoNAcWl5GZG0"
      },
      "execution_count": 59,
      "outputs": []
    },
    {
      "cell_type": "code",
      "source": [
        "# Easy\n",
        "# Tokenized version of corpus\n",
        "tokenized_letters = []\n",
        "for letter in letters:\n",
        "  t = preprocess_text(letter, 'english')\n",
        "  tokenized_letters.append(t)\n",
        "\n",
        "# Vocabulary of corpus\n",
        "vocabulary = extract_vocabulary(tokenized_letters)\n",
        "print(\"Unique words:\", len(vocabulary))"
      ],
      "metadata": {
        "colab": {
          "base_uri": "https://localhost:8080/"
        },
        "id": "sG_oEG6hI6Jq",
        "outputId": "88cc6614-1560-4e71-a94f-6feac414462f"
      },
      "execution_count": 65,
      "outputs": [
        {
          "output_type": "stream",
          "name": "stdout",
          "text": [
            "Unique words: 5232\n"
          ]
        }
      ]
    },
    {
      "cell_type": "code",
      "source": [
        "dtm = corpus2dtm(tokenized_letters, vocabulary)\n",
        "dtm = np.array(dtm)\n",
        "print(dtm.shape) # 5232 word tokens in the corpus and 554 documents"
      ],
      "metadata": {
        "colab": {
          "base_uri": "https://localhost:8080/"
        },
        "id": "KNFnFH8tLUkN",
        "outputId": "a601ab99-7c3d-4add-b11a-d9472b42c6da"
      },
      "execution_count": 67,
      "outputs": [
        {
          "output_type": "stream",
          "name": "stdout",
          "text": [
            "(554, 5232)\n"
          ]
        }
      ]
    },
    {
      "cell_type": "code",
      "source": [
        "wpl = np.mean(np.sum(dtm, axis=1)) # sum along rows and average words per letter\n",
        "print(\"Average words per letter\", wpl)"
      ],
      "metadata": {
        "colab": {
          "base_uri": "https://localhost:8080/"
        },
        "id": "NHSPaNmLLxbo",
        "outputId": "4c6aeec1-601f-4e46-ac1c-8b27e37df353"
      },
      "execution_count": 69,
      "outputs": [
        {
          "output_type": "stream",
          "name": "stdout",
          "text": [
            "Average words per letter 212.30324909747293\n"
          ]
        }
      ]
    },
    {
      "cell_type": "code",
      "source": [
        "# Moderate\n",
        "years = np.array(years)\n",
        "post50 = years >= 1950\n",
        "pre50 = years < 1950\n",
        "\n",
        "texts_pre_50 = dtm[pre50,]\n",
        "texts_post_50 = dtm[post50,]\n",
        "\n",
        "print(\"Average length pre-1950:\", np.mean(np.sum(texts_pre_50, axis=1)))\n",
        "print(\"Average length post-1950:\", np.mean(np.sum(texts_post_50, axis=1)))"
      ],
      "metadata": {
        "colab": {
          "base_uri": "https://localhost:8080/"
        },
        "id": "NDRzfKzVNmJ9",
        "outputId": "f37ee8b1-b647-48ff-b7b8-9ec75e103003"
      },
      "execution_count": 74,
      "outputs": [
        {
          "output_type": "stream",
          "name": "stdout",
          "text": [
            "Average length pre-1950: 117.25087108013938\n",
            "Average length post-1950: 314.4756554307116\n"
          ]
        }
      ]
    },
    {
      "cell_type": "markdown",
      "source": [
        "Chain letters seem to have gotten longer over the years."
      ],
      "metadata": {
        "id": "urkVB7X5O4Ep"
      }
    },
    {
      "cell_type": "code",
      "source": [
        "years_info = np.unique(years, return_counts=True)\n",
        "unique_years = years_info[0]\n",
        "count_years = years_info[1]\n",
        "\n",
        "indices = []\n",
        "i = 0\n",
        "for num in count_years:\n",
        "  i += num\n",
        "  indices.append(i)\n",
        "indices = indices[:-1] # remove last element\n",
        "\n",
        "by_year = np.split(dtm, indices, axis=0)\n",
        "avg_by_year = []\n",
        "for ary in by_year:\n",
        "  avg_by_year.append(np.mean(np.sum(ary, axis=1)))\n",
        "\n",
        "\n",
        "fig, ax = plt.subplots()\n",
        "\n",
        "ax.plot(unique_years,avg_by_year)\n",
        "\n",
        "ax.set(xlabel='year', ylabel='average length')\n",
        "ax.set(title=\"Length of chain letters by year\")"
      ],
      "metadata": {
        "colab": {
          "base_uri": "https://localhost:8080/",
          "height": 312
        },
        "id": "fWVf_fMTQolk",
        "outputId": "d1cfcebc-c92a-4a18-cc53-dfda2c32e581"
      },
      "execution_count": 105,
      "outputs": [
        {
          "output_type": "execute_result",
          "data": {
            "text/plain": [
              "[Text(0.5, 1.0, 'Length of chain letters by year')]"
            ]
          },
          "metadata": {},
          "execution_count": 105
        },
        {
          "output_type": "display_data",
          "data": {
            "image/png": "[encoded data removed]",
            "text/plain": [
              "<Figure size 432x288 with 1 Axes>"
            ]
          },
          "metadata": {
            "needs_background": "light"
          }
        }
      ]
    },
    {
      "cell_type": "markdown",
      "source": [
        "There is a sharp rise in chain letter length around 1970."
      ],
      "metadata": {
        "id": "nWfgb8HTU-fU"
      }
    },
    {
      "cell_type": "code",
      "source": [
        "# How religious are the letters? Look at \"Jesus\" and \"works\" in letters pre- and\n",
        "# post-1950\n",
        "\n",
        "j = vocabulary.index(\"jesus\")\n",
        "w = vocabulary.index(\"works\")\n",
        "\n",
        "jesus_pre50 = np.sum(texts_pre_50[:,j])\n",
        "works_pre50 = np.sum(texts_pre_50[:,w])\n",
        "\n",
        "jesus_post50 = np.sum(texts_post_50[:,j])\n",
        "works_post50 = np.sum(texts_post_50[:,w])\n",
        "\n",
        "print(f\"Jesus before 1950: {jesus_pre50}, Jesus after 1950: {jesus_post50}\")\n",
        "print(f\"works before 1950: {works_pre50}, works after 1950: {works_post50}\")"
      ],
      "metadata": {
        "colab": {
          "base_uri": "https://localhost:8080/"
        },
        "id": "XQRAcYVyVDc3",
        "outputId": "0758a956-7aa0-4161-c9b6-aae8a7979203"
      },
      "execution_count": 115,
      "outputs": [
        {
          "output_type": "stream",
          "name": "stdout",
          "text": [
            "Jesus before 1950: 167, Jesus after 1950: 5\n",
            "works before 1950: 1, works after 1950: 149\n"
          ]
        }
      ]
    },
    {
      "cell_type": "code",
      "source": [
        "# Challenging\n",
        "# cosine distance bt oldest & youngest letters\n",
        "oldest = dtm[0,:]\n",
        "youngest = dtm[-1,:]\n",
        "print(\"Oldest and youngest:\", cosine_distance(oldest, youngest))\n",
        "\n",
        "# cosine distance bt two of oldest\n",
        "print(\"Two of oldest\", cosine_distance(dtm[0,:], dtm[1, :]))\n",
        "\n",
        "# two of youngest\n",
        "print(\"Two of youngest\", cosine_distance(dtm[-1,:], dtm[-2,:]))"
      ],
      "metadata": {
        "colab": {
          "base_uri": "https://localhost:8080/"
        },
        "id": "gpkLUD5BWvOZ",
        "outputId": "b0e7b251-8f73-49e0-f8b0-61407328ad53"
      },
      "execution_count": 118,
      "outputs": [
        {
          "output_type": "stream",
          "name": "stdout",
          "text": [
            "Oldest and youngest: 0.5413279715619852\n",
            "Two of oldest 0.29174338204815886\n",
            "Two of youngest 0.15220451539032498\n"
          ]
        }
      ]
    },
    {
      "cell_type": "code",
      "source": [
        "# cosine distance between all letters\n",
        "all_dist = dist.pdist(dtm,metric='cosine')\n",
        "all_dist = dist.squareform(all_dist)\n",
        "print(\"Mean distance between all letters:\", np.mean(all_dist))\n",
        "\n",
        "pre50 = dist.pdist(texts_pre_50,metric='cosine')\n",
        "pre50 = dist.squareform(pre50)\n",
        "print(\"Mean distance between letters before 1950:\", np.mean(pre50))\n",
        "\n",
        "post50 = dist.pdist(texts_post_50,metric='cosine')\n",
        "post50 = dist.squareform(post50)\n",
        "print(\"Mean distance between letters after 1950:\", np.mean(post50))"
      ],
      "metadata": {
        "colab": {
          "base_uri": "https://localhost:8080/"
        },
        "id": "UJ8GGz-xYPf_",
        "outputId": "e623a7df-1323-478b-b3f3-709fa862942c"
      },
      "execution_count": 130,
      "outputs": [
        {
          "output_type": "stream",
          "name": "stdout",
          "text": [
            "Mean distance between all letters: 0.414634546323987\n",
            "Mean distance between letters before 1950: 0.45762465273123004\n",
            "Mean distance between letters after 1950: 0.2109700404046367\n"
          ]
        }
      ]
    },
    {
      "cell_type": "markdown",
      "source": [
        "Letters before 1950 are about as similar as the corpus overall. However, letters after 1950 are more different from one another - showing a greater variety of topics in chain letters, perhaps."
      ],
      "metadata": {
        "id": "iMDrTeg-aN_a"
      }
    },
    {
      "cell_type": "code",
      "source": [
        "# Plot matrix\n",
        "\n",
        "plt.matshow(all_dist)\n",
        "plt.colorbar()\n",
        "# larger numbers are later letters"
      ],
      "metadata": {
        "colab": {
          "base_uri": "https://localhost:8080/",
          "height": 278
        },
        "id": "HfcF0RFSaM8R",
        "outputId": "0fd6bb43-3553-4377-ae2a-7242401f94e5"
      },
      "execution_count": 134,
      "outputs": [
        {
          "output_type": "execute_result",
          "data": {
            "text/plain": [
              "<matplotlib.colorbar.Colorbar at 0x7fa96ef13890>"
            ]
          },
          "metadata": {},
          "execution_count": 134
        },
        {
          "output_type": "display_data",
          "data": {
            "image/png": "[encoded data removed]",
            "text/plain": [
              "<Figure size 288x288 with 2 Axes>"
            ]
          },
          "metadata": {
            "needs_background": "light"
          }
        }
      ]
    },
    {
      "cell_type": "markdown",
      "source": [
        "Larger numbers correspond to later letters. We can see several clusters - one small one at the start and one larger one at the end. We can see that chain letters start and end dissimilarly, but there are similarities between approximately the 20th chain letter and all chain letters. This one in particular could be a useful candidate for further research."
      ],
      "metadata": {
        "id": "W3uZvnGja9L5"
      }
    }
  ]
}