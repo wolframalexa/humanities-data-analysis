{
  "nbformat": 4,
  "nbformat_minor": 0,
  "metadata": {
    "colab": {
      "name": "chap5.ipynb",
      "provenance": [],
      "authorship_tag": "ABX9TyNF6g5H29DIRuJ8FlF/rEEJ",
      "include_colab_link": true
    },
    "kernelspec": {
      "name": "python3",
      "display_name": "Python 3"
    },
    "language_info": {
      "name": "python"
    }
  },
  "cells": [
    {
      "cell_type": "markdown",
      "metadata": {
        "id": "view-in-github",
        "colab_type": "text"
      },
      "source": [
        "<a href=\"https://colab.research.google.com/github/wolframalexa/humanities-data-analysis/blob/main/chap5.ipynb\" target=\"_parent\"><img src=\"https://colab.research.google.com/assets/colab-badge.svg\" alt=\"Open In Colab\"/></a>"
      ]
    },
    {
      "cell_type": "code",
      "execution_count": 162,
      "metadata": {
        "id": "-ElYFIOny81P"
      },
      "outputs": [],
      "source": [
        "# book code\n",
        "\n",
        "import gzip\n",
        "import pandas as pd\n",
        "import urllib.request\n",
        "\n",
        "url = 'https://raw.githubusercontent.com/wolframalexa/humanities-data-analysis/main/5-stats/GSS7214_R5.DTA.gz'\n",
        "data = urllib.request.urlopen(url);\n",
        "data = gzip.open(data)\n",
        "\n",
        "# we restrict this (very large) dataset to the variables of interest\n",
        "columns = ['id', 'year', 'age', 'sex', 'race', 'reg16', 'degree',\n",
        "               'realrinc', 'readfict']\n",
        "df = pd.read_stata(data, columns=columns)"
      ]
    },
    {
      "cell_type": "code",
      "source": [
        "df = df.loc[df['year'].isin({1998, 2000, 2002})]\n",
        "\n",
        "# limit dataset to exclude records from individuals who refused to report their income\n",
        "df = df.loc[df['realrinc'].notnull()]"
      ],
      "metadata": {
        "id": "nOLEpEFJ4nbA"
      },
      "execution_count": 163,
      "outputs": []
    },
    {
      "cell_type": "code",
      "source": [
        "# adjust for inflation\n",
        "cpi2015_vs_1986 = 236.7 / 109.6\n",
        "assert df['realrinc'].astype(float).median() < 24000  # reality check\n",
        "df['realrinc2015'] = cpi2015_vs_1986 * df['realrinc'].astype(float)"
      ],
      "metadata": {
        "id": "u2YOq6YW41hl"
      },
      "execution_count": 164,
      "outputs": []
    },
    {
      "cell_type": "code",
      "source": [
        "import matplotlib.pyplot as plt\n",
        "df.groupby('race')['realrinc2015'].plot(kind='hist', bins=30)\n",
        "plt.xlabel('Income')\n",
        "plt.legend();"
      ],
      "metadata": {
        "colab": {
          "base_uri": "https://localhost:8080/",
          "height": 279
        },
        "id": "eJkq2MPa5CrM",
        "outputId": "c82ad3b6-69f3-4c23-9542-ef983765022c"
      },
      "execution_count": 165,
      "outputs": [
        {
          "output_type": "display_data",
          "data": {
            "image/png": "[encoded data removed]",
            "text/plain": [
              "<Figure size 432x288 with 1 Axes>"
            ]
          },
          "metadata": {
            "needs_background": "light"
          }
        }
      ]
    },
    {
      "cell_type": "code",
      "source": [
        "# use logarithm to generate plot\n",
        "import numpy as np\n",
        "\n",
        "df['realrinc2015_log10'] = np.log10(df['realrinc2015'])\n",
        "df.groupby('race')['realrinc2015_log10'].plot(kind='hist', bins=30)\n",
        "plt.xlabel(r'$\\log10(\\mathrm{Income})$')\n",
        "plt.legend();\n"
      ],
      "metadata": {
        "colab": {
          "base_uri": "https://localhost:8080/",
          "height": 283
        },
        "id": "YAMbYhFe5Mvz",
        "outputId": "1084adea-b520-44b0-d9f5-adcba321bc7a"
      },
      "execution_count": 166,
      "outputs": [
        {
          "output_type": "display_data",
          "data": {
            "image/png": "[encoded data removed]",
            "text/plain": [
              "<Figure size 432x288 with 1 Axes>"
            ]
          },
          "metadata": {
            "needs_background": "light"
          }
        }
      ]
    },
    {
      "cell_type": "code",
      "source": [
        "print(\"Max to min ratio\", df['realrinc2015'].max() / df['realrinc2015'].min())\n",
        "\n",
        "print(\"Mean income\", df['realrinc2015'].mean())\n",
        "\n",
        "print(\"Median income\", df['realrinc2015'].median())"
      ],
      "metadata": {
        "colab": {
          "base_uri": "https://localhost:8080/"
        },
        "id": "qehnu8MI5eni",
        "outputId": "d86dcbef-14c1-4cc2-c09c-419c21f5b227"
      },
      "execution_count": 167,
      "outputs": [
        {
          "output_type": "stream",
          "name": "stdout",
          "text": [
            "Max to min ratio 749.1342599999999\n",
            "Mean income 51296.74902490707\n",
            "Median income 37160.92814781022\n"
          ]
        }
      ]
    },
    {
      "cell_type": "code",
      "source": [
        "df_bachelor = df[df['degree'] == 'bachelor']\n",
        "# observed=True instructs pandas to ignore categories\n",
        "# without any observations\n",
        "df_bachelor.groupby(['year', 'degree'], observed=True)['realrinc2015'].agg(['size', 'mean', 'median'])"
      ],
      "metadata": {
        "colab": {
          "base_uri": "https://localhost:8080/",
          "height": 174
        },
        "id": "rB-U2WXn5ntE",
        "outputId": "dea4554f-bcf4-439b-b1e8-1b371200488d"
      },
      "execution_count": 168,
      "outputs": [
        {
          "output_type": "execute_result",
          "data": {
            "text/html": [
              "\n",
              "  <div id=\"df-b17e94f5-b530-49c1-8b2a-b47fd8b42bea\">\n",
              "    <div class=\"colab-df-container\">\n",
              "      <div>\n",
              "<style scoped>\n",
              "    .dataframe tbody tr th:only-of-type {\n",
              "        vertical-align: middle;\n",
              "    }\n",
              "\n",
              "    .dataframe tbody tr th {\n",
              "        vertical-align: top;\n",
              "    }\n",
              "\n",
              "    .dataframe thead th {\n",
              "        text-align: right;\n",
              "    }\n",
              "</style>\n",
              "<table border=\"1\" class=\"dataframe\">\n",
              "  <thead>\n",
              "    <tr style=\"text-align: right;\">\n",
              "      <th></th>\n",
              "      <th></th>\n",
              "      <th>size</th>\n",
              "      <th>mean</th>\n",
              "      <th>median</th>\n",
              "    </tr>\n",
              "    <tr>\n",
              "      <th>year</th>\n",
              "      <th>degree</th>\n",
              "      <th></th>\n",
              "      <th></th>\n",
              "      <th></th>\n",
              "    </tr>\n",
              "  </thead>\n",
              "  <tbody>\n",
              "    <tr>\n",
              "      <th>1998</th>\n",
              "      <th>bachelor</th>\n",
              "      <td>363</td>\n",
              "      <td>63805.508302</td>\n",
              "      <td>48359.364964</td>\n",
              "    </tr>\n",
              "    <tr>\n",
              "      <th>2000</th>\n",
              "      <th>bachelor</th>\n",
              "      <td>344</td>\n",
              "      <td>58819.407571</td>\n",
              "      <td>46674.821168</td>\n",
              "    </tr>\n",
              "    <tr>\n",
              "      <th>2002</th>\n",
              "      <th>bachelor</th>\n",
              "      <td>307</td>\n",
              "      <td>85469.227956</td>\n",
              "      <td>50673.992929</td>\n",
              "    </tr>\n",
              "  </tbody>\n",
              "</table>\n",
              "</div>\n",
              "      <button class=\"colab-df-convert\" onclick=\"convertToInteractive('df-b17e94f5-b530-49c1-8b2a-b47fd8b42bea')\"\n",
              "              title=\"Convert this dataframe to an interactive table.\"\n",
              "              style=\"display:none;\">\n",
              "        \n",
              "  <svg xmlns=\"http://www.w3.org/2000/svg\" height=\"24px\"viewBox=\"0 0 24 24\"\n",
              "       width=\"24px\">\n",
              "    <path d=\"M0 0h24v24H0V0z\" fill=\"none\"/>\n",
              "    <path d=\"M18.56 5.44l.94 2.06.94-2.06 2.06-.94-2.06-.94-.94-2.06-.94 2.06-2.06.94zm-11 1L8.5 8.5l.94-2.06 2.06-.94-2.06-.94L8.5 2.5l-.94 2.06-2.06.94zm10 10l.94 2.06.94-2.06 2.06-.94-2.06-.94-.94-2.06-.94 2.06-2.06.94z\"/><path d=\"M17.41 7.96l-1.37-1.37c-.4-.4-.92-.59-1.43-.59-.52 0-1.04.2-1.43.59L10.3 9.45l-7.72 7.72c-.78.78-.78 2.05 0 2.83L4 21.41c.39.39.9.59 1.41.59.51 0 1.02-.2 1.41-.59l7.78-7.78 2.81-2.81c.8-.78.8-2.07 0-2.86zM5.41 20L4 18.59l7.72-7.72 1.47 1.35L5.41 20z\"/>\n",
              "  </svg>\n",
              "      </button>\n",
              "      \n",
              "  <style>\n",
              "    .colab-df-container {\n",
              "      display:flex;\n",
              "      flex-wrap:wrap;\n",
              "      gap: 12px;\n",
              "    }\n",
              "\n",
              "    .colab-df-convert {\n",
              "      background-color: #E8F0FE;\n",
              "      border: none;\n",
              "      border-radius: 50%;\n",
              "      cursor: pointer;\n",
              "      display: none;\n",
              "      fill: #1967D2;\n",
              "      height: 32px;\n",
              "      padding: 0 0 0 0;\n",
              "      width: 32px;\n",
              "    }\n",
              "\n",
              "    .colab-df-convert:hover {\n",
              "      background-color: #E2EBFA;\n",
              "      box-shadow: 0px 1px 2px rgba(60, 64, 67, 0.3), 0px 1px 3px 1px rgba(60, 64, 67, 0.15);\n",
              "      fill: #174EA6;\n",
              "    }\n",
              "\n",
              "    [theme=dark] .colab-df-convert {\n",
              "      background-color: #3B4455;\n",
              "      fill: #D2E3FC;\n",
              "    }\n",
              "\n",
              "    [theme=dark] .colab-df-convert:hover {\n",
              "      background-color: #434B5C;\n",
              "      box-shadow: 0px 1px 3px 1px rgba(0, 0, 0, 0.15);\n",
              "      filter: drop-shadow(0px 1px 2px rgba(0, 0, 0, 0.3));\n",
              "      fill: #FFFFFF;\n",
              "    }\n",
              "  </style>\n",
              "\n",
              "      <script>\n",
              "        const buttonEl =\n",
              "          document.querySelector('#df-b17e94f5-b530-49c1-8b2a-b47fd8b42bea button.colab-df-convert');\n",
              "        buttonEl.style.display =\n",
              "          google.colab.kernel.accessAllowed ? 'block' : 'none';\n",
              "\n",
              "        async function convertToInteractive(key) {\n",
              "          const element = document.querySelector('#df-b17e94f5-b530-49c1-8b2a-b47fd8b42bea');\n",
              "          const dataTable =\n",
              "            await google.colab.kernel.invokeFunction('convertToInteractive',\n",
              "                                                     [key], {});\n",
              "          if (!dataTable) return;\n",
              "\n",
              "          const docLinkHtml = 'Like what you see? Visit the ' +\n",
              "            '<a target=\"_blank\" href=https://colab.research.google.com/notebooks/data_table.ipynb>data table notebook</a>'\n",
              "            + ' to learn more about interactive tables.';\n",
              "          element.innerHTML = '';\n",
              "          dataTable['output_type'] = 'display_data';\n",
              "          await google.colab.output.renderOutput(dataTable, element);\n",
              "          const docLink = document.createElement('div');\n",
              "          docLink.innerHTML = docLinkHtml;\n",
              "          element.appendChild(docLink);\n",
              "        }\n",
              "      </script>\n",
              "    </div>\n",
              "  </div>\n",
              "  "
            ],
            "text/plain": [
              "               size          mean        median\n",
              "year degree                                    \n",
              "1998 bachelor   363  63805.508302  48359.364964\n",
              "2000 bachelor   344  58819.407571  46674.821168\n",
              "2002 bachelor   307  85469.227956  50673.992929"
            ]
          },
          "metadata": {},
          "execution_count": 168
        }
      ]
    },
    {
      "cell_type": "code",
      "source": [
        "readfict_sample = df.loc[df['readfict'].notnull()].sample(8)['readfict']\n",
        "readfict_sample = readfict_sample.replace(['no', 'yes'], [0, 1])\n",
        "readfict_sample"
      ],
      "metadata": {
        "colab": {
          "base_uri": "https://localhost:8080/"
        },
        "id": "1wU-J5QR6vwS",
        "outputId": "7c3e421c-a58b-4c96-cac4-471134616b24"
      },
      "execution_count": 169,
      "outputs": [
        {
          "output_type": "execute_result",
          "data": {
            "text/plain": [
              "35869    1\n",
              "36509    1\n",
              "36928    1\n",
              "41520    0\n",
              "35545    1\n",
              "37349    1\n",
              "36447    1\n",
              "35965    1\n",
              "Name: readfict, dtype: int64"
            ]
          },
          "metadata": {},
          "execution_count": 169
        }
      ]
    },
    {
      "cell_type": "code",
      "source": [
        "print(\"Mean:\", readfict_sample.mean())\n",
        "print(\"Median:\", readfict_sample.median())"
      ],
      "metadata": {
        "colab": {
          "base_uri": "https://localhost:8080/"
        },
        "id": "mtM_fH2g67yd",
        "outputId": "c0a8e884-f65c-481c-a3dc-b342ad16e7b9"
      },
      "execution_count": 170,
      "outputs": [
        {
          "output_type": "stream",
          "name": "stdout",
          "text": [
            "Mean: 0.875\n",
            "Median: 1.0\n"
          ]
        }
      ]
    },
    {
      "cell_type": "code",
      "source": [
        "df['realrinc2015'].plot(kind='hist', bins=30); # all respondents household income"
      ],
      "metadata": {
        "colab": {
          "base_uri": "https://localhost:8080/",
          "height": 265
        },
        "id": "VXyLfSZ16_fH",
        "outputId": "913aa7d0-5d19-48e1-ca38-167115c533c7"
      },
      "execution_count": 171,
      "outputs": [
        {
          "output_type": "display_data",
          "data": {
            "image/png": "[encoded data removed]",
            "text/plain": [
              "<Figure size 432x288 with 1 Axes>"
            ]
          },
          "metadata": {
            "needs_background": "light"
          }
        }
      ]
    },
    {
      "cell_type": "code",
      "source": [
        "df.groupby('degree')['realrinc2015'].mad().round()\n",
        "\n",
        "df_bachelor_or_more = df[df['degree'].isin(['bachelor', 'graduate'])]\n",
        "df_bachelor_or_more.groupby(['degree', 'readfict'], observed=True)['realrinc2015'].mad().round()"
      ],
      "metadata": {
        "colab": {
          "base_uri": "https://localhost:8080/"
        },
        "id": "LPUjTBQD7ofw",
        "outputId": "88f0fa62-493e-4c46-b9f0-e557feb17feb"
      },
      "execution_count": 172,
      "outputs": [
        {
          "output_type": "execute_result",
          "data": {
            "text/plain": [
              "degree    readfict\n",
              "bachelor  yes          48908.0\n",
              "          no          119523.0\n",
              "graduate  yes          82613.0\n",
              "          no          133028.0\n",
              "Name: realrinc2015, dtype: float64"
            ]
          },
          "metadata": {},
          "execution_count": 172
        }
      ]
    },
    {
      "cell_type": "code",
      "source": [
        "df_bachelor_or_more.groupby(['degree', 'readfict'], observed=True)['realrinc2015'].mean().round()"
      ],
      "metadata": {
        "colab": {
          "base_uri": "https://localhost:8080/"
        },
        "id": "MkQRgXwR8VRr",
        "outputId": "c8462aff-383e-4c18-a86d-d0ff23e1df2b"
      },
      "execution_count": 173,
      "outputs": [
        {
          "output_type": "execute_result",
          "data": {
            "text/plain": [
              "degree    readfict\n",
              "bachelor  yes          71251.0\n",
              "          no          139918.0\n",
              "graduate  yes         113125.0\n",
              "          no          153961.0\n",
              "Name: realrinc2015, dtype: float64"
            ]
          },
          "metadata": {},
          "execution_count": 173
        }
      ]
    },
    {
      "cell_type": "code",
      "source": [
        "import collections\n",
        "import scipy.stats\n",
        "\n",
        "group1 = ['high school', 'high school', 'high school', 'high school', 'high school',\n",
        "          'high school', 'bachelor', 'bachelor']\n",
        "group2 = ['lt high school', 'lt high school', 'lt high school', 'lt high school',\n",
        "          'high school', 'junior college', 'bachelor', 'graduate']\n",
        "group3 = ['lt high school', 'lt high school', 'high school', 'high school',\n",
        "          'junior college', 'junior college', 'bachelor', 'graduate']\n",
        "\n",
        "\n",
        "# Calculate the entropy of the empirical distribution over degree\n",
        "# types for each group\n",
        "for n, group in enumerate([group1, group2, group3], 1):\n",
        "    degree_counts = list(collections.Counter(group).values())\n",
        "    H = scipy.stats.entropy(degree_counts)\n",
        "    print(f'Group {n} entropy: {H:.1f}')"
      ],
      "metadata": {
        "colab": {
          "base_uri": "https://localhost:8080/"
        },
        "id": "46rZLzzO8v3k",
        "outputId": "cd32301b-1eaf-4570-fcbe-53d6307c6a38"
      },
      "execution_count": 174,
      "outputs": [
        {
          "output_type": "stream",
          "name": "stdout",
          "text": [
            "Group 1 entropy: 0.6\n",
            "Group 2 entropy: 1.4\n",
            "Group 3 entropy: 1.6\n"
          ]
        }
      ]
    },
    {
      "cell_type": "code",
      "source": [
        "df.groupby('reg16')['degree'].apply(lambda x: scipy.stats.entropy(x.value_counts()))\n",
        "# new england has more educational diversity than other american regions"
      ],
      "metadata": {
        "colab": {
          "base_uri": "https://localhost:8080/"
        },
        "id": "TcmmkAMm84l7",
        "outputId": "1597ea2f-a472-4c21-bc8b-419a1fc78700"
      },
      "execution_count": 175,
      "outputs": [
        {
          "output_type": "execute_result",
          "data": {
            "text/plain": [
              "reg16\n",
              "foreign            1.505782\n",
              "new england        1.345351\n",
              "middle atlantic    1.321904\n",
              "e. nor. central    1.246287\n",
              "w. nor. central    1.211067\n",
              "south atlantic     1.261397\n",
              "e. sou. central    1.196932\n",
              "w. sou. central    1.290568\n",
              "mountain           1.214591\n",
              "pacific            1.283073\n",
              "Name: degree, dtype: float64"
            ]
          },
          "metadata": {},
          "execution_count": 175
        }
      ]
    },
    {
      "cell_type": "code",
      "source": [
        "df_subset_columns = ['age', 'realrinc2015_log10', 'reg16', 'degree']\n",
        "min_income = 10_000\n",
        "df_subset_index_mask = ((df['age'] >= 23) & (df['age'] <= 30) &\n",
        "                        (df['degree'] == 'bachelor') &\n",
        "                        (df['realrinc2015'] > min_income))\n",
        "df_subset = df.loc[df_subset_index_mask, df_subset_columns]\n",
        "# discard rows with NaN values\n",
        "df_subset = df_subset[df_subset.notnull().all(axis=1)]\n",
        "# age is an integer, not a float\n",
        "df_subset['age'] = df_subset['age'].astype(int)"
      ],
      "metadata": {
        "id": "qGbdEqT_9ESO"
      },
      "execution_count": 176,
      "outputs": []
    },
    {
      "cell_type": "code",
      "source": [
        "# Small amount of noise (\"jitter\") to respondents' ages makes\n",
        "# discrete points easier to see\n",
        "_jitter = np.random.normal(scale=0.1, size=len(df_subset))\n",
        "df_subset['age_jitter'] = df_subset['age'].astype(float) + _jitter\n",
        "ax = df_subset.plot(x='age_jitter', y='realrinc2015_log10', kind='scatter', alpha=0.4)\n",
        "ax.set(ylabel=\"Respondent's income (log10)\", xlabel=\"Age\");"
      ],
      "metadata": {
        "colab": {
          "base_uri": "https://localhost:8080/",
          "height": 279
        },
        "id": "b3M9JiKF99Xv",
        "outputId": "c44e942e-766f-4abc-93c4-b2ef55234e31"
      },
      "execution_count": 177,
      "outputs": [
        {
          "output_type": "display_data",
          "data": {
            "image/png": "[encoded data removed]",
            "text/plain": [
              "<Figure size 432x288 with 1 Axes>"
            ]
          },
          "metadata": {
            "needs_background": "light"
          }
        }
      ]
    },
    {
      "cell_type": "code",
      "source": [
        "ax = df_subset.plot(x='age_jitter', y='realrinc2015_log10', kind='scatter', alpha=0.4)\n",
        "slope, intercept = 0.035, 3.67\n",
        "xs = np.linspace(23 - 0.2, 30 + 0.2)\n",
        "label = f'y = {slope:.3f}x + {intercept:.2f}'\n",
        "ax.plot(xs, slope * xs + intercept, label=label)\n",
        "ax.set(ylabel=\"Respondent's income (log10)\", xlabel=\"Age\")\n",
        "ax.legend();\n"
      ],
      "metadata": {
        "colab": {
          "base_uri": "https://localhost:8080/",
          "height": 279
        },
        "id": "d8DyGD7p-KMU",
        "outputId": "24f0b04b-e7d3-44f8-c8b8-d4d0b36197b6"
      },
      "execution_count": 178,
      "outputs": [
        {
          "output_type": "display_data",
          "data": {
            "image/png": "[encoded data removed]",
            "text/plain": [
              "<Figure size 432x288 with 1 Axes>"
            ]
          },
          "metadata": {
            "needs_background": "light"
          }
        }
      ]
    },
    {
      "cell_type": "code",
      "source": [
        "df_subset[['age', 'realrinc2015_log10']].corr('kendall') # kendall correlation"
      ],
      "metadata": {
        "colab": {
          "base_uri": "https://localhost:8080/",
          "height": 112
        },
        "id": "mfyiEyOn-MaD",
        "outputId": "c278b5b3-4fc7-451c-9522-e0ac8cd65274"
      },
      "execution_count": 179,
      "outputs": [
        {
          "output_type": "execute_result",
          "data": {
            "text/html": [
              "\n",
              "  <div id=\"df-3a133991-9e7d-4ef5-a7e7-84826156ba05\">\n",
              "    <div class=\"colab-df-container\">\n",
              "      <div>\n",
              "<style scoped>\n",
              "    .dataframe tbody tr th:only-of-type {\n",
              "        vertical-align: middle;\n",
              "    }\n",
              "\n",
              "    .dataframe tbody tr th {\n",
              "        vertical-align: top;\n",
              "    }\n",
              "\n",
              "    .dataframe thead th {\n",
              "        text-align: right;\n",
              "    }\n",
              "</style>\n",
              "<table border=\"1\" class=\"dataframe\">\n",
              "  <thead>\n",
              "    <tr style=\"text-align: right;\">\n",
              "      <th></th>\n",
              "      <th>age</th>\n",
              "      <th>realrinc2015_log10</th>\n",
              "    </tr>\n",
              "  </thead>\n",
              "  <tbody>\n",
              "    <tr>\n",
              "      <th>age</th>\n",
              "      <td>1.000000</td>\n",
              "      <td>0.204298</td>\n",
              "    </tr>\n",
              "    <tr>\n",
              "      <th>realrinc2015_log10</th>\n",
              "      <td>0.204298</td>\n",
              "      <td>1.000000</td>\n",
              "    </tr>\n",
              "  </tbody>\n",
              "</table>\n",
              "</div>\n",
              "      <button class=\"colab-df-convert\" onclick=\"convertToInteractive('df-3a133991-9e7d-4ef5-a7e7-84826156ba05')\"\n",
              "              title=\"Convert this dataframe to an interactive table.\"\n",
              "              style=\"display:none;\">\n",
              "        \n",
              "  <svg xmlns=\"http://www.w3.org/2000/svg\" height=\"24px\"viewBox=\"0 0 24 24\"\n",
              "       width=\"24px\">\n",
              "    <path d=\"M0 0h24v24H0V0z\" fill=\"none\"/>\n",
              "    <path d=\"M18.56 5.44l.94 2.06.94-2.06 2.06-.94-2.06-.94-.94-2.06-.94 2.06-2.06.94zm-11 1L8.5 8.5l.94-2.06 2.06-.94-2.06-.94L8.5 2.5l-.94 2.06-2.06.94zm10 10l.94 2.06.94-2.06 2.06-.94-2.06-.94-.94-2.06-.94 2.06-2.06.94z\"/><path d=\"M17.41 7.96l-1.37-1.37c-.4-.4-.92-.59-1.43-.59-.52 0-1.04.2-1.43.59L10.3 9.45l-7.72 7.72c-.78.78-.78 2.05 0 2.83L4 21.41c.39.39.9.59 1.41.59.51 0 1.02-.2 1.41-.59l7.78-7.78 2.81-2.81c.8-.78.8-2.07 0-2.86zM5.41 20L4 18.59l7.72-7.72 1.47 1.35L5.41 20z\"/>\n",
              "  </svg>\n",
              "      </button>\n",
              "      \n",
              "  <style>\n",
              "    .colab-df-container {\n",
              "      display:flex;\n",
              "      flex-wrap:wrap;\n",
              "      gap: 12px;\n",
              "    }\n",
              "\n",
              "    .colab-df-convert {\n",
              "      background-color: #E8F0FE;\n",
              "      border: none;\n",
              "      border-radius: 50%;\n",
              "      cursor: pointer;\n",
              "      display: none;\n",
              "      fill: #1967D2;\n",
              "      height: 32px;\n",
              "      padding: 0 0 0 0;\n",
              "      width: 32px;\n",
              "    }\n",
              "\n",
              "    .colab-df-convert:hover {\n",
              "      background-color: #E2EBFA;\n",
              "      box-shadow: 0px 1px 2px rgba(60, 64, 67, 0.3), 0px 1px 3px 1px rgba(60, 64, 67, 0.15);\n",
              "      fill: #174EA6;\n",
              "    }\n",
              "\n",
              "    [theme=dark] .colab-df-convert {\n",
              "      background-color: #3B4455;\n",
              "      fill: #D2E3FC;\n",
              "    }\n",
              "\n",
              "    [theme=dark] .colab-df-convert:hover {\n",
              "      background-color: #434B5C;\n",
              "      box-shadow: 0px 1px 3px 1px rgba(0, 0, 0, 0.15);\n",
              "      filter: drop-shadow(0px 1px 2px rgba(0, 0, 0, 0.3));\n",
              "      fill: #FFFFFF;\n",
              "    }\n",
              "  </style>\n",
              "\n",
              "      <script>\n",
              "        const buttonEl =\n",
              "          document.querySelector('#df-3a133991-9e7d-4ef5-a7e7-84826156ba05 button.colab-df-convert');\n",
              "        buttonEl.style.display =\n",
              "          google.colab.kernel.accessAllowed ? 'block' : 'none';\n",
              "\n",
              "        async function convertToInteractive(key) {\n",
              "          const element = document.querySelector('#df-3a133991-9e7d-4ef5-a7e7-84826156ba05');\n",
              "          const dataTable =\n",
              "            await google.colab.kernel.invokeFunction('convertToInteractive',\n",
              "                                                     [key], {});\n",
              "          if (!dataTable) return;\n",
              "\n",
              "          const docLinkHtml = 'Like what you see? Visit the ' +\n",
              "            '<a target=\"_blank\" href=https://colab.research.google.com/notebooks/data_table.ipynb>data table notebook</a>'\n",
              "            + ' to learn more about interactive tables.';\n",
              "          element.innerHTML = '';\n",
              "          dataTable['output_type'] = 'display_data';\n",
              "          await google.colab.output.renderOutput(dataTable, element);\n",
              "          const docLink = document.createElement('div');\n",
              "          docLink.innerHTML = docLinkHtml;\n",
              "          element.appendChild(docLink);\n",
              "        }\n",
              "      </script>\n",
              "    </div>\n",
              "  </div>\n",
              "  "
            ],
            "text/plain": [
              "                         age  realrinc2015_log10\n",
              "age                 1.000000            0.204298\n",
              "realrinc2015_log10  0.204298            1.000000"
            ]
          },
          "metadata": {},
          "execution_count": 179
        }
      ]
    },
    {
      "cell_type": "code",
      "source": [
        "df_subset = df.loc[df['readfict'].notnull(), ['reg16', 'readfict']]\n",
        "pd.crosstab(df_subset['reg16'], df_subset['readfict']).plot.barh(stacked=True);"
      ],
      "metadata": {
        "colab": {
          "base_uri": "https://localhost:8080/",
          "height": 265
        },
        "id": "aDT_CL3c_b0P",
        "outputId": "b3e90ab1-28f7-40f9-f61e-54aa00b43d4c"
      },
      "execution_count": 184,
      "outputs": [
        {
          "output_type": "display_data",
          "data": {
            "image/png": "[encoded data removed]",
            "text/plain": [
              "<Figure size 432x288 with 1 Axes>"
            ]
          },
          "metadata": {
            "needs_background": "light"
          }
        }
      ]
    },
    {
      "cell_type": "code",
      "source": [
        "df_subset = df.loc[df['readfict'].notnull(), ['reg16', 'readfict']]\n",
        "pd.crosstab(df_subset['reg16'], df_subset['readfict'], margins=True)"
      ],
      "metadata": {
        "colab": {
          "base_uri": "https://localhost:8080/",
          "height": 426
        },
        "id": "7GjEVh5G-kRA",
        "outputId": "8a25bcec-c4b6-454c-d937-11dc1acb207d"
      },
      "execution_count": 186,
      "outputs": [
        {
          "output_type": "execute_result",
          "data": {
            "text/html": [
              "\n",
              "  <div id=\"df-2b88e0b6-5501-4766-ae2b-e29bb6865d25\">\n",
              "    <div class=\"colab-df-container\">\n",
              "      <div>\n",
              "<style scoped>\n",
              "    .dataframe tbody tr th:only-of-type {\n",
              "        vertical-align: middle;\n",
              "    }\n",
              "\n",
              "    .dataframe tbody tr th {\n",
              "        vertical-align: top;\n",
              "    }\n",
              "\n",
              "    .dataframe thead th {\n",
              "        text-align: right;\n",
              "    }\n",
              "</style>\n",
              "<table border=\"1\" class=\"dataframe\">\n",
              "  <thead>\n",
              "    <tr style=\"text-align: right;\">\n",
              "      <th>readfict</th>\n",
              "      <th>yes</th>\n",
              "      <th>no</th>\n",
              "      <th>All</th>\n",
              "    </tr>\n",
              "    <tr>\n",
              "      <th>reg16</th>\n",
              "      <th></th>\n",
              "      <th></th>\n",
              "      <th></th>\n",
              "    </tr>\n",
              "  </thead>\n",
              "  <tbody>\n",
              "    <tr>\n",
              "      <th>foreign</th>\n",
              "      <td>67</td>\n",
              "      <td>33</td>\n",
              "      <td>100</td>\n",
              "    </tr>\n",
              "    <tr>\n",
              "      <th>new england</th>\n",
              "      <td>73</td>\n",
              "      <td>26</td>\n",
              "      <td>99</td>\n",
              "    </tr>\n",
              "    <tr>\n",
              "      <th>middle atlantic</th>\n",
              "      <td>198</td>\n",
              "      <td>72</td>\n",
              "      <td>270</td>\n",
              "    </tr>\n",
              "    <tr>\n",
              "      <th>e. nor. central</th>\n",
              "      <td>247</td>\n",
              "      <td>87</td>\n",
              "      <td>334</td>\n",
              "    </tr>\n",
              "    <tr>\n",
              "      <th>w. nor. central</th>\n",
              "      <td>109</td>\n",
              "      <td>28</td>\n",
              "      <td>137</td>\n",
              "    </tr>\n",
              "    <tr>\n",
              "      <th>south atlantic</th>\n",
              "      <td>178</td>\n",
              "      <td>98</td>\n",
              "      <td>276</td>\n",
              "    </tr>\n",
              "    <tr>\n",
              "      <th>e. sou. central</th>\n",
              "      <td>90</td>\n",
              "      <td>45</td>\n",
              "      <td>135</td>\n",
              "    </tr>\n",
              "    <tr>\n",
              "      <th>w. sou. central</th>\n",
              "      <td>123</td>\n",
              "      <td>53</td>\n",
              "      <td>176</td>\n",
              "    </tr>\n",
              "    <tr>\n",
              "      <th>mountain</th>\n",
              "      <td>66</td>\n",
              "      <td>31</td>\n",
              "      <td>97</td>\n",
              "    </tr>\n",
              "    <tr>\n",
              "      <th>pacific</th>\n",
              "      <td>154</td>\n",
              "      <td>36</td>\n",
              "      <td>190</td>\n",
              "    </tr>\n",
              "    <tr>\n",
              "      <th>All</th>\n",
              "      <td>1305</td>\n",
              "      <td>509</td>\n",
              "      <td>1814</td>\n",
              "    </tr>\n",
              "  </tbody>\n",
              "</table>\n",
              "</div>\n",
              "      <button class=\"colab-df-convert\" onclick=\"convertToInteractive('df-2b88e0b6-5501-4766-ae2b-e29bb6865d25')\"\n",
              "              title=\"Convert this dataframe to an interactive table.\"\n",
              "              style=\"display:none;\">\n",
              "        \n",
              "  <svg xmlns=\"http://www.w3.org/2000/svg\" height=\"24px\"viewBox=\"0 0 24 24\"\n",
              "       width=\"24px\">\n",
              "    <path d=\"M0 0h24v24H0V0z\" fill=\"none\"/>\n",
              "    <path d=\"M18.56 5.44l.94 2.06.94-2.06 2.06-.94-2.06-.94-.94-2.06-.94 2.06-2.06.94zm-11 1L8.5 8.5l.94-2.06 2.06-.94-2.06-.94L8.5 2.5l-.94 2.06-2.06.94zm10 10l.94 2.06.94-2.06 2.06-.94-2.06-.94-.94-2.06-.94 2.06-2.06.94z\"/><path d=\"M17.41 7.96l-1.37-1.37c-.4-.4-.92-.59-1.43-.59-.52 0-1.04.2-1.43.59L10.3 9.45l-7.72 7.72c-.78.78-.78 2.05 0 2.83L4 21.41c.39.39.9.59 1.41.59.51 0 1.02-.2 1.41-.59l7.78-7.78 2.81-2.81c.8-.78.8-2.07 0-2.86zM5.41 20L4 18.59l7.72-7.72 1.47 1.35L5.41 20z\"/>\n",
              "  </svg>\n",
              "      </button>\n",
              "      \n",
              "  <style>\n",
              "    .colab-df-container {\n",
              "      display:flex;\n",
              "      flex-wrap:wrap;\n",
              "      gap: 12px;\n",
              "    }\n",
              "\n",
              "    .colab-df-convert {\n",
              "      background-color: #E8F0FE;\n",
              "      border: none;\n",
              "      border-radius: 50%;\n",
              "      cursor: pointer;\n",
              "      display: none;\n",
              "      fill: #1967D2;\n",
              "      height: 32px;\n",
              "      padding: 0 0 0 0;\n",
              "      width: 32px;\n",
              "    }\n",
              "\n",
              "    .colab-df-convert:hover {\n",
              "      background-color: #E2EBFA;\n",
              "      box-shadow: 0px 1px 2px rgba(60, 64, 67, 0.3), 0px 1px 3px 1px rgba(60, 64, 67, 0.15);\n",
              "      fill: #174EA6;\n",
              "    }\n",
              "\n",
              "    [theme=dark] .colab-df-convert {\n",
              "      background-color: #3B4455;\n",
              "      fill: #D2E3FC;\n",
              "    }\n",
              "\n",
              "    [theme=dark] .colab-df-convert:hover {\n",
              "      background-color: #434B5C;\n",
              "      box-shadow: 0px 1px 3px 1px rgba(0, 0, 0, 0.15);\n",
              "      filter: drop-shadow(0px 1px 2px rgba(0, 0, 0, 0.3));\n",
              "      fill: #FFFFFF;\n",
              "    }\n",
              "  </style>\n",
              "\n",
              "      <script>\n",
              "        const buttonEl =\n",
              "          document.querySelector('#df-2b88e0b6-5501-4766-ae2b-e29bb6865d25 button.colab-df-convert');\n",
              "        buttonEl.style.display =\n",
              "          google.colab.kernel.accessAllowed ? 'block' : 'none';\n",
              "\n",
              "        async function convertToInteractive(key) {\n",
              "          const element = document.querySelector('#df-2b88e0b6-5501-4766-ae2b-e29bb6865d25');\n",
              "          const dataTable =\n",
              "            await google.colab.kernel.invokeFunction('convertToInteractive',\n",
              "                                                     [key], {});\n",
              "          if (!dataTable) return;\n",
              "\n",
              "          const docLinkHtml = 'Like what you see? Visit the ' +\n",
              "            '<a target=\"_blank\" href=https://colab.research.google.com/notebooks/data_table.ipynb>data table notebook</a>'\n",
              "            + ' to learn more about interactive tables.';\n",
              "          element.innerHTML = '';\n",
              "          dataTable['output_type'] = 'display_data';\n",
              "          await google.colab.output.renderOutput(dataTable, element);\n",
              "          const docLink = document.createElement('div');\n",
              "          docLink.innerHTML = docLinkHtml;\n",
              "          element.appendChild(docLink);\n",
              "        }\n",
              "      </script>\n",
              "    </div>\n",
              "  </div>\n",
              "  "
            ],
            "text/plain": [
              "readfict          yes   no   All\n",
              "reg16                           \n",
              "foreign            67   33   100\n",
              "new england        73   26    99\n",
              "middle atlantic   198   72   270\n",
              "e. nor. central   247   87   334\n",
              "w. nor. central   109   28   137\n",
              "south atlantic    178   98   276\n",
              "e. sou. central    90   45   135\n",
              "w. sou. central   123   53   176\n",
              "mountain           66   31    97\n",
              "pacific           154   36   190\n",
              "All              1305  509  1814"
            ]
          },
          "metadata": {},
          "execution_count": 186
        }
      ]
    },
    {
      "cell_type": "code",
      "source": [
        "pd.crosstab(\n",
        "    df_subset['reg16'], df_subset['readfict'], normalize='index').plot.barh(stacked=True);\n",
        "plt.legend(loc=\"upper center\", bbox_to_anchor=(0.5, 1.15), ncol=2, title=\"Read fiction?\");"
      ],
      "metadata": {
        "colab": {
          "base_uri": "https://localhost:8080/",
          "height": 293
        },
        "id": "7flPgprG_IyL",
        "outputId": "30bba228-f68a-4f69-ae3b-6c97613987f7"
      },
      "execution_count": 187,
      "outputs": [
        {
          "output_type": "display_data",
          "data": {
            "image/png": "[encoded data removed]",
            "text/plain": [
              "<Figure size 432x288 with 1 Axes>"
            ]
          },
          "metadata": {
            "needs_background": "light"
          }
        }
      ]
    },
    {
      "cell_type": "code",
      "source": [
        "# mutual information\n",
        "# Strategy:\n",
        "# 1. Calculate the table of Pr(X=x, Y=y) from empirical frequencies\n",
        "# 2. Calculate the marginal distributions Pr(X=x)Pr(Y=y)\n",
        "# 3. Combine above quantities to calculate the mutual information.\n",
        "\n",
        "joint = pd.crosstab(df_subset['reg16'], df_subset['readfict'], normalize='all')\n",
        "\n",
        "# construct a table of the same shape as joint with the relevant\n",
        "# values of Pr(X = x)Pr(Y = y)\n",
        "proba_readfict, proba_reg16 = joint.sum(axis=0), joint.sum(axis=1)\n",
        "denominator = np.outer(proba_reg16, proba_readfict)\n",
        "\n",
        "mutual_information = (joint * np.log(joint / denominator)).sum().sum()\n",
        "print(mutual_information)"
      ],
      "metadata": {
        "colab": {
          "base_uri": "https://localhost:8080/"
        },
        "id": "DSw3mpQ3_e2O",
        "outputId": "2cb4fdab-d5f8-4140-9997-f116876a0e0b"
      },
      "execution_count": 225,
      "outputs": [
        {
          "output_type": "stream",
          "name": "stdout",
          "text": [
            "0.006902379486166968\n"
          ]
        }
      ]
    },
    {
      "cell_type": "code",
      "source": [
        "url = 'https://raw.githubusercontent.com/wolframalexa/humanities-data-analysis/main/5-stats/tate.csv.gz'\n",
        "data = urllib.request.urlopen(url);\n",
        "data = gzip.open(data)\n",
        "\n",
        "tate = pd.read_csv(data)\n",
        "# remove objects for which no suitable year information is given:\n",
        "tate = tate[tate['year'].notnull()]\n",
        "tate = tate[tate['year'].str.isdigit()]\n",
        "tate['year'] = tate['year'].astype('int')"
      ],
      "metadata": {
        "colab": {
          "base_uri": "https://localhost:8080/"
        },
        "id": "yWEZTuc1_y2R",
        "outputId": "cb8ecd8e-cdf7-4a6d-940d-d7e21ec0ac11"
      },
      "execution_count": 189,
      "outputs": [
        {
          "output_type": "stream",
          "name": "stderr",
          "text": [
            "/usr/local/lib/python3.7/dist-packages/ipykernel_launcher.py:9: SettingWithCopyWarning: \n",
            "A value is trying to be set on a copy of a slice from a DataFrame.\n",
            "Try using .loc[row_indexer,col_indexer] = value instead\n",
            "\n",
            "See the caveats in the documentation: https://pandas.pydata.org/pandas-docs/stable/user_guide/indexing.html#returning-a-view-versus-a-copy\n",
            "  if __name__ == '__main__':\n"
          ]
        }
      ]
    },
    {
      "cell_type": "code",
      "source": [
        "# my code\n",
        "# Easy\n",
        "\n",
        "mean_width = tate['width'].mean()\n",
        "med_width = tate['width'].median()\n",
        "mean_height = tate['height'].mean()\n",
        "med_height = tate['height'].median()\n",
        "\n",
        "tate['area'] = tate['width'] * tate['height']\n",
        "mean_area = tate['area'].mean()\n",
        "med_area = tate['area'].median()\n",
        "\n",
        "print(\"Width: Median (\", med_width, \"), Mean (\", mean_width, \")\")\n",
        "print(\"Height: Median (\", med_height, \"), Mean (\", mean_height, \")\")\n",
        "print(\"Area: Median (\", med_area, \"), Mean (\", mean_area, \")\")"
      ],
      "metadata": {
        "colab": {
          "base_uri": "https://localhost:8080/"
        },
        "id": "hdO_YChV_t71",
        "outputId": "1fa70f9c-32da-4c2c-d6e1-d2ba7d7ada33"
      },
      "execution_count": 190,
      "outputs": [
        {
          "output_type": "stream",
          "name": "stdout",
          "text": [
            "Width: Median ( 189.0 ), Mean ( 320.9543617578924 )\n",
            "Height: Median ( 172.0 ), Mean ( 301.2784118771031 )\n",
            "Area: Median ( 25750.0 ), Mean ( 219918.85831684674 )\n"
          ]
        },
        {
          "output_type": "stream",
          "name": "stderr",
          "text": [
            "/usr/local/lib/python3.7/dist-packages/ipykernel_launcher.py:9: SettingWithCopyWarning: \n",
            "A value is trying to be set on a copy of a slice from a DataFrame.\n",
            "Try using .loc[row_indexer,col_indexer] = value instead\n",
            "\n",
            "See the caveats in the documentation: https://pandas.pydata.org/pandas-docs/stable/user_guide/indexing.html#returning-a-view-versus-a-copy\n",
            "  if __name__ == '__main__':\n"
          ]
        }
      ]
    },
    {
      "cell_type": "markdown",
      "source": [
        "The median is likely a better statistic since a few very large paintings will skew the mean, particularly in area because of the quadratic."
      ],
      "metadata": {
        "id": "aToLhN63BR5H"
      }
    },
    {
      "cell_type": "code",
      "source": [
        "tate['width_log10'] = np.log10(tate['width'])\n",
        "tate['width_log10'].plot(kind='hist', bins=30)\n",
        "plt.title(\"Width Histogram\")\n",
        "plt.xlabel(\"Log(width)\")"
      ],
      "metadata": {
        "colab": {
          "base_uri": "https://localhost:8080/",
          "height": 417
        },
        "id": "OilAHbqaBmP9",
        "outputId": "bf30be61-e123-4730-e9c8-fc21edf5fab6"
      },
      "execution_count": 191,
      "outputs": [
        {
          "output_type": "stream",
          "name": "stderr",
          "text": [
            "/usr/local/lib/python3.7/dist-packages/ipykernel_launcher.py:1: SettingWithCopyWarning: \n",
            "A value is trying to be set on a copy of a slice from a DataFrame.\n",
            "Try using .loc[row_indexer,col_indexer] = value instead\n",
            "\n",
            "See the caveats in the documentation: https://pandas.pydata.org/pandas-docs/stable/user_guide/indexing.html#returning-a-view-versus-a-copy\n",
            "  \"\"\"Entry point for launching an IPython kernel.\n"
          ]
        },
        {
          "output_type": "execute_result",
          "data": {
            "text/plain": [
              "Text(0.5, 0, 'Log(width)')"
            ]
          },
          "metadata": {},
          "execution_count": 191
        },
        {
          "output_type": "display_data",
          "data": {
            "image/png": "[encoded data removed]",
            "text/plain": [
              "<Figure size 432x288 with 1 Axes>"
            ]
          },
          "metadata": {
            "needs_background": "light"
          }
        }
      ]
    },
    {
      "cell_type": "code",
      "source": [
        "tate['area_log10'] = np.log10(tate['area'])\n",
        "tate['area_log10'].plot(kind='hist', bins=30)\n",
        "plt.title(\"Area Histogram\")\n",
        "plt.xlabel(\"Log(Area)\")"
      ],
      "metadata": {
        "colab": {
          "base_uri": "https://localhost:8080/",
          "height": 312
        },
        "id": "5Fv6r3TmCQGC",
        "outputId": "29cce7fb-4ff4-4c11-860f-ab5e2db73390"
      },
      "execution_count": 192,
      "outputs": [
        {
          "output_type": "execute_result",
          "data": {
            "text/plain": [
              "Text(0.5, 0, 'Log(Area)')"
            ]
          },
          "metadata": {},
          "execution_count": 192
        },
        {
          "output_type": "display_data",
          "data": {
            "image/png": "[encoded data removed]",
            "text/plain": [
              "<Figure size 432x288 with 1 Axes>"
            ]
          },
          "metadata": {
            "needs_background": "light"
          }
        }
      ]
    },
    {
      "cell_type": "code",
      "source": [
        "tate['height_log10'] = np.log10(tate['height'])\n",
        "tate['height_log10'].plot(kind='hist', bins=30)\n",
        "plt.title(\"Height Histogram\")\n",
        "plt.xlabel(\"Log(height)\")"
      ],
      "metadata": {
        "colab": {
          "base_uri": "https://localhost:8080/",
          "height": 312
        },
        "id": "EstUKNZ0Ca4m",
        "outputId": "2bf584a7-9233-4a5c-deee-af5e1cfcacf8"
      },
      "execution_count": 193,
      "outputs": [
        {
          "output_type": "execute_result",
          "data": {
            "text/plain": [
              "Text(0.5, 0, 'Log(height)')"
            ]
          },
          "metadata": {},
          "execution_count": 193
        },
        {
          "output_type": "display_data",
          "data": {
            "image/png": "[encoded data removed]",
            "text/plain": [
              "<Figure size 432x288 with 1 Axes>"
            ]
          },
          "metadata": {
            "needs_background": "light"
          }
        }
      ]
    },
    {
      "cell_type": "code",
      "source": [
        "# compute range of height/width\n",
        "range_height = tate['height'].max() - tate['height'].min()\n",
        "range_width = tate['width'].max() - tate['width'].min()\n",
        "print(\"Height:\", range_height)\n",
        "print(\"Width:\", range_width)"
      ],
      "metadata": {
        "colab": {
          "base_uri": "https://localhost:8080/"
        },
        "id": "iFnifB9VCqG7",
        "outputId": "41bce7f9-f0fd-4ed2-d416-8ce65acd5620"
      },
      "execution_count": 194,
      "outputs": [
        {
          "output_type": "stream",
          "name": "stdout",
          "text": [
            "Height: 8917\n",
            "Width: 19979\n"
          ]
        }
      ]
    },
    {
      "cell_type": "markdown",
      "source": [
        "Range is a useful parameter to understand the dispersion of the data and the different scales of paintings that exist - however the maximum height and width likely occur for different paintings so presenting the data like so could be misleading."
      ],
      "metadata": {
        "id": "p-G-KwbJDQLg"
      }
    },
    {
      "cell_type": "code",
      "source": [
        "# Moderate\n",
        "plt.scatter(tate['year'], tate['area_log10'], alpha=0.1)\n",
        "plt.xlabel(\"Year\")\n",
        "plt.ylabel(\"Work Area (log10)\")"
      ],
      "metadata": {
        "colab": {
          "base_uri": "https://localhost:8080/",
          "height": 296
        },
        "id": "BjBURnCeDhfA",
        "outputId": "07cce183-6c80-4f82-a261-04078e5903a6"
      },
      "execution_count": 195,
      "outputs": [
        {
          "output_type": "execute_result",
          "data": {
            "text/plain": [
              "Text(0, 0.5, 'Work Area (log10)')"
            ]
          },
          "metadata": {},
          "execution_count": 195
        },
        {
          "output_type": "display_data",
          "data": {
            "image/png": "[encoded data removed]",
            "text/plain": [
              "<Figure size 432x288 with 1 Axes>"
            ]
          },
          "metadata": {
            "needs_background": "light"
          }
        }
      ]
    },
    {
      "cell_type": "markdown",
      "source": [
        "In the second half of the 19th century, there are more artworks, as evidenced by a denser dot population. The artworks that do exist also have more varied and extreme sizes."
      ],
      "metadata": {
        "id": "Xk8ce7SgGNDM"
      }
    },
    {
      "cell_type": "code",
      "source": [
        "# split into before and after 1950\n",
        "tate_after_50 = tate[tate['year'] > 1950]\n",
        "tate_bef_50 = tate[tate['year'] <= 1950]\n",
        "data_to_plot = [tate_after_50['area_log10'], tate_bef_50['area_log10']]\n",
        "\n",
        "fig, ax = plt.subplots()\n",
        "bp = ax.boxplot(data_to_plot)\n",
        "ax.set_xticklabels(['After 1950', 'Before 1950'])\n",
        "plt.ylabel(\"Area (log10)\")\n",
        "plt.show()"
      ],
      "metadata": {
        "colab": {
          "base_uri": "https://localhost:8080/",
          "height": 320
        },
        "id": "skZutadaGfkZ",
        "outputId": "debc82bf-a9a3-4261-cc79-e3dd0459489c"
      },
      "execution_count": 196,
      "outputs": [
        {
          "output_type": "stream",
          "name": "stderr",
          "text": [
            "/usr/local/lib/python3.7/dist-packages/numpy/core/_asarray.py:83: VisibleDeprecationWarning: Creating an ndarray from ragged nested sequences (which is a list-or-tuple of lists-or-tuples-or ndarrays with different lengths or shapes) is deprecated. If you meant to do this, you must specify 'dtype=object' when creating the ndarray\n",
            "  return array(a, dtype, copy=False, order=order)\n"
          ]
        },
        {
          "output_type": "display_data",
          "data": {
            "image/png": "[encoded data removed]",
            "text/plain": [
              "<Figure size 432x288 with 1 Axes>"
            ]
          },
          "metadata": {
            "needs_background": "light"
          }
        }
      ]
    },
    {
      "cell_type": "markdown",
      "source": [
        "Before 1950, paintings tended to be smaller. We notice, however, that there are a considerable number of outliers that, if included, may raise the mean and median painting area prior to 1950."
      ],
      "metadata": {
        "id": "UmVyHr0PIzKn"
      }
    },
    {
      "cell_type": "code",
      "source": [
        "import matplotlib\n",
        "\n",
        "def create_rectangle(width, height):\n",
        "  return matplotlib.patches.Rectangle(\n",
        "      (-(width / 2), -(height / 2)), width, height,\n",
        "      fill=False, alpha=0.1)\n",
        "\n",
        "fig, ax = plt.subplots(figsize=(6,6))\n",
        "row = tate.sample(n=1).iloc[0]\n",
        "ax.add_patch(create_rectangle(row['width'], row['height']))\n",
        "ax.set(xlim=(-4000,4000), ylim=(-4000,4000))"
      ],
      "metadata": {
        "colab": {
          "base_uri": "https://localhost:8080/",
          "height": 395
        },
        "id": "U1qT2gk6JDtE",
        "outputId": "e4a98fe1-2d79-40e3-e2d3-547d53e9a5ea"
      },
      "execution_count": 197,
      "outputs": [
        {
          "output_type": "execute_result",
          "data": {
            "text/plain": [
              "[(-4000.0, 4000.0), (-4000.0, 4000.0)]"
            ]
          },
          "metadata": {},
          "execution_count": 197
        },
        {
          "output_type": "display_data",
          "data": {
            "image/png": "[encoded data removed]",
            "text/plain": [
              "<Figure size 432x432 with 1 Axes>"
            ]
          },
          "metadata": {
            "needs_background": "light"
          }
        }
      ]
    },
    {
      "cell_type": "code",
      "source": [
        "fig, ax = plt.subplots(figsize=(6,6))\n",
        "row = tate_after_50.sample(n=2000)\n",
        "for i in range(0,2000):\n",
        "  element = row.iloc[i]\n",
        "  ax.add_patch(create_rectangle(element['width'], element['height']))\n",
        "ax.set(xlim=(-4000,4000), ylim=(-4000,4000))\n",
        "plt.title(\"Artworks after 1950\")"
      ],
      "metadata": {
        "colab": {
          "base_uri": "https://localhost:8080/",
          "height": 407
        },
        "id": "vE2dTkk5Lkuu",
        "outputId": "4a38bfa6-70fe-4095-c488-98c9aab18032"
      },
      "execution_count": 198,
      "outputs": [
        {
          "output_type": "execute_result",
          "data": {
            "text/plain": [
              "Text(0.5, 1.0, 'Artworks after 1950')"
            ]
          },
          "metadata": {},
          "execution_count": 198
        },
        {
          "output_type": "display_data",
          "data": {
            "image/png": "[encoded data removed]",
            "text/plain": [
              "<Figure size 432x432 with 1 Axes>"
            ]
          },
          "metadata": {
            "needs_background": "light"
          }
        }
      ]
    },
    {
      "cell_type": "code",
      "source": [
        "fig, ax = plt.subplots(figsize=(6,6))\n",
        "row = tate_bef_50.sample(n=2000)\n",
        "for i in range(0,2000):\n",
        "  element = row.iloc[i]\n",
        "  ax.add_patch(create_rectangle(element['width'], element['height']))\n",
        "ax.set(xlim=(-4000,4000), ylim=(-4000,4000))\n",
        "plt.title(\"Artworks before 1950\")"
      ],
      "metadata": {
        "colab": {
          "base_uri": "https://localhost:8080/",
          "height": 407
        },
        "id": "LeRpYqHUMHv1",
        "outputId": "c233bb5b-e986-4015-9068-d05a6c6da219"
      },
      "execution_count": 199,
      "outputs": [
        {
          "output_type": "execute_result",
          "data": {
            "text/plain": [
              "Text(0.5, 1.0, 'Artworks before 1950')"
            ]
          },
          "metadata": {},
          "execution_count": 199
        },
        {
          "output_type": "display_data",
          "data": {
            "image/png": "[encoded data removed]",
            "text/plain": [
              "<Figure size 432x432 with 1 Axes>"
            ]
          },
          "metadata": {
            "needs_background": "light"
          }
        }
      ]
    },
    {
      "cell_type": "markdown",
      "source": [
        "This visualization shows what the boxplot hints at - paintings have gotten far bigger and more extreme after 1950."
      ],
      "metadata": {
        "id": "tWH3PLN5MPhC"
      }
    },
    {
      "cell_type": "code",
      "source": [
        "# Challenging\n",
        "# entropy of different artists\n",
        "# tate['artist'].apply(lambda x: scipy.stats.entropy(x))\n",
        "\n",
        "all_artists = list(collections.Counter(tate['artist']).values())\n",
        "H = scipy.stats.entropy(all_artists)\n",
        "print(f'Artist entropy: {H:.1f}')"
      ],
      "metadata": {
        "colab": {
          "base_uri": "https://localhost:8080/"
        },
        "id": "ZSM6zxKiMZPg",
        "outputId": "60703b70-767a-4e41-dff3-1dcca5323ef1"
      },
      "execution_count": 200,
      "outputs": [
        {
          "output_type": "stream",
          "name": "stdout",
          "text": [
            "Artist entropy: 2.9\n"
          ]
        }
      ]
    },
    {
      "cell_type": "code",
      "source": [
        "post50_artists = list(collections.Counter(tate_after_50['artist']).values())\n",
        "H_post50 = scipy.stats.entropy(post50_artists)\n",
        "\n",
        "pre50_artists = list(collections.Counter(tate_bef_50['artist']).values())\n",
        "H_pre50 = scipy.stats.entropy(pre50_artists)\n",
        "print(f'Artist entropy before 1950: {H_pre50:.1f}')\n",
        "print(f'Artist entropy after 1950: {H_post50:.1f}')"
      ],
      "metadata": {
        "colab": {
          "base_uri": "https://localhost:8080/"
        },
        "id": "AklyJajGNChZ",
        "outputId": "578b6b42-6fa3-4f93-805d-453bf1e69c9d"
      },
      "execution_count": 201,
      "outputs": [
        {
          "output_type": "stream",
          "name": "stdout",
          "text": [
            "Artist entropy before 1950: 1.4\n",
            "Artist entropy after 1950: 5.9\n"
          ]
        }
      ]
    },
    {
      "cell_type": "markdown",
      "source": [
        "After 1950, the artists in the Tate's collection become more diverse. This can be attributed to better conservation practices, increased diversity of artists (due to the increased participation of artists from different regions, cultural groups, genders, etc), and easier acquisition of contemporary art."
      ],
      "metadata": {
        "id": "yLMgat5TNb86"
      }
    },
    {
      "cell_type": "code",
      "source": [
        "numrows = tate.shape[0]\n",
        "emotions = np.zeros(numrows,)\n",
        "concepts = np.zeros(numrows,)\n",
        "nature = np.zeros(numrows,)\n",
        "abstraction = np.zeros(numrows,)\n",
        "\n",
        "tate = tate.dropna(subset=['subject'])\n",
        "\n",
        "i = 0\n",
        "for index, row in tate.iterrows():\n",
        "  subjects = row['subject'].split(',')\n",
        "  if 'emotions' in subjects:\n",
        "    emotions[i] += 1\n",
        "  if ' concepts and ideas' in subjects:\n",
        "    concepts[i] += 1\n",
        "  if 'abstraction' in subjects:\n",
        "    abstraction[i] += 1\n",
        "  if 'nature' in subjects:\n",
        "    nature[i] += 1\n",
        "  i += 1"
      ],
      "metadata": {
        "id": "miZS7ukZTAx5"
      },
      "execution_count": 243,
      "outputs": []
    },
    {
      "cell_type": "code",
      "source": [
        "# calculate mutual information\n",
        "tate['is_emotion'] = emotions\n",
        "tate['is_concepts'] = concepts\n",
        "\n",
        "table = pd.crosstab(tate['is_emotion'], tate['is_concepts'], normalize='all')\n",
        "\n",
        "prob_emotion, prob_concepts = table.sum(axis=0), table.sum(axis=1)\n",
        "denominator = np.outer(prob_emotion, prob_concepts)\n",
        "mutual_information = (table * np.log(table / denominator)).sum().sum()\n",
        "print(mutual_information)"
      ],
      "metadata": {
        "colab": {
          "base_uri": "https://localhost:8080/"
        },
        "id": "QPijxWcMN71c",
        "outputId": "a8f04a97-d49c-4bce-fa6a-c1d875b76fcb"
      },
      "execution_count": 242,
      "outputs": [
        {
          "output_type": "stream",
          "name": "stdout",
          "text": [
            "0.39016091147325327\n"
          ]
        },
        {
          "output_type": "stream",
          "name": "stderr",
          "text": [
            "/usr/local/lib/python3.7/dist-packages/ipykernel_launcher.py:9: RuntimeWarning: divide by zero encountered in log\n",
            "  if __name__ == '__main__':\n"
          ]
        }
      ]
    },
    {
      "cell_type": "code",
      "source": [
        "# calculate mutual information for nature and abstraction\n",
        "tate['is_nature'] = nature\n",
        "tate['is_abstract'] = abstraction\n",
        "\n",
        "table = pd.crosstab(tate['is_nature'], tate['is_abstract'], normalize='all')\n",
        "\n",
        "prob_nature, prob_abstract = table.sum(axis=0), table.sum(axis=1)\n",
        "denominator = np.outer(prob_nature, prob_abstract)\n",
        "mutual_information = (table * np.log(table / denominator)).sum().sum()\n",
        "print(mutual_information)\n",
        "\n",
        "# I wish I had read the hint sooner about converting to document term matrix"
      ],
      "metadata": {
        "colab": {
          "base_uri": "https://localhost:8080/"
        },
        "id": "Fwe138IazKnm",
        "outputId": "7bfcafe6-b469-48d4-fdda-a0c38c085b9f"
      },
      "execution_count": 244,
      "outputs": [
        {
          "output_type": "stream",
          "name": "stdout",
          "text": [
            "1.293857857452025\n"
          ]
        }
      ]
    },
    {
      "cell_type": "markdown",
      "source": [
        "High mutual information means that emotions and concepts are often present in the same work."
      ],
      "metadata": {
        "id": "_Gd9vyJ6y5qk"
      }
    },
    {
      "cell_type": "code",
      "source": [
        "# people prefer to make 4x3 artwork\n",
        "tate['ratio'] = tate['height']/tate['width']\n",
        "\n",
        "works_4by3 = tate[(tate['ratio'] < 1.4) & (tate['ratio'] > 1.3) | ((tate['ratio'] < 0.78) & (tate['ratio'] > 0.7))]\n",
        "percent_4by3 = works_4by3.shape[0]/tate.shape[0]\n",
        "print(percent_4by3)"
      ],
      "metadata": {
        "colab": {
          "base_uri": "https://localhost:8080/"
        },
        "id": "YZxHQc6XuQVj",
        "outputId": "5d9b594e-72ce-40b4-d5c9-57310a4c3e6d"
      },
      "execution_count": 256,
      "outputs": [
        {
          "output_type": "stream",
          "name": "stdout",
          "text": [
            "0.2236080802418467\n"
          ]
        }
      ]
    },
    {
      "cell_type": "markdown",
      "source": [
        "Only 22% of works are in a 4/3 ratio, which does not seem like an overwhelming preference."
      ],
      "metadata": {
        "id": "voPYZeVw0d5q"
      }
    },
    {
      "cell_type": "code",
      "source": [
        "# more tall pieces than wide pieces\n",
        "\n",
        "tate['tall'] = (tate['height'] > tate['width'])\n",
        "tate['wide'] = (tate['height'] < tate['width'])\n",
        "\n",
        "tate.tall.value_counts()"
      ],
      "metadata": {
        "colab": {
          "base_uri": "https://localhost:8080/"
        },
        "id": "3sRi50t2XFsy",
        "outputId": "63546930-f3f7-4d87-cbb9-f7414d48aaf6"
      },
      "execution_count": 260,
      "outputs": [
        {
          "output_type": "execute_result",
          "data": {
            "text/plain": [
              "False    28374\n",
              "True     21575\n",
              "Name: tall, dtype: int64"
            ]
          },
          "metadata": {},
          "execution_count": 260
        }
      ]
    },
    {
      "cell_type": "code",
      "source": [
        "tate.wide.value_counts()"
      ],
      "metadata": {
        "colab": {
          "base_uri": "https://localhost:8080/"
        },
        "id": "EHWORN631Rtg",
        "outputId": "3c0cca8c-116b-48a3-c262-2a2cb593fb5f"
      },
      "execution_count": 261,
      "outputs": [
        {
          "output_type": "execute_result",
          "data": {
            "text/plain": [
              "True     27683\n",
              "False    22266\n",
              "Name: wide, dtype: int64"
            ]
          },
          "metadata": {},
          "execution_count": 261
        }
      ]
    },
    {
      "cell_type": "markdown",
      "source": [
        "There are approximately the same number of tall and wide paintings - if anything, there are more wide than tall paintings. I think this would be due to painting landscapes."
      ],
      "metadata": {
        "id": "r7F2RGWf1UDA"
      }
    },
    {
      "cell_type": "code",
      "source": [
        "# people are using the golden ratio\n",
        "x = np.arange(100)\n",
        "golden = np.log(1/1.681 * x) # golden ratio for tall paintings\n",
        "golden2 = np.log(1.681 * x) # golden ratio for wide paintings\n",
        "\n",
        "plt.scatter(tate['height_log10'], tate['width_log10'], alpha=0.2)\n",
        "plt.plot(np.log(x), golden)\n",
        "plt.plot(np.log(x), golden2)\n",
        "plt.xlabel(\"Height (log10)\")\n",
        "plt.ylabel(\"Width (log10)\")"
      ],
      "metadata": {
        "colab": {
          "base_uri": "https://localhost:8080/",
          "height": 435
        },
        "id": "IaK740S-1d9t",
        "outputId": "36acfe44-37f0-4f79-8851-196192648941"
      },
      "execution_count": 274,
      "outputs": [
        {
          "output_type": "stream",
          "name": "stderr",
          "text": [
            "/usr/local/lib/python3.7/dist-packages/ipykernel_launcher.py:3: RuntimeWarning: divide by zero encountered in log\n",
            "  This is separate from the ipykernel package so we can avoid doing imports until\n",
            "/usr/local/lib/python3.7/dist-packages/ipykernel_launcher.py:4: RuntimeWarning: divide by zero encountered in log\n",
            "  after removing the cwd from sys.path.\n",
            "/usr/local/lib/python3.7/dist-packages/ipykernel_launcher.py:7: RuntimeWarning: divide by zero encountered in log\n",
            "  import sys\n",
            "/usr/local/lib/python3.7/dist-packages/ipykernel_launcher.py:8: RuntimeWarning: divide by zero encountered in log\n",
            "  \n"
          ]
        },
        {
          "output_type": "execute_result",
          "data": {
            "text/plain": [
              "Text(0, 0.5, 'Width (log10)')"
            ]
          },
          "metadata": {},
          "execution_count": 274
        },
        {
          "output_type": "display_data",
          "data": {
            "image/png": "[encoded data removed]",
            "text/plain": [
              "<Figure size 432x288 with 1 Axes>"
            ]
          },
          "metadata": {
            "needs_background": "light"
          }
        }
      ]
    },
    {
      "cell_type": "markdown",
      "source": [
        "Most paintings, whether wide or tall, are close to the golden ratio."
      ],
      "metadata": {
        "id": "83S_XRXM2lPp"
      }
    }
  ]
}